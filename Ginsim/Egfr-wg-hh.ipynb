{
 "cells": [
  {
   "cell_type": "markdown",
   "metadata": {},
   "source": [
    "## Logical modeling of neuroectoderm specification in fruit flies\n",
    "\n",
    "Egfr signaling is one of the signaling networks regulating fruit fly neuroectoderm development. Given the complexity of signaling networks as well as the amount of information to be integrated, a logical model of Egfr signaling will provide a better understanding of how developmental signals combine to control cellular states.\n",
    "\n",
    "\n",
    "This project implements CoLoMoTo Interactive Notebook to provide a reprodicible and executable analyses. The workflow used as follows:\n",
    "\n",
    "(1) the importation of a GINsim model and its display, (2) its format conversion using the Java library BioLQM, (3) the formal prediction of mutations using the OCaml software Pint, (4) the model checking using the C++ software NuSMV, (5) quantitative stochastic simulations using the C++ software MaBoSS, and (6) the visualisation of results using the Python library matplotlib. "
   ]
  },
  {
   "cell_type": "markdown",
   "metadata": {},
   "source": [
    "### Visualization of Egfr pathway with GINsim"
   ]
  },
  {
   "cell_type": "code",
   "execution_count": 2,
   "metadata": {},
   "outputs": [
    {
     "data": {
      "text/markdown": [
       "This notebook has been executed using the docker image `colomoto/colomoto-docker:2021-02-01`"
      ],
      "text/plain": [
       "<IPython.core.display.Markdown object>"
      ]
     },
     "metadata": {},
     "output_type": "display_data"
    }
   ],
   "source": [
    "# Set up working environment for CoLoMoTo\n",
    "%matplotlib inline\n",
    "import numpy as np\n",
    "import sys\n",
    "import matplotlib as mpl\n",
    "import matplotlib.pyplot as plt\n",
    "import pandas as pd\n",
    "import numpy as np\n",
    "from pandas import DataFrame\n",
    "import seaborn as sns\n",
    "import re\n",
    "import pprint\n",
    "from collections import Counter\n",
    "#import matplotlib.pyplot as plt\n",
    "import seaborn as sns; sns.set()\n",
    "\n",
    "# Tools necessary to run and perturb the model\n",
    "import ginsim \n",
    "import biolqm\n",
    "import pypint\n",
    "import maboss\n",
    "\n",
    "# Tools necessary to format and plot results of simulations\n",
    "from colomoto_jupyter import tabulate # for fixpoint table display\n",
    "from itertools import combinations # for iterating over sets\n",
    "import matplotlib.pyplot as plt # for modifying plots\n",
    "import pandas as pd # for the visualization of lists of states\n"
   ]
  },
  {
   "cell_type": "markdown",
   "metadata": {},
   "source": [
    "## Import model from github repository\n",
    "\n",
    "Logical model of Egfr signaling can be directly loaded from my github repository at https://github.com/ozlembahar/DevelopmentalSignaling/blob/master/Ginsim/Egfr-core-(p)Gro.zginml."
   ]
  },
  {
   "cell_type": "code",
   "execution_count": 5,
   "metadata": {},
   "outputs": [
    {
     "data": {
      "text/html": [
       "Using local file <a href='Egfr-core-(p)Gro.zginml' target='_blank'>Egfr-core-(p)Gro.zginml</a><br>"
      ],
      "text/plain": [
       "/notebook/Egfr-core-(p)Gro.zginml"
      ]
     },
     "metadata": {},
     "output_type": "display_data"
    },
    {
     "data": {
      "text/markdown": [
       "1 state(s) have been registered: initState_all"
      ],
      "text/plain": [
       "<IPython.core.display.Markdown object>"
      ]
     },
     "metadata": {},
     "output_type": "display_data"
    },
    {
     "data": {
      "text/html": [
       "Using local file <a href='Egfr-core-(p)Gro.zginml' target='_blank'>Egfr-core-(p)Gro.zginml</a><br>"
      ],
      "text/plain": [
       "/notebook/Egfr-core-(p)Gro.zginml"
      ]
     },
     "metadata": {},
     "output_type": "display_data"
    },
    {
     "data": {
      "text/html": [
       "<img class=\"unconfined\" width=\"573px\" src=\"data:image/svg+xml;base64,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\">"
      ],
      "text/plain": [
       "<IPython.core.display.HTML object>"
      ]
     },
     "execution_count": 5,
     "metadata": {},
     "output_type": "execute_result"
    }
   ],
   "source": [
    "#Load the model\n",
    "lrg_ppt = pypint.load(\"https://github.com/ozlembahar/DevelopmentalSignaling/blob/master/Ginsim/Egfr-core-(p)Gro.zginml\")\n",
    "info_lrg = lrg_ppt.summary()\n",
    "pd.DataFrame([['nb_states',info_lrg['nb_states']],['nb_automata',info_lrg['nb_automata']],['nb_transitions',info_lrg['nb_transitions']]], columns=['Item','Number'])\n",
    "\n",
    "gs_model = ginsim.load(\"https://github.com/ozlembahar/DevelopmentalSignaling/blob/master/Ginsim/Egfr-core-(p)Gro.zginml\")\n",
    "lqm_model = ginsim.to_biolqm(gs_model)\n",
    "# Display the regulatory graph as specified in the model file\n",
    "ginsim.show(gs_model)"
   ]
  },
  {
   "cell_type": "markdown",
   "metadata": {},
   "source": [
    "In this regulatory graph, green arrows and red T arrows respectively denote activatory and inhibitory interactions. A set of rules combining the vertices with the Boolean operators NOT, AND, and OR, which must be consistent with the regulatory graph, then allows the computation of enabled transitions for each network state."
   ]
  },
  {
   "attachments": {
    "image.png": {
     "image/png": "[encoded data removed]"
    }
   },
   "cell_type": "markdown",
   "metadata": {},
   "source": [
    "## Boolean functions of the Egfr pathway\n",
    "\n",
    "\n",
    "![image.png](attachment:image.png)"
   ]
  },
  {
   "cell_type": "markdown",
   "metadata": {},
   "source": [
    "Boolean functions of the each of the 12 components summarized in a table."
   ]
  },
  {
   "cell_type": "markdown",
   "metadata": {},
   "source": [
    "## Helper functions\n",
    "\n",
    "Some helper functions and color mapping rules to perform value propagation and visualize the result."
   ]
  },
  {
   "cell_type": "code",
   "execution_count": 6,
   "metadata": {},
   "outputs": [],
   "source": [
    "# Transforms a dictionary into a dash-like pattern used for space restrictions.\n",
    "# If a model has 4 components A, B, C, D in this order,\n",
    "#  {A:0, D:1} => \"0--1\"\n",
    "def dash_pattern(model, dict_vals):\n",
    "    specific_comps = dict_vals.keys()\n",
    "    str_pattern = \"\"\n",
    "    for comp in model.getComponents():\n",
    "        if comp.toString() in specific_comps:\n",
    "            str_pattern += str(dict_vals.get(comp.toString()))\n",
    "        else :\n",
    "            str_pattern += \"-\"\n",
    "    return(str_pattern)\n",
    "\n",
    "def restrict_model(model, **dict_vals):\n",
    "    pattern = dash_pattern(lqm_model, dict_vals)\n",
    "    return biolqm.restrict(lqm_model, pattern)\n",
    "\n",
    "def fill_fixed(data, names, functions, mddman):\n",
    "    all_values = [f for f in functions]\n",
    "    for comp, func in zip(names, functions):\n",
    "        if mddman.isleaf(func): data[comp] = func\n",
    "        else: data[comp] = -1\n",
    "    \n",
    "\n",
    "def get_fixed_pattern(all_names, model, as_dict=False):\n",
    "    # Build a container for the results\n",
    "    pattern = {key: 100 for key in all_names}\n",
    "    \n",
    "    # Model manager and core components\n",
    "    mddman = model.getMDDManager()\n",
    "    core_components = [node.getNodeID() for node in model.getComponents()]\n",
    "    extra_components = [node.getNodeID() for node in model.getExtraComponents()]\n",
    "    \n",
    "    # 1/ Non-extra values: if the model was not reduced, core components may also contain fixed values\n",
    "    fill_fixed(pattern, core_components, model.getLogicalFunctions(), mddman)\n",
    "\n",
    "    # Special value for input components\n",
    "    for node in model.getComponents():\n",
    "        if node.isInput():\n",
    "            pattern[node.getNodeID()] = -2\n",
    "\n",
    "    \n",
    "    # 2/ Extra values : only available after reduction/percolation\n",
    "    # Functions of each component\n",
    "    fill_fixed(pattern, extra_components, model.getExtraLogicalFunctions(), mddman)\n",
    "\n",
    "    if as_dict: return pattern\n",
    "    return pd.Series(pattern, dtype=np.byte).values.tobytes()\n",
    "\n",
    "def compare_fixed_pattern(all_names, model1, model2, as_dict=False):\n",
    "    pattern1 = get_fixed_pattern(all_names, model1, as_dict=True)\n",
    "    pattern2 = get_fixed_pattern(all_names, model2, as_dict=True)\n",
    "    \n",
    "    pattern = {}\n",
    "    for c in pattern1:\n",
    "        v1 = pattern1[c]\n",
    "        v2 = pattern2[c]\n",
    "        \n",
    "        if v1 == v2: pattern[c] = v1\n",
    "        elif v1 < 0: pattern[c] = 10 + v2\n",
    "        elif v2 < 0: pattern[c] = 20 + v1\n",
    "        else: pattern[c] = 100\n",
    "\n",
    "    if as_dict: return pattern\n",
    "    return pd.Series(pattern, dtype=np.byte).values.tobytes()\n",
    "\n",
    "\n",
    "def show_fixed_comparison(gs_model, restricted_model1, restricted_model2, styler, save=None):\n",
    "    name_components = [ n.getId() for n in gs_model.getNodeOrder() ]\n",
    "    pattern = compare_fixed_pattern(name_components, restricted_model1, restricted_model2)\n",
    "    styler.setState( pattern )\n",
    "    return ginsim.show(gs_model, style=styler, save=save)    \n",
    "\n",
    "\n",
    "def show_fixed(gs_model, restricted_model, styler, save=None):\n",
    "    name_components = [ n.getId() for n in gs_model.getNodeOrder() ]\n",
    "    fixed_pattern = get_fixed_pattern(name_components, restricted_model)\n",
    "    styler.setState(fixed_pattern)\n",
    "    return ginsim.show(gs_model, style=styler, save=save)\n",
    "\n",
    "\n",
    "# Define color mapping rules\n",
    "\n",
    "# Style for a single fixed pattern\n",
    "styler_fixed = ginsim.lrg_style(gs_model)\n",
    "styler_fixed.mapState2Color(0, 200, 25, 25)\n",
    "styler_fixed.mapState2Color(1, 100, 175, 100)\n",
    "styler_fixed.mapState2Color(2, 100, 225, 100)\n",
    "styler_fixed.mapState2Color(-1, 255, 255, 255)\n",
    "styler_fixed.mapState2Color(-2, 175, 175, 175)\n",
    "\n",
    "\n",
    "# Style for comparing two patterns\n",
    "styler_comp = ginsim.lrg_style(gs_model)\n",
    "styler_comp.mapState2Color(-2, 175, 175, 175) # INPUT: gray\n",
    "styler_comp.mapState2Color(0, 255, 255, 180)  # OFF  in both: light yellow\n",
    "styler_comp.mapState2Color(1, 255, 180, 120)  # ON   in both: light orange\n",
    "styler_comp.mapState2Color(2, 255, 180, 120)  # HIGH in both: light orange\n",
    "styler_comp.mapState2Color(-1, 255, 255, 255) # FREE in both: white\n",
    "styler_comp.mapState2Color(10, 200, 255, 200) # OFF in the first: light green\n",
    "styler_comp.mapState2Color(11, 125, 200, 125) # ON  in the first: dark green\n",
    "styler_comp.mapState2Color(20, 200, 200, 255) # OFF in the second: light green\n",
    "styler_comp.mapState2Color(21, 125, 125, 200) # ON  in the second: dark green\n",
    "styler_comp.mapState2Color(100, 255, 180, 180) # Other (different values?): red"
   ]
  },
  {
   "cell_type": "markdown",
   "metadata": {},
   "source": [
    "## Identification of stable states"
   ]
  },
  {
   "cell_type": "markdown",
   "metadata": {},
   "source": [
    "Here we compute the complete list of logical stable states (or fixpoints) of the model using the Java library bioLQM and store it in the `fps` variable:"
   ]
  },
  {
   "cell_type": "code",
   "execution_count": 7,
   "metadata": {
    "scrolled": true
   },
   "outputs": [
    {
     "name": "stdout",
     "output_type": "stream",
     "text": [
      "16 fixpoints found.\n"
     ]
    }
   ],
   "source": [
    "fps = biolqm.fixpoints(lqm_model)\n",
    "print(len(fps), \"fixpoints found.\")"
   ]
  },
  {
   "cell_type": "code",
   "execution_count": 11,
   "metadata": {},
   "outputs": [
    {
     "data": {
      "text/html": [
       "<div>\n",
       "<style scoped>\n",
       "    .dataframe tbody tr th:only-of-type {\n",
       "        vertical-align: middle;\n",
       "    }\n",
       "\n",
       "    .dataframe tbody tr th {\n",
       "        vertical-align: top;\n",
       "    }\n",
       "\n",
       "    .dataframe thead th {\n",
       "        text-align: right;\n",
       "    }\n",
       "</style>\n",
       "<table border=\"1\" class=\"dataframe\">\n",
       "  <thead>\n",
       "    <tr style=\"text-align: right;\">\n",
       "      <th></th>\n",
       "      <th>Spi</th>\n",
       "      <th>Vn</th>\n",
       "      <th>Egfr</th>\n",
       "      <th>Rl</th>\n",
       "      <th>Aop</th>\n",
       "      <th>Pnt</th>\n",
       "      <th>ind</th>\n",
       "      <th>vnd</th>\n",
       "      <th>msh</th>\n",
       "      <th>Aos</th>\n",
       "      <th>pGro</th>\n",
       "      <th>Gro</th>\n",
       "    </tr>\n",
       "  </thead>\n",
       "  <tbody>\n",
       "    <tr>\n",
       "      <th>0</th>\n",
       "      <td>0</td>\n",
       "      <td>0</td>\n",
       "      <td>0</td>\n",
       "      <td>0</td>\n",
       "      <td>1</td>\n",
       "      <td>0</td>\n",
       "      <td>0</td>\n",
       "      <td>0</td>\n",
       "      <td>1</td>\n",
       "      <td>0</td>\n",
       "      <td>0</td>\n",
       "      <td>1</td>\n",
       "    </tr>\n",
       "    <tr>\n",
       "      <th>1</th>\n",
       "      <td>0</td>\n",
       "      <td>0</td>\n",
       "      <td>0</td>\n",
       "      <td>0</td>\n",
       "      <td>1</td>\n",
       "      <td>0</td>\n",
       "      <td>0</td>\n",
       "      <td>0</td>\n",
       "      <td>1</td>\n",
       "      <td>1</td>\n",
       "      <td>0</td>\n",
       "      <td>1</td>\n",
       "    </tr>\n",
       "    <tr>\n",
       "      <th>2</th>\n",
       "      <td>0</td>\n",
       "      <td>0</td>\n",
       "      <td>0</td>\n",
       "      <td>0</td>\n",
       "      <td>1</td>\n",
       "      <td>0</td>\n",
       "      <td>1</td>\n",
       "      <td>0</td>\n",
       "      <td>0</td>\n",
       "      <td>0</td>\n",
       "      <td>1</td>\n",
       "      <td>0</td>\n",
       "    </tr>\n",
       "    <tr>\n",
       "      <th>3</th>\n",
       "      <td>0</td>\n",
       "      <td>0</td>\n",
       "      <td>0</td>\n",
       "      <td>0</td>\n",
       "      <td>1</td>\n",
       "      <td>0</td>\n",
       "      <td>1</td>\n",
       "      <td>0</td>\n",
       "      <td>0</td>\n",
       "      <td>1</td>\n",
       "      <td>1</td>\n",
       "      <td>0</td>\n",
       "    </tr>\n",
       "    <tr>\n",
       "      <th>4</th>\n",
       "      <td>0</td>\n",
       "      <td>1</td>\n",
       "      <td>0</td>\n",
       "      <td>0</td>\n",
       "      <td>1</td>\n",
       "      <td>0</td>\n",
       "      <td>0</td>\n",
       "      <td>0</td>\n",
       "      <td>1</td>\n",
       "      <td>1</td>\n",
       "      <td>0</td>\n",
       "      <td>1</td>\n",
       "    </tr>\n",
       "    <tr>\n",
       "      <th>5</th>\n",
       "      <td>0</td>\n",
       "      <td>1</td>\n",
       "      <td>0</td>\n",
       "      <td>0</td>\n",
       "      <td>1</td>\n",
       "      <td>0</td>\n",
       "      <td>1</td>\n",
       "      <td>0</td>\n",
       "      <td>0</td>\n",
       "      <td>1</td>\n",
       "      <td>1</td>\n",
       "      <td>0</td>\n",
       "    </tr>\n",
       "    <tr>\n",
       "      <th>6</th>\n",
       "      <td>0</td>\n",
       "      <td>1</td>\n",
       "      <td>1</td>\n",
       "      <td>1</td>\n",
       "      <td>0</td>\n",
       "      <td>1</td>\n",
       "      <td>0</td>\n",
       "      <td>1</td>\n",
       "      <td>0</td>\n",
       "      <td>0</td>\n",
       "      <td>1</td>\n",
       "      <td>0</td>\n",
       "    </tr>\n",
       "    <tr>\n",
       "      <th>7</th>\n",
       "      <td>0</td>\n",
       "      <td>1</td>\n",
       "      <td>1</td>\n",
       "      <td>1</td>\n",
       "      <td>0</td>\n",
       "      <td>1</td>\n",
       "      <td>1</td>\n",
       "      <td>0</td>\n",
       "      <td>0</td>\n",
       "      <td>0</td>\n",
       "      <td>1</td>\n",
       "      <td>0</td>\n",
       "    </tr>\n",
       "    <tr>\n",
       "      <th>8</th>\n",
       "      <td>1</td>\n",
       "      <td>0</td>\n",
       "      <td>0</td>\n",
       "      <td>0</td>\n",
       "      <td>1</td>\n",
       "      <td>0</td>\n",
       "      <td>0</td>\n",
       "      <td>0</td>\n",
       "      <td>1</td>\n",
       "      <td>1</td>\n",
       "      <td>0</td>\n",
       "      <td>1</td>\n",
       "    </tr>\n",
       "    <tr>\n",
       "      <th>10</th>\n",
       "      <td>1</td>\n",
       "      <td>0</td>\n",
       "      <td>0</td>\n",
       "      <td>0</td>\n",
       "      <td>1</td>\n",
       "      <td>0</td>\n",
       "      <td>1</td>\n",
       "      <td>0</td>\n",
       "      <td>0</td>\n",
       "      <td>1</td>\n",
       "      <td>1</td>\n",
       "      <td>0</td>\n",
       "    </tr>\n",
       "    <tr>\n",
       "      <th>12</th>\n",
       "      <td>1</td>\n",
       "      <td>0</td>\n",
       "      <td>1</td>\n",
       "      <td>1</td>\n",
       "      <td>0</td>\n",
       "      <td>1</td>\n",
       "      <td>0</td>\n",
       "      <td>1</td>\n",
       "      <td>0</td>\n",
       "      <td>0</td>\n",
       "      <td>1</td>\n",
       "      <td>0</td>\n",
       "    </tr>\n",
       "    <tr>\n",
       "      <th>14</th>\n",
       "      <td>1</td>\n",
       "      <td>0</td>\n",
       "      <td>1</td>\n",
       "      <td>1</td>\n",
       "      <td>0</td>\n",
       "      <td>1</td>\n",
       "      <td>1</td>\n",
       "      <td>0</td>\n",
       "      <td>0</td>\n",
       "      <td>0</td>\n",
       "      <td>1</td>\n",
       "      <td>0</td>\n",
       "    </tr>\n",
       "    <tr>\n",
       "      <th>9</th>\n",
       "      <td>1</td>\n",
       "      <td>1</td>\n",
       "      <td>0</td>\n",
       "      <td>0</td>\n",
       "      <td>1</td>\n",
       "      <td>0</td>\n",
       "      <td>0</td>\n",
       "      <td>0</td>\n",
       "      <td>1</td>\n",
       "      <td>1</td>\n",
       "      <td>0</td>\n",
       "      <td>1</td>\n",
       "    </tr>\n",
       "    <tr>\n",
       "      <th>11</th>\n",
       "      <td>1</td>\n",
       "      <td>1</td>\n",
       "      <td>0</td>\n",
       "      <td>0</td>\n",
       "      <td>1</td>\n",
       "      <td>0</td>\n",
       "      <td>1</td>\n",
       "      <td>0</td>\n",
       "      <td>0</td>\n",
       "      <td>1</td>\n",
       "      <td>1</td>\n",
       "      <td>0</td>\n",
       "    </tr>\n",
       "    <tr>\n",
       "      <th>13</th>\n",
       "      <td>1</td>\n",
       "      <td>1</td>\n",
       "      <td>1</td>\n",
       "      <td>1</td>\n",
       "      <td>0</td>\n",
       "      <td>1</td>\n",
       "      <td>0</td>\n",
       "      <td>1</td>\n",
       "      <td>0</td>\n",
       "      <td>0</td>\n",
       "      <td>1</td>\n",
       "      <td>0</td>\n",
       "    </tr>\n",
       "    <tr>\n",
       "      <th>15</th>\n",
       "      <td>1</td>\n",
       "      <td>1</td>\n",
       "      <td>1</td>\n",
       "      <td>1</td>\n",
       "      <td>0</td>\n",
       "      <td>1</td>\n",
       "      <td>1</td>\n",
       "      <td>0</td>\n",
       "      <td>0</td>\n",
       "      <td>0</td>\n",
       "      <td>1</td>\n",
       "      <td>0</td>\n",
       "    </tr>\n",
       "  </tbody>\n",
       "</table>\n",
       "</div>"
      ],
      "text/plain": [
       "    Spi  Vn  Egfr  Rl  Aop  Pnt  ind  vnd  msh  Aos  pGro  Gro\n",
       "0     0   0     0   0    1    0    0    0    1    0     0    1\n",
       "1     0   0     0   0    1    0    0    0    1    1     0    1\n",
       "2     0   0     0   0    1    0    1    0    0    0     1    0\n",
       "3     0   0     0   0    1    0    1    0    0    1     1    0\n",
       "4     0   1     0   0    1    0    0    0    1    1     0    1\n",
       "5     0   1     0   0    1    0    1    0    0    1     1    0\n",
       "6     0   1     1   1    0    1    0    1    0    0     1    0\n",
       "7     0   1     1   1    0    1    1    0    0    0     1    0\n",
       "8     1   0     0   0    1    0    0    0    1    1     0    1\n",
       "10    1   0     0   0    1    0    1    0    0    1     1    0\n",
       "12    1   0     1   1    0    1    0    1    0    0     1    0\n",
       "14    1   0     1   1    0    1    1    0    0    0     1    0\n",
       "9     1   1     0   0    1    0    0    0    1    1     0    1\n",
       "11    1   1     0   0    1    0    1    0    0    1     1    0\n",
       "13    1   1     1   1    0    1    0    1    0    0     1    0\n",
       "15    1   1     1   1    0    1    1    0    0    0     1    0"
      ]
     },
     "execution_count": 11,
     "metadata": {},
     "output_type": "execute_result"
    }
   ],
   "source": [
    "#Display of the list of stable states\n",
    "tabulate(fps)"
   ]
  },
  {
   "cell_type": "markdown",
   "metadata": {},
   "source": [
    "The model has 16 stable states, 3 of which represent the behavior of Egfr components specifying vnd domain(columns 6, 12, 13). While 8 of which represent the possible stable states for ind domain to generate, the remaining 5 rows corresponds to msh domain."
   ]
  },
  {
   "cell_type": "code",
   "execution_count": 9,
   "metadata": {},
   "outputs": [
    {
     "data": {
      "text/html": [
       "<img class=\"unconfined\" width=\"573px\" src=\"data:image/svg+xml;base64,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\">"
      ],
      "text/plain": [
       "<IPython.core.display.HTML object>"
      ]
     },
     "execution_count": 9,
     "metadata": {},
     "output_type": "execute_result"
    }
   ],
   "source": [
    "#The third fixpoint (`fps[2]`) can then be displayed as follows:\n",
    "ginsim.show(gs_model, fps[2])"
   ]
  },
  {
   "cell_type": "markdown",
   "metadata": {},
   "source": [
    "In this graph, the vertices shown in white or blue denote components that are OFF (value 0) or ON (value 1) respectively."
   ]
  },
  {
   "cell_type": "markdown",
   "metadata": {},
   "source": [
    "## Identification of trap spaces\n",
    "\n",
    "A trap space is a subspace of a state space which trajectories cannot leave. Trap spaces provide useful approaximations of attraction basin. Every trap space contains at least one attractor and, therefore, in some cases minimal trap spaces can be good approximations for the attractors. If a trap set is an attractor, its spaces of attraction can be related to its basins of attraction. Attractor reachability can be investigated using trap spaces."
   ]
  },
  {
   "cell_type": "code",
   "execution_count": 10,
   "metadata": {},
   "outputs": [
    {
     "data": {
      "text/html": [
       "<div>\n",
       "<style scoped>\n",
       "    .dataframe tbody tr th:only-of-type {\n",
       "        vertical-align: middle;\n",
       "    }\n",
       "\n",
       "    .dataframe tbody tr th {\n",
       "        vertical-align: top;\n",
       "    }\n",
       "\n",
       "    .dataframe thead th {\n",
       "        text-align: right;\n",
       "    }\n",
       "</style>\n",
       "<table border=\"1\" class=\"dataframe\">\n",
       "  <thead>\n",
       "    <tr style=\"text-align: right;\">\n",
       "      <th></th>\n",
       "      <th>Spi</th>\n",
       "      <th>Vn</th>\n",
       "      <th>Egfr</th>\n",
       "      <th>Rl</th>\n",
       "      <th>Aop</th>\n",
       "      <th>Pnt</th>\n",
       "      <th>ind</th>\n",
       "      <th>vnd</th>\n",
       "      <th>msh</th>\n",
       "      <th>Aos</th>\n",
       "      <th>pGro</th>\n",
       "      <th>Gro</th>\n",
       "    </tr>\n",
       "  </thead>\n",
       "  <tbody>\n",
       "    <tr>\n",
       "      <th>15</th>\n",
       "      <td>0</td>\n",
       "      <td>0</td>\n",
       "      <td>0</td>\n",
       "      <td>0</td>\n",
       "      <td>1</td>\n",
       "      <td>0</td>\n",
       "      <td>0</td>\n",
       "      <td>0</td>\n",
       "      <td>1</td>\n",
       "      <td>0</td>\n",
       "      <td>0</td>\n",
       "      <td>1</td>\n",
       "    </tr>\n",
       "    <tr>\n",
       "      <th>9</th>\n",
       "      <td>0</td>\n",
       "      <td>0</td>\n",
       "      <td>0</td>\n",
       "      <td>0</td>\n",
       "      <td>1</td>\n",
       "      <td>0</td>\n",
       "      <td>0</td>\n",
       "      <td>0</td>\n",
       "      <td>1</td>\n",
       "      <td>1</td>\n",
       "      <td>0</td>\n",
       "      <td>1</td>\n",
       "    </tr>\n",
       "    <tr>\n",
       "      <th>0</th>\n",
       "      <td>0</td>\n",
       "      <td>0</td>\n",
       "      <td>0</td>\n",
       "      <td>0</td>\n",
       "      <td>1</td>\n",
       "      <td>0</td>\n",
       "      <td>1</td>\n",
       "      <td>0</td>\n",
       "      <td>0</td>\n",
       "      <td>0</td>\n",
       "      <td>1</td>\n",
       "      <td>0</td>\n",
       "    </tr>\n",
       "    <tr>\n",
       "      <th>12</th>\n",
       "      <td>0</td>\n",
       "      <td>0</td>\n",
       "      <td>0</td>\n",
       "      <td>0</td>\n",
       "      <td>1</td>\n",
       "      <td>0</td>\n",
       "      <td>1</td>\n",
       "      <td>0</td>\n",
       "      <td>0</td>\n",
       "      <td>1</td>\n",
       "      <td>1</td>\n",
       "      <td>0</td>\n",
       "    </tr>\n",
       "    <tr>\n",
       "      <th>3</th>\n",
       "      <td>0</td>\n",
       "      <td>1</td>\n",
       "      <td>0</td>\n",
       "      <td>0</td>\n",
       "      <td>1</td>\n",
       "      <td>0</td>\n",
       "      <td>0</td>\n",
       "      <td>0</td>\n",
       "      <td>1</td>\n",
       "      <td>1</td>\n",
       "      <td>0</td>\n",
       "      <td>1</td>\n",
       "    </tr>\n",
       "    <tr>\n",
       "      <th>13</th>\n",
       "      <td>0</td>\n",
       "      <td>1</td>\n",
       "      <td>0</td>\n",
       "      <td>0</td>\n",
       "      <td>1</td>\n",
       "      <td>0</td>\n",
       "      <td>1</td>\n",
       "      <td>0</td>\n",
       "      <td>0</td>\n",
       "      <td>1</td>\n",
       "      <td>1</td>\n",
       "      <td>0</td>\n",
       "    </tr>\n",
       "    <tr>\n",
       "      <th>5</th>\n",
       "      <td>0</td>\n",
       "      <td>1</td>\n",
       "      <td>1</td>\n",
       "      <td>1</td>\n",
       "      <td>0</td>\n",
       "      <td>1</td>\n",
       "      <td>0</td>\n",
       "      <td>1</td>\n",
       "      <td>0</td>\n",
       "      <td>0</td>\n",
       "      <td>1</td>\n",
       "      <td>0</td>\n",
       "    </tr>\n",
       "    <tr>\n",
       "      <th>7</th>\n",
       "      <td>0</td>\n",
       "      <td>1</td>\n",
       "      <td>1</td>\n",
       "      <td>1</td>\n",
       "      <td>0</td>\n",
       "      <td>1</td>\n",
       "      <td>1</td>\n",
       "      <td>0</td>\n",
       "      <td>0</td>\n",
       "      <td>0</td>\n",
       "      <td>1</td>\n",
       "      <td>0</td>\n",
       "    </tr>\n",
       "    <tr>\n",
       "      <th>10</th>\n",
       "      <td>1</td>\n",
       "      <td>0</td>\n",
       "      <td>0</td>\n",
       "      <td>0</td>\n",
       "      <td>1</td>\n",
       "      <td>0</td>\n",
       "      <td>0</td>\n",
       "      <td>0</td>\n",
       "      <td>1</td>\n",
       "      <td>1</td>\n",
       "      <td>0</td>\n",
       "      <td>1</td>\n",
       "    </tr>\n",
       "    <tr>\n",
       "      <th>14</th>\n",
       "      <td>1</td>\n",
       "      <td>0</td>\n",
       "      <td>0</td>\n",
       "      <td>0</td>\n",
       "      <td>1</td>\n",
       "      <td>0</td>\n",
       "      <td>1</td>\n",
       "      <td>0</td>\n",
       "      <td>0</td>\n",
       "      <td>1</td>\n",
       "      <td>1</td>\n",
       "      <td>0</td>\n",
       "    </tr>\n",
       "    <tr>\n",
       "      <th>2</th>\n",
       "      <td>1</td>\n",
       "      <td>0</td>\n",
       "      <td>1</td>\n",
       "      <td>1</td>\n",
       "      <td>0</td>\n",
       "      <td>1</td>\n",
       "      <td>0</td>\n",
       "      <td>1</td>\n",
       "      <td>0</td>\n",
       "      <td>0</td>\n",
       "      <td>1</td>\n",
       "      <td>0</td>\n",
       "    </tr>\n",
       "    <tr>\n",
       "      <th>6</th>\n",
       "      <td>1</td>\n",
       "      <td>0</td>\n",
       "      <td>1</td>\n",
       "      <td>1</td>\n",
       "      <td>0</td>\n",
       "      <td>1</td>\n",
       "      <td>1</td>\n",
       "      <td>0</td>\n",
       "      <td>0</td>\n",
       "      <td>0</td>\n",
       "      <td>1</td>\n",
       "      <td>0</td>\n",
       "    </tr>\n",
       "    <tr>\n",
       "      <th>11</th>\n",
       "      <td>1</td>\n",
       "      <td>1</td>\n",
       "      <td>0</td>\n",
       "      <td>0</td>\n",
       "      <td>1</td>\n",
       "      <td>0</td>\n",
       "      <td>0</td>\n",
       "      <td>0</td>\n",
       "      <td>1</td>\n",
       "      <td>1</td>\n",
       "      <td>0</td>\n",
       "      <td>1</td>\n",
       "    </tr>\n",
       "    <tr>\n",
       "      <th>1</th>\n",
       "      <td>1</td>\n",
       "      <td>1</td>\n",
       "      <td>0</td>\n",
       "      <td>0</td>\n",
       "      <td>1</td>\n",
       "      <td>0</td>\n",
       "      <td>1</td>\n",
       "      <td>0</td>\n",
       "      <td>0</td>\n",
       "      <td>1</td>\n",
       "      <td>1</td>\n",
       "      <td>0</td>\n",
       "    </tr>\n",
       "    <tr>\n",
       "      <th>4</th>\n",
       "      <td>1</td>\n",
       "      <td>1</td>\n",
       "      <td>1</td>\n",
       "      <td>1</td>\n",
       "      <td>0</td>\n",
       "      <td>1</td>\n",
       "      <td>0</td>\n",
       "      <td>1</td>\n",
       "      <td>0</td>\n",
       "      <td>0</td>\n",
       "      <td>1</td>\n",
       "      <td>0</td>\n",
       "    </tr>\n",
       "    <tr>\n",
       "      <th>8</th>\n",
       "      <td>1</td>\n",
       "      <td>1</td>\n",
       "      <td>1</td>\n",
       "      <td>1</td>\n",
       "      <td>0</td>\n",
       "      <td>1</td>\n",
       "      <td>1</td>\n",
       "      <td>0</td>\n",
       "      <td>0</td>\n",
       "      <td>0</td>\n",
       "      <td>1</td>\n",
       "      <td>0</td>\n",
       "    </tr>\n",
       "  </tbody>\n",
       "</table>\n",
       "</div>"
      ],
      "text/plain": [
       "    Spi  Vn  Egfr  Rl  Aop  Pnt  ind  vnd  msh  Aos  pGro  Gro\n",
       "15    0   0     0   0    1    0    0    0    1    0     0    1\n",
       "9     0   0     0   0    1    0    0    0    1    1     0    1\n",
       "0     0   0     0   0    1    0    1    0    0    0     1    0\n",
       "12    0   0     0   0    1    0    1    0    0    1     1    0\n",
       "3     0   1     0   0    1    0    0    0    1    1     0    1\n",
       "13    0   1     0   0    1    0    1    0    0    1     1    0\n",
       "5     0   1     1   1    0    1    0    1    0    0     1    0\n",
       "7     0   1     1   1    0    1    1    0    0    0     1    0\n",
       "10    1   0     0   0    1    0    0    0    1    1     0    1\n",
       "14    1   0     0   0    1    0    1    0    0    1     1    0\n",
       "2     1   0     1   1    0    1    0    1    0    0     1    0\n",
       "6     1   0     1   1    0    1    1    0    0    0     1    0\n",
       "11    1   1     0   0    1    0    0    0    1    1     0    1\n",
       "1     1   1     0   0    1    0    1    0    0    1     1    0\n",
       "4     1   1     1   1    0    1    0    1    0    0     1    0\n",
       "8     1   1     1   1    0    1    1    0    0    0     1    0"
      ]
     },
     "execution_count": 10,
     "metadata": {},
     "output_type": "execute_result"
    }
   ],
   "source": [
    "trapspaces = biolqm.trapspaces(lqm_model)\n",
    "tabulate(trapspaces)"
   ]
  },
  {
   "cell_type": "code",
   "execution_count": 24,
   "metadata": {},
   "outputs": [
    {
     "data": {
      "text/html": [
       "<img class=\"unconfined\" width=\"573px\" src=\"data:image/svg+xml;base64,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\">"
      ],
      "text/plain": [
       "<IPython.core.display.HTML object>"
      ]
     },
     "execution_count": 24,
     "metadata": {},
     "output_type": "execute_result"
    }
   ],
   "source": [
    " ginsim.show(lrg, trapspaces[1])"
   ]
  },
  {
   "cell_type": "markdown",
   "metadata": {},
   "source": [
    "## Model simplification (skipped)"
   ]
  },
  {
   "cell_type": "code",
   "execution_count": 31,
   "metadata": {},
   "outputs": [],
   "source": [
    "## Model simplification (havent used): \n",
    "#   * Fix all inputs to their inactive state.\n",
    "fixed = { str(n):0 for n in lqm_model.getComponents() if n.isInput()}\n",
    "\n",
    "# Keep 'Spi', 'Vn' and as proper inputs \n",
    "for n in ('Spi', 'Vn', 'Aos'):\n",
    "    del(fixed[n])\n",
    "\n",
    "# Fix inputs to their active state\n",
    "fixed['Spi'] = 1\n",
    "fixed['Vn'] = 1"
   ]
  },
  {
   "cell_type": "code",
   "execution_count": 32,
   "metadata": {},
   "outputs": [],
   "source": [
    "# Apply the simplifications defined above to reduce the model\n",
    "m_reduced = biolqm.perturbation(lqm_model, \" \".join([ \"%s%%%s\" % (k,v) for (k,v) in fixed.items() ]))\n",
    "m_reduced = biolqm.reduce(m_reduced, \":fixed :purge :no-extra\")"
   ]
  },
  {
   "cell_type": "code",
   "execution_count": 33,
   "metadata": {
    "scrolled": false
   },
   "outputs": [
    {
     "data": {
      "text/html": [
       "<div>\n",
       "<style scoped>\n",
       "    .dataframe tbody tr th:only-of-type {\n",
       "        vertical-align: middle;\n",
       "    }\n",
       "\n",
       "    .dataframe tbody tr th {\n",
       "        vertical-align: top;\n",
       "    }\n",
       "\n",
       "    .dataframe thead th {\n",
       "        text-align: right;\n",
       "    }\n",
       "</style>\n",
       "<table border=\"1\" class=\"dataframe\">\n",
       "  <thead>\n",
       "    <tr style=\"text-align: right;\">\n",
       "      <th></th>\n",
       "      <th>Egfr</th>\n",
       "      <th>Rl</th>\n",
       "      <th>Aop</th>\n",
       "      <th>Pnt</th>\n",
       "      <th>ind</th>\n",
       "      <th>vnd</th>\n",
       "      <th>msh</th>\n",
       "      <th>Aos</th>\n",
       "      <th>pGro</th>\n",
       "      <th>Gro</th>\n",
       "    </tr>\n",
       "  </thead>\n",
       "  <tbody>\n",
       "    <tr>\n",
       "      <th>0</th>\n",
       "      <td>0</td>\n",
       "      <td>0</td>\n",
       "      <td>1</td>\n",
       "      <td>0</td>\n",
       "      <td>0</td>\n",
       "      <td>0</td>\n",
       "      <td>1</td>\n",
       "      <td>1</td>\n",
       "      <td>0</td>\n",
       "      <td>1</td>\n",
       "    </tr>\n",
       "    <tr>\n",
       "      <th>1</th>\n",
       "      <td>0</td>\n",
       "      <td>0</td>\n",
       "      <td>1</td>\n",
       "      <td>0</td>\n",
       "      <td>1</td>\n",
       "      <td>0</td>\n",
       "      <td>0</td>\n",
       "      <td>1</td>\n",
       "      <td>1</td>\n",
       "      <td>0</td>\n",
       "    </tr>\n",
       "    <tr>\n",
       "      <th>2</th>\n",
       "      <td>1</td>\n",
       "      <td>1</td>\n",
       "      <td>0</td>\n",
       "      <td>1</td>\n",
       "      <td>0</td>\n",
       "      <td>1</td>\n",
       "      <td>0</td>\n",
       "      <td>0</td>\n",
       "      <td>1</td>\n",
       "      <td>0</td>\n",
       "    </tr>\n",
       "    <tr>\n",
       "      <th>3</th>\n",
       "      <td>1</td>\n",
       "      <td>1</td>\n",
       "      <td>0</td>\n",
       "      <td>1</td>\n",
       "      <td>1</td>\n",
       "      <td>0</td>\n",
       "      <td>0</td>\n",
       "      <td>0</td>\n",
       "      <td>1</td>\n",
       "      <td>0</td>\n",
       "    </tr>\n",
       "  </tbody>\n",
       "</table>\n",
       "</div>"
      ],
      "text/plain": [
       "   Egfr  Rl  Aop  Pnt  ind  vnd  msh  Aos  pGro  Gro\n",
       "0     0   0    1    0    0    0    1    1     0    1\n",
       "1     0   0    1    0    1    0    0    1     1    0\n",
       "2     1   1    0    1    0    1    0    0     1    0\n",
       "3     1   1    0    1    1    0    0    0     1    0"
      ]
     },
     "execution_count": 33,
     "metadata": {},
     "output_type": "execute_result"
    }
   ],
   "source": [
    "fps = biolqm.fixpoints(m_reduced, autoconvert=False)\n",
    "df = biolqm.states_to_dataframe(fps)\n",
    "df"
   ]
  },
  {
   "cell_type": "markdown",
   "metadata": {},
   "source": [
    "## Simulation of the model without any constraint\n",
    "\n",
    "Fixed values are visualized on the model without any constraint. Fixed values will appear in white. This will be used as a reference to see if percolating a value will change anything from this default setting."
   ]
  },
  {
   "cell_type": "code",
   "execution_count": 34,
   "metadata": {},
   "outputs": [
    {
     "data": {
      "text/html": [
       "<img class=\"unconfined\" width=\"573px\" src=\"data:image/svg+xml;base64,PD94bWwgdmVyc2lvbj0iMS4wIiBlbmNvZGluZz0iVVRGLTgiPz4KPCFET0NUWVBFIHN2ZyBQVUJMSUMgIi0vL1czQy8vRFREIFNWRyAyMDAwMTEwMi8vRU4iICJodHRwOi8vd3d3LnczLm9yZy9UUi8yMDAwL0NSLVNWRy0yMDAwMTEwMi9EVEQvc3ZnLTIwMDAxMTAyLmR0ZCI+Cjxzdmcgd2lkdGg9IjU3My4wIiBoZWlnaHQ9IjY2My4wIiB4bWxucz0iaHR0cDovL3d3dy53My5vcmcvMjAwMC9zdmciIHZlcnNpb249IjEuMSI+CiAgPHN0eWxlIHR5cGU9InRleHQvY3NzIj4KdGV4dCB7CiAgZm9udC1mYW1pbHk6ICdTYW5zU2VyaWYnOwogIGZvbnQtc2l6ZTogMTJweDsKfQoubm9kZSAuc2hhcGUgewpmaWxsOiAjZmZmZmZmOwpzdHJva2U6ICMwMDAwMDA7Cn0KLm5vZGUgdGV4dCB7CmZpbGw6ICMwMDAwMDA7Cn0KLm5vZGVfbm9kZV9zdHlsZSAuc2hhcGUgewpmaWxsOiAjZmZmZmZmOwpzdHJva2U6ICMwMDAwMDA7Cn0KLm5vZGVfbm9kZV9zdHlsZSB0ZXh0IHsKZmlsbDogIzAwMDAwMDsKfQoubm9kZV9ub2RlX3N0eWxlXzIgLnNoYXBlIHsKZmlsbDogI2ZmZmZmZjsKc3Ryb2tlOiAjMDAwMDAwOwp9Ci5ub2RlX25vZGVfc3R5bGVfMiB0ZXh0IHsKZmlsbDogIzAwMDAwMDsKfQouZWRnZSB7CnN0cm9rZTogIzAwMDAwMDsKZmlsbDogbm9uZTsKc3Ryb2tlLXdpZHRoOiAxOwp9Ci5lZGdlX1BPU0lUSVZFIHsKc3Ryb2tlOiAjMDBjODAwOwp9Ci5lZGdlX05FR0FUSVZFIHsKc3Ryb2tlOiAjYzgwMDAwOwp9Ci5lZGdlX0RVQUwgewpzdHJva2U6ICMwMDAwYzg7Cn0KLmVkZ2VfZWRnZV9zdHlsZSB7CnN0cm9rZTogI2M4MDAwMDsKZmlsbDogbm9uZTsKc3Ryb2tlLXdpZHRoOiAxOwp9Ci5lZGdlX2VkZ2Vfc3R5bGVfMiB7CnN0cm9rZTogIzAwYzgwMDsKZmlsbDogbm9uZTsKc3Ryb2tlLXdpZHRoOiAxOwp9Ci5jdXN0b21fMCAuc2hhcGUgeyBmaWxsOiAjYzgxOTE5OyB9Ci5jdXN0b21fbTEgLnNoYXBlIHsgZmlsbDogI2ZmZmZmZjsgfQouY3VzdG9tXzEgLnNoYXBlIHsgZmlsbDogIzY0YWY2NDsgfQouY3VzdG9tX20yIC5zaGFwZSB7IGZpbGw6ICNhZmFmYWY7IH0KLmN1c3RvbV8yIC5zaGFwZSB7IGZpbGw6ICM2NGUxNjQ7IH0KLmN1c3RvbV9hY3RpdmUgeyBzdHJva2U6ICM4MDgwODA7fQouY3VzdG9tX2luYWN0aXZlIHtzdHJva2U6ICM4MDgwODA7fQo8L3N0eWxlPgogIDxkZWZzPgogICAgPG1hcmtlciBpZD0iTWFya2VyX05FR0FUSVZFXzgwODA4MCIgdmlld0JveD0iLTcgLTcgMTIgMTUiIG9yaWVudD0iYXV0byIgbWFya2VySGVpZ2h0PSI5IiBtYXJrZXJXaWR0aD0iOSI+CiAgICAgIDxwYXRoIHN0cm9rZT0iIzgwODA4MCIgZmlsbD0iIzgwODA4MCIgZD0iTSAtMSAtNCBMIC0xIDQgTCAxIDQgTCAxIC00IHoiLz4KICAgIDwvbWFya2VyPgogIDwvZGVmcz4KICA8cGF0aCBjbGFzcz0iZWRnZSBjdXN0b21faW5hY3RpdmUiIG1hcmtlci1lbmQ9InVybCgjTWFya2VyX05FR0FUSVZFXzgwODA4MCkiIGQ9Ik0gNTE1LjAgNTkxLjAgTCA0NzkuMCA2MjQuMCIvPgogIDxwYXRoIGNsYXNzPSJlZGdlIGN1c3RvbV9pbmFjdGl2ZSIgbWFya2VyLWVuZD0idXJsKCNNYXJrZXJfTkVHQVRJVkVfODA4MDgwKSIgZD0iTSA1MDMuMCA1ODMuMCBMIDQ4Ny4wIDU4My4wIEwgNDQxLjAgNTgzLjAgTCA0MjIuMCA1ODMuMCIvPgogIDxkZWZzPgogICAgPG1hcmtlciBpZD0iTWFya2VyX1BPU0lUSVZFXzgwODA4MCIgdmlld0JveD0iLTcgLTcgMTIgMTUiIG9yaWVudD0iYXV0byIgbWFya2VySGVpZ2h0PSI5IiBtYXJrZXJXaWR0aD0iOSI+CiAgICAgIDxwYXRoIHN0cm9rZT0iIzgwODA4MCIgZmlsbD0iIzgwODA4MCIgZD0iTSAtNCAtNSBMIC0yIDAgTCAtNCA1IEwgMiAwIHoiLz4KICAgIDwvbWFya2VyPgogIDwvZGVmcz4KICA8cGF0aCBjbGFzcz0iZWRnZSBjdXN0b21faW5hY3RpdmUiIG1hcmtlci1lbmQ9InVybCgjTWFya2VyX1BPU0lUSVZFXzgwODA4MCkiIGQ9Ik0gNTA2LjAgMzA1LjAgTCA0NzUuMCAzMzIuMCIvPgogIDxwYXRoIGNsYXNzPSJlZGdlIGN1c3RvbV9pbmFjdGl2ZSIgbWFya2VyLWVuZD0idXJsKCNNYXJrZXJfTkVHQVRJVkVfODA4MDgwKSIgZD0iTSA0NTkuMCAzMDIuMCBMIDQ1OS4wIDMzNS4wIi8+CiAgPHBhdGggY2xhc3M9ImVkZ2UgY3VzdG9tX2luYWN0aXZlIiBtYXJrZXItZW5kPSJ1cmwoI01hcmtlcl9ORUdBVElWRV84MDgwODApIiBkPSJNIDQwOS4wIDU5MS4wIEwgNDQ2LjAgNjI0LjAiLz4KICA8cGF0aCBjbGFzcz0iZWRnZSBjdXN0b21faW5hY3RpdmUiIG1hcmtlci1lbmQ9InVybCgjTWFya2VyX05FR0FUSVZFXzgwODA4MCkiIGQ9Ik0gNDIxLjAgNTY3LjAgTCA0NzAuMCA1NjcuMCBMIDUwMS4wIDU2Ny4wIi8+CiAgPHBhdGggY2xhc3M9ImVkZ2UgY3VzdG9tX2luYWN0aXZlIiBtYXJrZXItZW5kPSJ1cmwoI01hcmtlcl9QT1NJVElWRV84MDgwODApIiBkPSJNIDQ1OS4wIDM2Ni4wIEwgNDU5LjAgMzkyLjAiLz4KICA8cGF0aCBjbGFzcz0iZWRnZSBjdXN0b21faW5hY3RpdmUiIG1hcmtlci1lbmQ9InVybCgjTWFya2VyX05FR0FUSVZFXzgwODA4MCkiIGQ9Ik0gNTMwLjAgNTM4LjAgTCA1MzAuMCA1NTguMCIvPgogIDxwYXRoIGNsYXNzPSJlZGdlIGN1c3RvbV9pbmFjdGl2ZSIgbWFya2VyLWVuZD0idXJsKCNNYXJrZXJfUE9TSVRJVkVfODA4MDgwKSIgZD0iTSA0MTIuMCAzMDUuMCBMIDQ0Mi4wIDMzMi4wIi8+CiAgPHBhdGggY2xhc3M9ImVkZ2UgY3VzdG9tX2luYWN0aXZlIiBtYXJrZXItZW5kPSJ1cmwoI01hcmtlcl9QT1NJVElWRV84MDgwODApIiBkPSJNIDQ0NS4wIDQyNS4wIEwgNDA5LjAgNDU4LjAiLz4KICA8cGF0aCBjbGFzcz0iZWRnZSBjdXN0b21faW5hY3RpdmUiIG1hcmtlci1lbmQ9InVybCgjTWFya2VyX05FR0FUSVZFXzgwODA4MCkiIGQ9Ik0gNDYwLjAgNDIzLjAgTCA0NjAuMCA0NTkuMCIvPgogIDxwYXRoIGNsYXNzPSJlZGdlIGN1c3RvbV9pbmFjdGl2ZSIgbWFya2VyLWVuZD0idXJsKCNNYXJrZXJfUE9TSVRJVkVfODA4MDgwKSIgZD0iTSA0NzUuMCA0MjUuMCBMIDUxNS4wIDQ1OC4wIi8+CiAgPHBhdGggY2xhc3M9ImVkZ2UgY3VzdG9tX2luYWN0aXZlIiBtYXJrZXItZW5kPSJ1cmwoI01hcmtlcl9ORUdBVElWRV84MDgwODApIiBkPSJNIDUzMC4wIDQ4Ny4wIEwgNTMwLjAgNTEyLjAiLz4KICA8cGF0aCBjbGFzcz0iZWRnZSBjdXN0b21faW5hY3RpdmUiIG1hcmtlci1lbmQ9InVybCgjTWFya2VyX1BPU0lUSVZFXzgwODA4MCkiIGQ9Ik0gNTQxLjAgNDYwLjAgTCA1NDEuMCA0NDcuMCBMIDU2OC4wIDQ0Ny4wIEwgNTY4LjAgNDc0LjAgTCA1NTYuMCA0NzQuMCIvPgogIDxwYXRoIGNsYXNzPSJlZGdlIGN1c3RvbV9pbmFjdGl2ZSIgbWFya2VyLWVuZD0idXJsKCNNYXJrZXJfUE9TSVRJVkVfODA4MDgwKSIgZD0iTSAzOTQuMCA0OTIuMCBMIDM5NC4wIDU1OC4wIi8+CiAgPGcgaWQ9IlNwaSIgY2xhc3M9Im5vZGUgY3VzdG9tX20yIj4KICAgIDxyZWN0IGlkPSJTcGlfc2hhcGUiIGNsYXNzPSJzaGFwZSIgd2lkdGg9IjUwIiBoZWlnaHQ9IjMwIiB4PSI0OTYiIHk9IjI3MyIvPgogICAgPHRleHQgIGlkPSJTcGlfdGV4dCIgeD0iNTIxIiB5PSIyOTEiIHRleHQtYW5jaG9yPSJtaWRkbGUiPlNwaTwvdGV4dD4KICA8L2c+CiAgPGcgaWQ9IlZuIiBjbGFzcz0ibm9kZSBjdXN0b21fbTIiPgogICAgPHJlY3QgaWQ9IlZuX3NoYXBlIiBjbGFzcz0ic2hhcGUiIHdpZHRoPSI1MCIgaGVpZ2h0PSIzMCIgeD0iMzczIiB5PSIyNzMiLz4KICAgIDx0ZXh0ICBpZD0iVm5fdGV4dCIgeD0iMzk4IiB5PSIyOTEiIHRleHQtYW5jaG9yPSJtaWRkbGUiPlZuPC90ZXh0PgogIDwvZz4KICA8ZyBpZD0iRWdmciIgY2xhc3M9Im5vZGUgY3VzdG9tX20xIj4KICAgIDxyZWN0IGlkPSJFZ2ZyX3NoYXBlIiBjbGFzcz0ic2hhcGUiIHdpZHRoPSI1MCIgaGVpZ2h0PSIzMCIgeD0iNDM0IiB5PSIzMzYiLz4KICAgIDx0ZXh0ICBpZD0iRWdmcl90ZXh0IiB4PSI0NTkiIHk9IjM1NCIgdGV4dC1hbmNob3I9Im1pZGRsZSI+RWdmcjwvdGV4dD4KICA8L2c+CiAgPGcgaWQ9IlJsIiBjbGFzcz0ibm9kZSBjdXN0b21fbTEiPgogICAgPHJlY3QgaWQ9IlJsX3NoYXBlIiBjbGFzcz0ic2hhcGUiIHdpZHRoPSI1MCIgaGVpZ2h0PSIzMCIgeD0iNDM1IiB5PSIzOTMiLz4KICAgIDx0ZXh0ICBpZD0iUmxfdGV4dCIgeD0iNDYwIiB5PSI0MTEiIHRleHQtYW5jaG9yPSJtaWRkbGUiPlJsPC90ZXh0PgogIDwvZz4KICA8ZyBpZD0iQW9wIiBjbGFzcz0ibm9kZSBjdXN0b21fbTEiPgogICAgPHJlY3QgaWQ9IkFvcF9zaGFwZSIgY2xhc3M9InNoYXBlIiB3aWR0aD0iNTAiIGhlaWdodD0iMzAiIHg9IjQzNiIgeT0iNDYwIi8+CiAgICA8dGV4dCAgaWQ9IkFvcF90ZXh0IiB4PSI0NjEiIHk9IjQ3OCIgdGV4dC1hbmNob3I9Im1pZGRsZSI+QW9wPC90ZXh0PgogIDwvZz4KICA8ZyBpZD0iUG50IiBjbGFzcz0ibm9kZSBjdXN0b21fbTEiPgogICAgPHJlY3QgaWQ9IlBudF9zaGFwZSIgY2xhc3M9InNoYXBlIiB3aWR0aD0iNTAiIGhlaWdodD0iMzAiIHg9IjM2OSIgeT0iNDYyIi8+CiAgICA8dGV4dCAgaWQ9IlBudF90ZXh0IiB4PSIzOTQiIHk9IjQ4MCIgdGV4dC1hbmNob3I9Im1pZGRsZSI+UG50PC90ZXh0PgogIDwvZz4KICA8ZyBpZD0iaW5kIiBjbGFzcz0ibm9kZSBjdXN0b21fbTEiPgogICAgPHJlY3QgaWQ9ImluZF9zaGFwZSIgY2xhc3M9InNoYXBlIiB3aWR0aD0iNTAiIGhlaWdodD0iMzAiIHg9IjUwNSIgeT0iNTU5Ii8+CiAgICA8dGV4dCAgaWQ9ImluZF90ZXh0IiB4PSI1MzAiIHk9IjU3NyIgdGV4dC1hbmNob3I9Im1pZGRsZSI+aW5kPC90ZXh0PgogIDwvZz4KICA8ZyBpZD0idm5kIiBjbGFzcz0ibm9kZSBjdXN0b21fbTEiPgogICAgPHJlY3QgaWQ9InZuZF9zaGFwZSIgY2xhc3M9InNoYXBlIiB3aWR0aD0iNTAiIGhlaWdodD0iMzAiIHg9IjM2OSIgeT0iNTU5Ii8+CiAgICA8dGV4dCAgaWQ9InZuZF90ZXh0IiB4PSIzOTQiIHk9IjU3NyIgdGV4dC1hbmNob3I9Im1pZGRsZSI+dm5kPC90ZXh0PgogIDwvZz4KICA8ZyBpZD0ibXNoIiBjbGFzcz0ibm9kZSBjdXN0b21fbTEiPgogICAgPHJlY3QgaWQ9Im1zaF9zaGFwZSIgY2xhc3M9InNoYXBlIiB3aWR0aD0iNTAiIGhlaWdodD0iMzAiIHg9IjQzOCIgeT0iNjI4Ii8+CiAgICA8dGV4dCAgaWQ9Im1zaF90ZXh0IiB4PSI0NjMiIHk9IjY0NiIgdGV4dC1hbmNob3I9Im1pZGRsZSI+bXNoPC90ZXh0PgogIDwvZz4KICA8ZyBpZD0iQW9zIiBjbGFzcz0ibm9kZSBjdXN0b21fbTIiPgogICAgPHJlY3QgaWQ9IkFvc19zaGFwZSIgY2xhc3M9InNoYXBlIiB3aWR0aD0iNTAiIGhlaWdodD0iMzAiIHg9IjQzNSIgeT0iMjcyIi8+CiAgICA8dGV4dCAgaWQ9IkFvc190ZXh0IiB4PSI0NjAiIHk9IjI5MCIgdGV4dC1hbmNob3I9Im1pZGRsZSI+QW9zPC90ZXh0PgogIDwvZz4KICA8ZyBpZD0icEdybyIgY2xhc3M9Im5vZGUgY3VzdG9tX20xIj4KICAgIDxlbGxpcHNlIGlkPSJwR3JvX3NoYXBlIiBjbGFzcz0ic2hhcGUiIGN4PSI1MzAuNSIgY3k9IjQ3NC41IiByeD0iMjIuNSIgcnk9IjEyLjUiLz4KICAgIDx0ZXh0ICBpZD0icEdyb190ZXh0IiB4PSI1MzAiIHk9IjQ3NyIgdGV4dC1hbmNob3I9Im1pZGRsZSI+cEdybzwvdGV4dD4KICA8L2c+CiAgPGcgaWQ9IkdybyIgY2xhc3M9Im5vZGUgY3VzdG9tX20xIj4KICAgIDxlbGxpcHNlIGlkPSJHcm9fc2hhcGUiIGNsYXNzPSJzaGFwZSIgY3g9IjUzMC41IiBjeT0iNTI1LjUiIHJ4PSIyMi41IiByeT0iMTIuNSIvPgogICAgPHRleHQgIGlkPSJHcm9fdGV4dCIgeD0iNTMwIiB5PSI1MjgiIHRleHQtYW5jaG9yPSJtaWRkbGUiPkdybzwvdGV4dD4KICA8L2c+Cjwvc3ZnPgo=\">"
      ],
      "text/plain": [
       "<IPython.core.display.HTML object>"
      ]
     },
     "execution_count": 34,
     "metadata": {},
     "output_type": "execute_result"
    }
   ],
   "source": [
    "# Reduce fixed values\n",
    "lqm_model_fixed_reduced = biolqm.reduce(lqm_model, \":fixed :purge\")\n",
    "show_fixed(gs_model, lqm_model_fixed_reduced, styler_fixed)"
   ]
  },
  {
   "cell_type": "markdown",
   "metadata": {},
   "source": [
    "## Perturbations via bioLQM "
   ]
  },
  {
   "cell_type": "code",
   "execution_count": 67,
   "metadata": {},
   "outputs": [],
   "source": [
    "#Set ind to 1\n",
    "mlqm = biolqm.perturbation(lqm_model, \"ind%1\")\n",
    "\n",
    "fixpoints_ind = biolqm.fixpoints(mlqm)\n",
    "tabulate(fixpoints_ind)\n",
    "\n",
    "reduced = biolqm.reduce(mlqm , \"fixed,outputs\")\n"
   ]
  },
  {
   "cell_type": "code",
   "execution_count": 54,
   "metadata": {},
   "outputs": [
    {
     "data": {
      "text/html": [
       "<img class=\"unconfined\" width=\"573px\" src=\"data:image/svg+xml;base64,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\">"
      ],
      "text/plain": [
       "<IPython.core.display.HTML object>"
      ]
     },
     "execution_count": 54,
     "metadata": {},
     "output_type": "execute_result"
    }
   ],
   "source": [
    "#Set ind to 0\n",
    "mlqm_ind_0 = biolqm.perturbation(lqm_model, \"ind%0\")\n",
    "\n",
    "fixpoints_ind_0 = biolqm.fixpoints(mlqm_ind_0)\n",
    "\n",
    "reduced_ind_0 = biolqm.reduce(mlqm_ind_0 , \"fixed,outputs\")\n",
    "show_fixed(gs_model, reduced_ind_0 , styler_fixed)"
   ]
  },
  {
   "cell_type": "code",
   "execution_count": 55,
   "metadata": {},
   "outputs": [
    {
     "data": {
      "text/html": [
       "<img class=\"unconfined\" width=\"573px\" src=\"data:image/svg+xml;base64,PD94bWwgdmVyc2lvbj0iMS4wIiBlbmNvZGluZz0iVVRGLTgiPz4KPCFET0NUWVBFIHN2ZyBQVUJMSUMgIi0vL1czQy8vRFREIFNWRyAyMDAwMTEwMi8vRU4iICJodHRwOi8vd3d3LnczLm9yZy9UUi8yMDAwL0NSLVNWRy0yMDAwMTEwMi9EVEQvc3ZnLTIwMDAxMTAyLmR0ZCI+Cjxzdmcgd2lkdGg9IjU3My4wIiBoZWlnaHQ9IjY2My4wIiB4bWxucz0iaHR0cDovL3d3dy53My5vcmcvMjAwMC9zdmciIHZlcnNpb249IjEuMSI+CiAgPHN0eWxlIHR5cGU9InRleHQvY3NzIj4KdGV4dCB7CiAgZm9udC1mYW1pbHk6ICdTYW5zU2VyaWYnOwogIGZvbnQtc2l6ZTogMTJweDsKfQoubm9kZSAuc2hhcGUgewpmaWxsOiAjZmZmZmZmOwpzdHJva2U6ICMwMDAwMDA7Cn0KLm5vZGUgdGV4dCB7CmZpbGw6ICMwMDAwMDA7Cn0KLm5vZGVfbm9kZV9zdHlsZSAuc2hhcGUgewpmaWxsOiAjZmZmZmZmOwpzdHJva2U6ICMwMDAwMDA7Cn0KLm5vZGVfbm9kZV9zdHlsZSB0ZXh0IHsKZmlsbDogIzAwMDAwMDsKfQoubm9kZV9ub2RlX3N0eWxlXzIgLnNoYXBlIHsKZmlsbDogI2ZmZmZmZjsKc3Ryb2tlOiAjMDAwMDAwOwp9Ci5ub2RlX25vZGVfc3R5bGVfMiB0ZXh0IHsKZmlsbDogIzAwMDAwMDsKfQouZWRnZSB7CnN0cm9rZTogIzAwMDAwMDsKZmlsbDogbm9uZTsKc3Ryb2tlLXdpZHRoOiAxOwp9Ci5lZGdlX1BPU0lUSVZFIHsKc3Ryb2tlOiAjMDBjODAwOwp9Ci5lZGdlX05FR0FUSVZFIHsKc3Ryb2tlOiAjYzgwMDAwOwp9Ci5lZGdlX0RVQUwgewpzdHJva2U6ICMwMDAwYzg7Cn0KLmVkZ2VfZWRnZV9zdHlsZSB7CnN0cm9rZTogI2M4MDAwMDsKZmlsbDogbm9uZTsKc3Ryb2tlLXdpZHRoOiAxOwp9Ci5lZGdlX2VkZ2Vfc3R5bGVfMiB7CnN0cm9rZTogIzAwYzgwMDsKZmlsbDogbm9uZTsKc3Ryb2tlLXdpZHRoOiAxOwp9Ci5zdGF0ZV9mcmVlIC5zaGFwZSB7IGZpbGw6ICNmZmRjOTY7IH0KLnN0YXRlX2FjdGl2ZSAuc2hhcGUgeyBmaWxsOiAjMzIzMjk2OyB9Ci5zdGF0ZV9hY3RpdmUgdGV4dCB7IGZpbGw6ICNmZmZmZmY7IH0KLnN0YXRlX2luYWN0aXZlIC5zaGFwZSB7IGZpbGw6ICNmZmZmZmY7IH0KLnN0YXRlX3BhcnRpYWwgLnNoYXBlIHsgZmlsbDogIzMyOTZjODsgfQouZWRnZV9hY3RpdmUgeyBzdHJva2U6ICMwMDAwZmY7IH0KLmVkZ2VfaW5hY3RpdmUgeyBzdHJva2U6ICM4MDgwODA7IH0KPC9zdHlsZT4KICA8ZGVmcz4KICAgIDxtYXJrZXIgaWQ9Ik1hcmtlcl9ORUdBVElWRV8wMDAwZmYiIHZpZXdCb3g9Ii03IC03IDEyIDE1IiBvcmllbnQ9ImF1dG8iIG1hcmtlckhlaWdodD0iOSIgbWFya2VyV2lkdGg9IjkiPgogICAgICA8cGF0aCBzdHJva2U9IiMwMDAwZmYiIGZpbGw9IiMwMDAwZmYiIGQ9Ik0gLTEgLTQgTCAtMSA0IEwgMSA0IEwgMSAtNCB6Ii8+CiAgICA8L21hcmtlcj4KICA8L2RlZnM+CiAgPHBhdGggY2xhc3M9ImVkZ2UgZWRnZV9hY3RpdmUiIG1hcmtlci1lbmQ9InVybCgjTWFya2VyX05FR0FUSVZFXzAwMDBmZikiIGQ9Ik0gNTE1LjAgNTkxLjAgTCA0NzkuMCA2MjQuMCIvPgogIDxwYXRoIGNsYXNzPSJlZGdlIGVkZ2VfYWN0aXZlIiBtYXJrZXItZW5kPSJ1cmwoI01hcmtlcl9ORUdBVElWRV8wMDAwZmYpIiBkPSJNIDUwMy4wIDU4My4wIEwgNDg3LjAgNTgzLjAgTCA0NDEuMCA1ODMuMCBMIDQyMi4wIDU4My4wIi8+CiAgPGRlZnM+CiAgICA8bWFya2VyIGlkPSJNYXJrZXJfUE9TSVRJVkVfODA4MDgwIiB2aWV3Qm94PSItNyAtNyAxMiAxNSIgb3JpZW50PSJhdXRvIiBtYXJrZXJIZWlnaHQ9IjkiIG1hcmtlcldpZHRoPSI5Ij4KICAgICAgPHBhdGggc3Ryb2tlPSIjODA4MDgwIiBmaWxsPSIjODA4MDgwIiBkPSJNIC00IC01IEwgLTIgMCBMIC00IDUgTCAyIDAgeiIvPgogICAgPC9tYXJrZXI+CiAgPC9kZWZzPgogIDxwYXRoIGNsYXNzPSJlZGdlIGVkZ2VfaW5hY3RpdmUiIG1hcmtlci1lbmQ9InVybCgjTWFya2VyX1BPU0lUSVZFXzgwODA4MCkiIGQ9Ik0gNTA2LjAgMzA1LjAgTCA0NzUuMCAzMzIuMCIvPgogIDxkZWZzPgogICAgPG1hcmtlciBpZD0iTWFya2VyX05FR0FUSVZFXzgwODA4MCIgdmlld0JveD0iLTcgLTcgMTIgMTUiIG9yaWVudD0iYXV0byIgbWFya2VySGVpZ2h0PSI5IiBtYXJrZXJXaWR0aD0iOSI+CiAgICAgIDxwYXRoIHN0cm9rZT0iIzgwODA4MCIgZmlsbD0iIzgwODA4MCIgZD0iTSAtMSAtNCBMIC0xIDQgTCAxIDQgTCAxIC00IHoiLz4KICAgIDwvbWFya2VyPgogIDwvZGVmcz4KICA8cGF0aCBjbGFzcz0iZWRnZSBlZGdlX2luYWN0aXZlIiBtYXJrZXItZW5kPSJ1cmwoI01hcmtlcl9ORUdBVElWRV84MDgwODApIiBkPSJNIDQ1OS4wIDMwMi4wIEwgNDU5LjAgMzM1LjAiLz4KICA8cGF0aCBjbGFzcz0iZWRnZSBlZGdlX2luYWN0aXZlIiBtYXJrZXItZW5kPSJ1cmwoI01hcmtlcl9ORUdBVElWRV84MDgwODApIiBkPSJNIDQwOS4wIDU5MS4wIEwgNDQ2LjAgNjI0LjAiLz4KICA8cGF0aCBjbGFzcz0iZWRnZSBlZGdlX2luYWN0aXZlIiBtYXJrZXItZW5kPSJ1cmwoI01hcmtlcl9ORUdBVElWRV84MDgwODApIiBkPSJNIDQyMS4wIDU2Ny4wIEwgNDcwLjAgNTY3LjAgTCA1MDEuMCA1NjcuMCIvPgogIDxwYXRoIGNsYXNzPSJlZGdlIGVkZ2VfaW5hY3RpdmUiIG1hcmtlci1lbmQ9InVybCgjTWFya2VyX1BPU0lUSVZFXzgwODA4MCkiIGQ9Ik0gNDU5LjAgMzY2LjAgTCA0NTkuMCAzOTIuMCIvPgogIDxwYXRoIGNsYXNzPSJlZGdlIGVkZ2VfYWN0aXZlIiBtYXJrZXItZW5kPSJ1cmwoI01hcmtlcl9ORUdBVElWRV8wMDAwZmYpIiBkPSJNIDUzMC4wIDUzOC4wIEwgNTMwLjAgNTU4LjAiLz4KICA8cGF0aCBjbGFzcz0iZWRnZSBlZGdlX2luYWN0aXZlIiBtYXJrZXItZW5kPSJ1cmwoI01hcmtlcl9QT1NJVElWRV84MDgwODApIiBkPSJNIDQxMi4wIDMwNS4wIEwgNDQyLjAgMzMyLjAiLz4KICA8cGF0aCBjbGFzcz0iZWRnZSBlZGdlX2luYWN0aXZlIiBtYXJrZXItZW5kPSJ1cmwoI01hcmtlcl9QT1NJVElWRV84MDgwODApIiBkPSJNIDQ0NS4wIDQyNS4wIEwgNDA5LjAgNDU4LjAiLz4KICA8cGF0aCBjbGFzcz0iZWRnZSBlZGdlX2luYWN0aXZlIiBtYXJrZXItZW5kPSJ1cmwoI01hcmtlcl9ORUdBVElWRV84MDgwODApIiBkPSJNIDQ2MC4wIDQyMy4wIEwgNDYwLjAgNDU5LjAiLz4KICA8cGF0aCBjbGFzcz0iZWRnZSBlZGdlX2luYWN0aXZlIiBtYXJrZXItZW5kPSJ1cmwoI01hcmtlcl9QT1NJVElWRV84MDgwODApIiBkPSJNIDQ3NS4wIDQyNS4wIEwgNTE1LjAgNDU4LjAiLz4KICA8cGF0aCBjbGFzcz0iZWRnZSBlZGdlX2luYWN0aXZlIiBtYXJrZXItZW5kPSJ1cmwoI01hcmtlcl9ORUdBVElWRV84MDgwODApIiBkPSJNIDUzMC4wIDQ4Ny4wIEwgNTMwLjAgNTEyLjAiLz4KICA8cGF0aCBjbGFzcz0iZWRnZSBlZGdlX2luYWN0aXZlIiBtYXJrZXItZW5kPSJ1cmwoI01hcmtlcl9QT1NJVElWRV84MDgwODApIiBkPSJNIDU0MS4wIDQ2MC4wIEwgNTQxLjAgNDQ3LjAgTCA1NjguMCA0NDcuMCBMIDU2OC4wIDQ3NC4wIEwgNTU2LjAgNDc0LjAiLz4KICA8cGF0aCBjbGFzcz0iZWRnZSBlZGdlX2luYWN0aXZlIiBtYXJrZXItZW5kPSJ1cmwoI01hcmtlcl9QT1NJVElWRV84MDgwODApIiBkPSJNIDM5NC4wIDQ5Mi4wIEwgMzk0LjAgNTU4LjAiLz4KICA8ZyBpZD0iU3BpIiBjbGFzcz0ibm9kZSBzdGF0ZV9pbmFjdGl2ZSI+CiAgICA8cmVjdCBpZD0iU3BpX3NoYXBlIiBjbGFzcz0ic2hhcGUiIHdpZHRoPSI1MCIgaGVpZ2h0PSIzMCIgeD0iNDk2IiB5PSIyNzMiLz4KICAgIDx0ZXh0ICBpZD0iU3BpX3RleHQiIHg9IjUyMSIgeT0iMjkxIiB0ZXh0LWFuY2hvcj0ibWlkZGxlIj5TcGk8L3RleHQ+CiAgPC9nPgogIDxnIGlkPSJWbiIgY2xhc3M9Im5vZGUgc3RhdGVfaW5hY3RpdmUiPgogICAgPHJlY3QgaWQ9IlZuX3NoYXBlIiBjbGFzcz0ic2hhcGUiIHdpZHRoPSI1MCIgaGVpZ2h0PSIzMCIgeD0iMzczIiB5PSIyNzMiLz4KICAgIDx0ZXh0ICBpZD0iVm5fdGV4dCIgeD0iMzk4IiB5PSIyOTEiIHRleHQtYW5jaG9yPSJtaWRkbGUiPlZuPC90ZXh0PgogIDwvZz4KICA8ZyBpZD0iRWdmciIgY2xhc3M9Im5vZGUgc3RhdGVfaW5hY3RpdmUiPgogICAgPHJlY3QgaWQ9IkVnZnJfc2hhcGUiIGNsYXNzPSJzaGFwZSIgd2lkdGg9IjUwIiBoZWlnaHQ9IjMwIiB4PSI0MzQiIHk9IjMzNiIvPgogICAgPHRleHQgIGlkPSJFZ2ZyX3RleHQiIHg9IjQ1OSIgeT0iMzU0IiB0ZXh0LWFuY2hvcj0ibWlkZGxlIj5FZ2ZyPC90ZXh0PgogIDwvZz4KICA8ZyBpZD0iUmwiIGNsYXNzPSJub2RlIHN0YXRlX2luYWN0aXZlIj4KICAgIDxyZWN0IGlkPSJSbF9zaGFwZSIgY2xhc3M9InNoYXBlIiB3aWR0aD0iNTAiIGhlaWdodD0iMzAiIHg9IjQzNSIgeT0iMzkzIi8+CiAgICA8dGV4dCAgaWQ9IlJsX3RleHQiIHg9IjQ2MCIgeT0iNDExIiB0ZXh0LWFuY2hvcj0ibWlkZGxlIj5SbDwvdGV4dD4KICA8L2c+CiAgPGcgaWQ9IkFvcCIgY2xhc3M9Im5vZGUgc3RhdGVfYWN0aXZlIj4KICAgIDxyZWN0IGlkPSJBb3Bfc2hhcGUiIGNsYXNzPSJzaGFwZSIgd2lkdGg9IjUwIiBoZWlnaHQ9IjMwIiB4PSI0MzYiIHk9IjQ2MCIvPgogICAgPHRleHQgIGlkPSJBb3BfdGV4dCIgeD0iNDYxIiB5PSI0NzgiIHRleHQtYW5jaG9yPSJtaWRkbGUiPkFvcDwvdGV4dD4KICA8L2c+CiAgPGcgaWQ9IlBudCIgY2xhc3M9Im5vZGUgc3RhdGVfaW5hY3RpdmUiPgogICAgPHJlY3QgaWQ9IlBudF9zaGFwZSIgY2xhc3M9InNoYXBlIiB3aWR0aD0iNTAiIGhlaWdodD0iMzAiIHg9IjM2OSIgeT0iNDYyIi8+CiAgICA8dGV4dCAgaWQ9IlBudF90ZXh0IiB4PSIzOTQiIHk9IjQ4MCIgdGV4dC1hbmNob3I9Im1pZGRsZSI+UG50PC90ZXh0PgogIDwvZz4KICA8ZyBpZD0iaW5kIiBjbGFzcz0ibm9kZSBzdGF0ZV9hY3RpdmUiPgogICAgPHJlY3QgaWQ9ImluZF9zaGFwZSIgY2xhc3M9InNoYXBlIiB3aWR0aD0iNTAiIGhlaWdodD0iMzAiIHg9IjUwNSIgeT0iNTU5Ii8+CiAgICA8dGV4dCAgaWQ9ImluZF90ZXh0IiB4PSI1MzAiIHk9IjU3NyIgdGV4dC1hbmNob3I9Im1pZGRsZSI+aW5kPC90ZXh0PgogIDwvZz4KICA8ZyBpZD0idm5kIiBjbGFzcz0ibm9kZSBzdGF0ZV9pbmFjdGl2ZSI+CiAgICA8cmVjdCBpZD0idm5kX3NoYXBlIiBjbGFzcz0ic2hhcGUiIHdpZHRoPSI1MCIgaGVpZ2h0PSIzMCIgeD0iMzY5IiB5PSI1NTkiLz4KICAgIDx0ZXh0ICBpZD0idm5kX3RleHQiIHg9IjM5NCIgeT0iNTc3IiB0ZXh0LWFuY2hvcj0ibWlkZGxlIj52bmQ8L3RleHQ+CiAgPC9nPgogIDxnIGlkPSJtc2giIGNsYXNzPSJub2RlIHN0YXRlX2luYWN0aXZlIj4KICAgIDxyZWN0IGlkPSJtc2hfc2hhcGUiIGNsYXNzPSJzaGFwZSIgd2lkdGg9IjUwIiBoZWlnaHQ9IjMwIiB4PSI0MzgiIHk9IjYyOCIvPgogICAgPHRleHQgIGlkPSJtc2hfdGV4dCIgeD0iNDYzIiB5PSI2NDYiIHRleHQtYW5jaG9yPSJtaWRkbGUiPm1zaDwvdGV4dD4KICA8L2c+CiAgPGcgaWQ9IkFvcyIgY2xhc3M9Im5vZGUgc3RhdGVfaW5hY3RpdmUiPgogICAgPHJlY3QgaWQ9IkFvc19zaGFwZSIgY2xhc3M9InNoYXBlIiB3aWR0aD0iNTAiIGhlaWdodD0iMzAiIHg9IjQzNSIgeT0iMjcyIi8+CiAgICA8dGV4dCAgaWQ9IkFvc190ZXh0IiB4PSI0NjAiIHk9IjI5MCIgdGV4dC1hbmNob3I9Im1pZGRsZSI+QW9zPC90ZXh0PgogIDwvZz4KICA8ZyBpZD0icEdybyIgY2xhc3M9Im5vZGUgc3RhdGVfaW5hY3RpdmUiPgogICAgPGVsbGlwc2UgaWQ9InBHcm9fc2hhcGUiIGNsYXNzPSJzaGFwZSIgY3g9IjUzMC41IiBjeT0iNDc0LjUiIHJ4PSIyMi41IiByeT0iMTIuNSIvPgogICAgPHRleHQgIGlkPSJwR3JvX3RleHQiIHg9IjUzMCIgeT0iNDc3IiB0ZXh0LWFuY2hvcj0ibWlkZGxlIj5wR3JvPC90ZXh0PgogIDwvZz4KICA8ZyBpZD0iR3JvIiBjbGFzcz0ibm9kZSBzdGF0ZV9hY3RpdmUiPgogICAgPGVsbGlwc2UgaWQ9Ikdyb19zaGFwZSIgY2xhc3M9InNoYXBlIiBjeD0iNTMwLjUiIGN5PSI1MjUuNSIgcng9IjIyLjUiIHJ5PSIxMi41Ii8+CiAgICA8dGV4dCAgaWQ9Ikdyb190ZXh0IiB4PSI1MzAiIHk9IjUyOCIgdGV4dC1hbmNob3I9Im1pZGRsZSI+R3JvPC90ZXh0PgogIDwvZz4KPC9zdmc+Cg==\">"
      ],
      "text/plain": [
       "<IPython.core.display.HTML object>"
      ]
     },
     "execution_count": 55,
     "metadata": {},
     "output_type": "execute_result"
    }
   ],
   "source": [
    "fixpoints_ind_0 = {'Spi': 0,\n",
    "  'Vn': 0,\n",
    "  'Egfr': 0,\n",
    "  'Rl': 0,\n",
    "  'Aop': 1,\n",
    "  'Pnt': 0,\n",
    "  'ind': 0,\n",
    "  'vnd': 0,\n",
    "  'msh': 1,\n",
    "  'Aos': 0,\n",
    "  'pGro': 0,\n",
    "  'Gro': 1},\n",
    " \n",
    "                  \n",
    "fixpoints_ind_1 = {'Spi': 0,\n",
    "  'Vn': 0,\n",
    "  'Egfr': 0,\n",
    "  'Rl': 0,\n",
    "  'Aop': 1,\n",
    "  'Pnt': 0,\n",
    "  'ind': 1,\n",
    "  'vnd': 0,\n",
    "  'msh': 0,\n",
    "  'Aos': 0,\n",
    "  'pGro': 0,\n",
    "  'Gro': 1}\n",
    "\n",
    "# Display the model\n",
    "ginsim.show(gs_model, fixpoints_ind_1)"
   ]
  },
  {
   "cell_type": "markdown",
   "metadata": {},
   "source": [
    "## Display fixed points"
   ]
  },
  {
   "cell_type": "code",
   "execution_count": 84,
   "metadata": {},
   "outputs": [
    {
     "name": "stdout",
     "output_type": "stream",
     "text": [
      "Before restriction : Total components : 12, Extra components : 0\n"
     ]
    },
    {
     "ename": "NameError",
     "evalue": "name 'lqm_model_restricted_Spi_1' is not defined",
     "output_type": "error",
     "traceback": [
      "\u001b[0;31m\u001b[0m",
      "\u001b[0;31mNameError\u001b[0mTraceback (most recent call last)",
      "\u001b[0;32m<ipython-input-84-22b56a845220>\u001b[0m in \u001b[0;36m<module>\u001b[0;34m\u001b[0m\n\u001b[1;32m      1\u001b[0m print(\"Before restriction : Total components : %d, Extra components : %d\" % (len(lqm_model.getComponents()),\n\u001b[1;32m      2\u001b[0m                                                         len(lqm_model.getExtraComponents())))\n\u001b[0;32m----> 3\u001b[0;31m print(\"After restriction : Total components : %d, Extra components : %d\" % (len(lqm_model_restricted_Spi_1.getComponents()),\n\u001b[0m\u001b[1;32m      4\u001b[0m                                                         len(lqm_model_restricted_Spi_1.getExtraComponents())))\n\u001b[1;32m      5\u001b[0m \u001b[0;31m#biolqm.fixpoints(lqm_model_restricted_Spi_1, \"extra\")\u001b[0m\u001b[0;34m\u001b[0m\u001b[0;34m\u001b[0m\u001b[0;34m\u001b[0m\u001b[0m\n",
      "\u001b[0;31mNameError\u001b[0m: name 'lqm_model_restricted_Spi_1' is not defined"
     ]
    }
   ],
   "source": [
    "print(\"Before restriction : Total components : %d, Extra components : %d\" % (len(lqm_model.getComponents()),\n",
    "                                                        len(lqm_model.getExtraComponents())))\n",
    "print(\"After restriction : Total components : %d, Extra components : %d\" % (len(lqm_model_restricted_Spi_1.getComponents()),\n",
    "                                                        len(lqm_model_restricted_Spi_1.getExtraComponents())))\n",
    "#biolqm.fixpoints(lqm_model_restricted_Spi_1, \"extra\")"
   ]
  },
  {
   "cell_type": "code",
   "execution_count": 61,
   "metadata": {},
   "outputs": [
    {
     "data": {
      "text/html": [
       "<img class=\"unconfined\" width=\"573px\" src=\"data:image/svg+xml;base64,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\">"
      ],
      "text/plain": [
       "<IPython.core.display.HTML object>"
      ]
     },
     "execution_count": 61,
     "metadata": {},
     "output_type": "execute_result"
    }
   ],
   "source": [
    "# Percolate a value of 0 for vnd\n",
    "lqm_model_restricted_vnd_0 = restrict_model(lqm_model, vnd=0)\n",
    "show_fixed(gs_model, lqm_model_restricted_vnd_0, styler_fixed)"
   ]
  },
  {
   "cell_type": "code",
   "execution_count": 59,
   "metadata": {},
   "outputs": [
    {
     "name": "stdout",
     "output_type": "stream",
     "text": [
      "Saving as figure_percolation_vnd_1.svg\n"
     ]
    },
    {
     "data": {
      "text/html": [
       "Saved as <a href='figure_percolation_vnd_1.svg' target='_blank'>figure_percolation_vnd_1.svg</a><br>"
      ],
      "text/plain": [
       "/notebook/figure_percolation_vnd_1.svg"
      ]
     },
     "metadata": {},
     "output_type": "display_data"
    },
    {
     "data": {
      "text/html": [
       "<img class=\"unconfined\" width=\"573px\" src=\"data:image/svg+xml;base64,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\">"
      ],
      "text/plain": [
       "<IPython.core.display.HTML object>"
      ]
     },
     "execution_count": 59,
     "metadata": {},
     "output_type": "execute_result"
    }
   ],
   "source": [
    "# Percolate a value of 1 for vnd\n",
    "lqm_model_restricted_vnd_1 = restrict_model(lqm_model, vnd=1)\n",
    "show_fixed(gs_model, lqm_model_restricted_vnd_1, styler_fixed, save=\"figure_percolation_vnd_1\")"
   ]
  },
  {
   "cell_type": "code",
   "execution_count": 73,
   "metadata": {},
   "outputs": [
    {
     "name": "stdout",
     "output_type": "stream",
     "text": [
      "Saving as figure_percolation_vnd.svg\n"
     ]
    },
    {
     "data": {
      "text/html": [
       "Saved as <a href='figure_percolation_vnd.svg' target='_blank'>figure_percolation_vnd.svg</a><br>"
      ],
      "text/plain": [
       "/notebook/figure_percolation_vnd.svg"
      ]
     },
     "metadata": {},
     "output_type": "display_data"
    },
    {
     "data": {
      "text/html": [
       "<img class=\"unconfined\" width=\"573px\" src=\"data:image/svg+xml;base64,PD94bWwgdmVyc2lvbj0iMS4wIiBlbmNvZGluZz0iVVRGLTgiPz4KPCFET0NUWVBFIHN2ZyBQVUJMSUMgIi0vL1czQy8vRFREIFNWRyAyMDAwMTEwMi8vRU4iICJodHRwOi8vd3d3LnczLm9yZy9UUi8yMDAwL0NSLVNWRy0yMDAwMTEwMi9EVEQvc3ZnLTIwMDAxMTAyLmR0ZCI+Cjxzdmcgd2lkdGg9IjU3My4wIiBoZWlnaHQ9IjY2My4wIiB4bWxucz0iaHR0cDovL3d3dy53My5vcmcvMjAwMC9zdmciIHZlcnNpb249IjEuMSI+CiAgPHN0eWxlIHR5cGU9InRleHQvY3NzIj4KdGV4dCB7CiAgZm9udC1mYW1pbHk6ICdTYW5zU2VyaWYnOwogIGZvbnQtc2l6ZTogMTJweDsKfQoubm9kZSAuc2hhcGUgewpmaWxsOiAjZmZmZmZmOwpzdHJva2U6ICMwMDAwMDA7Cn0KLm5vZGUgdGV4dCB7CmZpbGw6ICMwMDAwMDA7Cn0KLm5vZGVfbm9kZV9zdHlsZSAuc2hhcGUgewpmaWxsOiAjZmZmZmZmOwpzdHJva2U6ICMwMDAwMDA7Cn0KLm5vZGVfbm9kZV9zdHlsZSB0ZXh0IHsKZmlsbDogIzAwMDAwMDsKfQoubm9kZV9ub2RlX3N0eWxlXzIgLnNoYXBlIHsKZmlsbDogI2ZmZmZmZjsKc3Ryb2tlOiAjMDAwMDAwOwp9Ci5ub2RlX25vZGVfc3R5bGVfMiB0ZXh0IHsKZmlsbDogIzAwMDAwMDsKfQouZWRnZSB7CnN0cm9rZTogIzAwMDAwMDsKZmlsbDogbm9uZTsKc3Ryb2tlLXdpZHRoOiAxOwp9Ci5lZGdlX1BPU0lUSVZFIHsKc3Ryb2tlOiAjMDBjODAwOwp9Ci5lZGdlX05FR0FUSVZFIHsKc3Ryb2tlOiAjYzgwMDAwOwp9Ci5lZGdlX0RVQUwgewpzdHJva2U6ICMwMDAwYzg7Cn0KLmVkZ2VfZWRnZV9zdHlsZSB7CnN0cm9rZTogI2M4MDAwMDsKZmlsbDogbm9uZTsKc3Ryb2tlLXdpZHRoOiAxOwp9Ci5lZGdlX2VkZ2Vfc3R5bGVfMiB7CnN0cm9rZTogIzAwYzgwMDsKZmlsbDogbm9uZTsKc3Ryb2tlLXdpZHRoOiAxOwp9Ci5jdXN0b21fMCAuc2hhcGUgeyBmaWxsOiAjZmZmZmI0OyB9Ci5jdXN0b21fbTEgLnNoYXBlIHsgZmlsbDogI2ZmZmZmZjsgfQouY3VzdG9tX20yIC5zaGFwZSB7IGZpbGw6ICNhZmFmYWY7IH0KLmN1c3RvbV8xIC5zaGFwZSB7IGZpbGw6ICNmZmI0Nzg7IH0KLmN1c3RvbV8yIC5zaGFwZSB7IGZpbGw6ICNmZmI0Nzg7IH0KLmN1c3RvbV8yMCAuc2hhcGUgeyBmaWxsOiAjYzhjOGZmOyB9Ci5jdXN0b21fMTAwIC5zaGFwZSB7IGZpbGw6ICNmZmI0YjQ7IH0KLmN1c3RvbV8yMSAuc2hhcGUgeyBmaWxsOiAjN2Q3ZGM4OyB9Ci5jdXN0b21fMTAgLnNoYXBlIHsgZmlsbDogI2M4ZmZjODsgfQouY3VzdG9tXzExIC5zaGFwZSB7IGZpbGw6ICM3ZGM4N2Q7IH0KLmN1c3RvbV9hY3RpdmUgeyBzdHJva2U6ICM4MDgwODA7fQouY3VzdG9tX2luYWN0aXZlIHtzdHJva2U6ICM4MDgwODA7fQo8L3N0eWxlPgogIDxkZWZzPgogICAgPG1hcmtlciBpZD0iTWFya2VyX05FR0FUSVZFXzgwODA4MCIgdmlld0JveD0iLTcgLTcgMTIgMTUiIG9yaWVudD0iYXV0byIgbWFya2VySGVpZ2h0PSI5IiBtYXJrZXJXaWR0aD0iOSI+CiAgICAgIDxwYXRoIHN0cm9rZT0iIzgwODA4MCIgZmlsbD0iIzgwODA4MCIgZD0iTSAtMSAtNCBMIC0xIDQgTCAxIDQgTCAxIC00IHoiLz4KICAgIDwvbWFya2VyPgogIDwvZGVmcz4KICA8cGF0aCBjbGFzcz0iZWRnZSBjdXN0b21fYWN0aXZlIiBtYXJrZXItZW5kPSJ1cmwoI01hcmtlcl9ORUdBVElWRV84MDgwODApIiBkPSJNIDUxNS4wIDU5MS4wIEwgNDc5LjAgNjI0LjAiLz4KICA8cGF0aCBjbGFzcz0iZWRnZSBjdXN0b21fYWN0aXZlIiBtYXJrZXItZW5kPSJ1cmwoI01hcmtlcl9ORUdBVElWRV84MDgwODApIiBkPSJNIDUwMy4wIDU4My4wIEwgNDg3LjAgNTgzLjAgTCA0NDEuMCA1ODMuMCBMIDQyMi4wIDU4My4wIi8+CiAgPGRlZnM+CiAgICA8bWFya2VyIGlkPSJNYXJrZXJfUE9TSVRJVkVfODA4MDgwIiB2aWV3Qm94PSItNyAtNyAxMiAxNSIgb3JpZW50PSJhdXRvIiBtYXJrZXJIZWlnaHQ9IjkiIG1hcmtlcldpZHRoPSI5Ij4KICAgICAgPHBhdGggc3Ryb2tlPSIjODA4MDgwIiBmaWxsPSIjODA4MDgwIiBkPSJNIC00IC01IEwgLTIgMCBMIC00IDUgTCAyIDAgeiIvPgogICAgPC9tYXJrZXI+CiAgPC9kZWZzPgogIDxwYXRoIGNsYXNzPSJlZGdlIGN1c3RvbV9pbmFjdGl2ZSIgbWFya2VyLWVuZD0idXJsKCNNYXJrZXJfUE9TSVRJVkVfODA4MDgwKSIgZD0iTSA1MDYuMCAzMDUuMCBMIDQ3NS4wIDMzMi4wIi8+CiAgPHBhdGggY2xhc3M9ImVkZ2UgY3VzdG9tX2luYWN0aXZlIiBtYXJrZXItZW5kPSJ1cmwoI01hcmtlcl9ORUdBVElWRV84MDgwODApIiBkPSJNIDQ1OS4wIDMwMi4wIEwgNDU5LjAgMzM1LjAiLz4KICA8cGF0aCBjbGFzcz0iZWRnZSBjdXN0b21fYWN0aXZlIiBtYXJrZXItZW5kPSJ1cmwoI01hcmtlcl9ORUdBVElWRV84MDgwODApIiBkPSJNIDQwOS4wIDU5MS4wIEwgNDQ2LjAgNjI0LjAiLz4KICA8cGF0aCBjbGFzcz0iZWRnZSBjdXN0b21fYWN0aXZlIiBtYXJrZXItZW5kPSJ1cmwoI01hcmtlcl9ORUdBVElWRV84MDgwODApIiBkPSJNIDQyMS4wIDU2Ny4wIEwgNDcwLjAgNTY3LjAgTCA1MDEuMCA1NjcuMCIvPgogIDxwYXRoIGNsYXNzPSJlZGdlIGN1c3RvbV9pbmFjdGl2ZSIgbWFya2VyLWVuZD0idXJsKCNNYXJrZXJfUE9TSVRJVkVfODA4MDgwKSIgZD0iTSA0NTkuMCAzNjYuMCBMIDQ1OS4wIDM5Mi4wIi8+CiAgPHBhdGggY2xhc3M9ImVkZ2UgY3VzdG9tX2luYWN0aXZlIiBtYXJrZXItZW5kPSJ1cmwoI01hcmtlcl9ORUdBVElWRV84MDgwODApIiBkPSJNIDUzMC4wIDUzOC4wIEwgNTMwLjAgNTU4LjAiLz4KICA8cGF0aCBjbGFzcz0iZWRnZSBjdXN0b21faW5hY3RpdmUiIG1hcmtlci1lbmQ9InVybCgjTWFya2VyX1BPU0lUSVZFXzgwODA4MCkiIGQ9Ik0gNDEyLjAgMzA1LjAgTCA0NDIuMCAzMzIuMCIvPgogIDxwYXRoIGNsYXNzPSJlZGdlIGN1c3RvbV9pbmFjdGl2ZSIgbWFya2VyLWVuZD0idXJsKCNNYXJrZXJfUE9TSVRJVkVfODA4MDgwKSIgZD0iTSA0NDUuMCA0MjUuMCBMIDQwOS4wIDQ1OC4wIi8+CiAgPHBhdGggY2xhc3M9ImVkZ2UgY3VzdG9tX2luYWN0aXZlIiBtYXJrZXItZW5kPSJ1cmwoI01hcmtlcl9ORUdBVElWRV84MDgwODApIiBkPSJNIDQ2MC4wIDQyMy4wIEwgNDYwLjAgNDU5LjAiLz4KICA8cGF0aCBjbGFzcz0iZWRnZSBjdXN0b21faW5hY3RpdmUiIG1hcmtlci1lbmQ9InVybCgjTWFya2VyX1BPU0lUSVZFXzgwODA4MCkiIGQ9Ik0gNDc1LjAgNDI1LjAgTCA1MTUuMCA0NTguMCIvPgogIDxwYXRoIGNsYXNzPSJlZGdlIGN1c3RvbV9pbmFjdGl2ZSIgbWFya2VyLWVuZD0idXJsKCNNYXJrZXJfTkVHQVRJVkVfODA4MDgwKSIgZD0iTSA1MzAuMCA0ODcuMCBMIDUzMC4wIDUxMi4wIi8+CiAgPHBhdGggY2xhc3M9ImVkZ2UgY3VzdG9tX2luYWN0aXZlIiBtYXJrZXItZW5kPSJ1cmwoI01hcmtlcl9QT1NJVElWRV84MDgwODApIiBkPSJNIDU0MS4wIDQ2MC4wIEwgNTQxLjAgNDQ3LjAgTCA1NjguMCA0NDcuMCBMIDU2OC4wIDQ3NC4wIEwgNTU2LjAgNDc0LjAiLz4KICA8cGF0aCBjbGFzcz0iZWRnZSBjdXN0b21faW5hY3RpdmUiIG1hcmtlci1lbmQ9InVybCgjTWFya2VyX1BPU0lUSVZFXzgwODA4MCkiIGQ9Ik0gMzk0LjAgNDkyLjAgTCAzOTQuMCA1NTguMCIvPgogIDxnIGlkPSJTcGkiIGNsYXNzPSJub2RlIGN1c3RvbV9tMiI+CiAgICA8cmVjdCBpZD0iU3BpX3NoYXBlIiBjbGFzcz0ic2hhcGUiIHdpZHRoPSI1MCIgaGVpZ2h0PSIzMCIgeD0iNDk2IiB5PSIyNzMiLz4KICAgIDx0ZXh0ICBpZD0iU3BpX3RleHQiIHg9IjUyMSIgeT0iMjkxIiB0ZXh0LWFuY2hvcj0ibWlkZGxlIj5TcGk8L3RleHQ+CiAgPC9nPgogIDxnIGlkPSJWbiIgY2xhc3M9Im5vZGUgY3VzdG9tX20yIj4KICAgIDxyZWN0IGlkPSJWbl9zaGFwZSIgY2xhc3M9InNoYXBlIiB3aWR0aD0iNTAiIGhlaWdodD0iMzAiIHg9IjM3MyIgeT0iMjczIi8+CiAgICA8dGV4dCAgaWQ9IlZuX3RleHQiIHg9IjM5OCIgeT0iMjkxIiB0ZXh0LWFuY2hvcj0ibWlkZGxlIj5WbjwvdGV4dD4KICA8L2c+CiAgPGcgaWQ9IkVnZnIiIGNsYXNzPSJub2RlIGN1c3RvbV9tMSI+CiAgICA8cmVjdCBpZD0iRWdmcl9zaGFwZSIgY2xhc3M9InNoYXBlIiB3aWR0aD0iNTAiIGhlaWdodD0iMzAiIHg9IjQzNCIgeT0iMzM2Ii8+CiAgICA8dGV4dCAgaWQ9IkVnZnJfdGV4dCIgeD0iNDU5IiB5PSIzNTQiIHRleHQtYW5jaG9yPSJtaWRkbGUiPkVnZnI8L3RleHQ+CiAgPC9nPgogIDxnIGlkPSJSbCIgY2xhc3M9Im5vZGUgY3VzdG9tX20xIj4KICAgIDxyZWN0IGlkPSJSbF9zaGFwZSIgY2xhc3M9InNoYXBlIiB3aWR0aD0iNTAiIGhlaWdodD0iMzAiIHg9IjQzNSIgeT0iMzkzIi8+CiAgICA8dGV4dCAgaWQ9IlJsX3RleHQiIHg9IjQ2MCIgeT0iNDExIiB0ZXh0LWFuY2hvcj0ibWlkZGxlIj5SbDwvdGV4dD4KICA8L2c+CiAgPGcgaWQ9IkFvcCIgY2xhc3M9Im5vZGUgY3VzdG9tX20xIj4KICAgIDxyZWN0IGlkPSJBb3Bfc2hhcGUiIGNsYXNzPSJzaGFwZSIgd2lkdGg9IjUwIiBoZWlnaHQ9IjMwIiB4PSI0MzYiIHk9IjQ2MCIvPgogICAgPHRleHQgIGlkPSJBb3BfdGV4dCIgeD0iNDYxIiB5PSI0NzgiIHRleHQtYW5jaG9yPSJtaWRkbGUiPkFvcDwvdGV4dD4KICA8L2c+CiAgPGcgaWQ9IlBudCIgY2xhc3M9Im5vZGUgY3VzdG9tX20xIj4KICAgIDxyZWN0IGlkPSJQbnRfc2hhcGUiIGNsYXNzPSJzaGFwZSIgd2lkdGg9IjUwIiBoZWlnaHQ9IjMwIiB4PSIzNjkiIHk9IjQ2MiIvPgogICAgPHRleHQgIGlkPSJQbnRfdGV4dCIgeD0iMzk0IiB5PSI0ODAiIHRleHQtYW5jaG9yPSJtaWRkbGUiPlBudDwvdGV4dD4KICA8L2c+CiAgPGcgaWQ9ImluZCIgY2xhc3M9Im5vZGUgY3VzdG9tXzEwIj4KICAgIDxyZWN0IGlkPSJpbmRfc2hhcGUiIGNsYXNzPSJzaGFwZSIgd2lkdGg9IjUwIiBoZWlnaHQ9IjMwIiB4PSI1MDUiIHk9IjU1OSIvPgogICAgPHRleHQgIGlkPSJpbmRfdGV4dCIgeD0iNTMwIiB5PSI1NzciIHRleHQtYW5jaG9yPSJtaWRkbGUiPmluZDwvdGV4dD4KICA8L2c+CiAgPGcgaWQ9InZuZCIgY2xhc3M9Im5vZGUgY3VzdG9tXzEwMCI+CiAgICA8cmVjdCBpZD0idm5kX3NoYXBlIiBjbGFzcz0ic2hhcGUiIHdpZHRoPSI1MCIgaGVpZ2h0PSIzMCIgeD0iMzY5IiB5PSI1NTkiLz4KICAgIDx0ZXh0ICBpZD0idm5kX3RleHQiIHg9IjM5NCIgeT0iNTc3IiB0ZXh0LWFuY2hvcj0ibWlkZGxlIj52bmQ8L3RleHQ+CiAgPC9nPgogIDxnIGlkPSJtc2giIGNsYXNzPSJub2RlIGN1c3RvbV8xMCI+CiAgICA8cmVjdCBpZD0ibXNoX3NoYXBlIiBjbGFzcz0ic2hhcGUiIHdpZHRoPSI1MCIgaGVpZ2h0PSIzMCIgeD0iNDM4IiB5PSI2MjgiLz4KICAgIDx0ZXh0ICBpZD0ibXNoX3RleHQiIHg9IjQ2MyIgeT0iNjQ2IiB0ZXh0LWFuY2hvcj0ibWlkZGxlIj5tc2g8L3RleHQ+CiAgPC9nPgogIDxnIGlkPSJBb3MiIGNsYXNzPSJub2RlIGN1c3RvbV9tMiI+CiAgICA8cmVjdCBpZD0iQW9zX3NoYXBlIiBjbGFzcz0ic2hhcGUiIHdpZHRoPSI1MCIgaGVpZ2h0PSIzMCIgeD0iNDM1IiB5PSIyNzIiLz4KICAgIDx0ZXh0ICBpZD0iQW9zX3RleHQiIHg9IjQ2MCIgeT0iMjkwIiB0ZXh0LWFuY2hvcj0ibWlkZGxlIj5Bb3M8L3RleHQ+CiAgPC9nPgogIDxnIGlkPSJwR3JvIiBjbGFzcz0ibm9kZSBjdXN0b21fbTEiPgogICAgPGVsbGlwc2UgaWQ9InBHcm9fc2hhcGUiIGNsYXNzPSJzaGFwZSIgY3g9IjUzMC41IiBjeT0iNDc0LjUiIHJ4PSIyMi41IiByeT0iMTIuNSIvPgogICAgPHRleHQgIGlkPSJwR3JvX3RleHQiIHg9IjUzMCIgeT0iNDc3IiB0ZXh0LWFuY2hvcj0ibWlkZGxlIj5wR3JvPC90ZXh0PgogIDwvZz4KICA8ZyBpZD0iR3JvIiBjbGFzcz0ibm9kZSBjdXN0b21fbTEiPgogICAgPGVsbGlwc2UgaWQ9Ikdyb19zaGFwZSIgY2xhc3M9InNoYXBlIiBjeD0iNTMwLjUiIGN5PSI1MjUuNSIgcng9IjIyLjUiIHJ5PSIxMi41Ii8+CiAgICA8dGV4dCAgaWQ9Ikdyb190ZXh0IiB4PSI1MzAiIHk9IjUyOCIgdGV4dC1hbmNob3I9Im1pZGRsZSI+R3JvPC90ZXh0PgogIDwvZz4KPC9zdmc+Cg==\">"
      ],
      "text/plain": [
       "<IPython.core.display.HTML object>"
      ]
     },
     "execution_count": 73,
     "metadata": {},
     "output_type": "execute_result"
    }
   ],
   "source": [
    "show_fixed_comparison(gs_model, lqm_model_restricted_vnd_0, lqm_model_restricted_vnd_1, styler_comp, save=\"figure_percolation_vnd\")"
   ]
  },
  {
   "cell_type": "markdown",
   "metadata": {},
   "source": [
    "## Assessing the probabilities to reach alternative attractors using MaBoSS\n",
    "\n",
    "MaBoSS (Stoll et al., 2017) is a C++ software enabling the stochastic simulation of Boolean networks by translating them into continuous time Markov processes. Each node activation and inactivation is associated with an up and a down rate, which specify the propensity of the corresponding transitions. From a given state, the simulation integrates all the possible node updates and derives a probability and a duration for each transition. By default, all transitions are assigned the same rate. For a given set of initial conditions, MaBoSS produces time trajectories and estimates probabilities of model states over the whole simulation time. Steady state distributions can thus be approximated, provided that a sufficient number of sufficiently long simulations have been performed.\n",
    "\n",
    "The aim of this section is to reproduce part of the results obtained by Cohen et al. (2015), which show that a Notch (NICD) gain-of-function together with a p53 loss-of-function prevent reaching a stable apoptotic phenotype.\n",
    "\n",
    "First, we convert the bioLQM model to MaBoSS:"
   ]
  },
  {
   "cell_type": "code",
   "execution_count": 74,
   "metadata": {},
   "outputs": [],
   "source": [
    "wt_sim = biolqm.to_maboss(lqm_model)"
   ]
  },
  {
   "cell_type": "code",
   "execution_count": 75,
   "metadata": {},
   "outputs": [],
   "source": [
    "#maboss.wg_set_istate(wt_sim)\n",
    "maboss.set_nodes_istate(wt_sim, [\"Vn\", \"Spi\"], [0.5, 0.5])"
   ]
  },
  {
   "cell_type": "code",
   "execution_count": 76,
   "metadata": {},
   "outputs": [],
   "source": [
    "#maboss.wg_set_output(wt_sim)\n",
    "wt_sim.network.set_output(('ind', 'vnd', 'msh'))"
   ]
  },
  {
   "cell_type": "code",
   "execution_count": 77,
   "metadata": {},
   "outputs": [],
   "source": [
    "wt_sim.update_parameters(discrete_time=0, use_physrandgen=0,\n",
    "        seed_pseudorandom=100, sample_count=50000,\n",
    "        max_time=75, time_tick=0.1, thread_count=4,\n",
    "        statdist_traj_count=100, statdist_cluster_threshold=0.9)"
   ]
  },
  {
   "cell_type": "code",
   "execution_count": 78,
   "metadata": {},
   "outputs": [
    {
     "name": "stdout",
     "output_type": "stream",
     "text": [
      "CPU times: user 874 µs, sys: 8.1 ms, total: 8.98 ms\n",
      "Wall time: 1.49 s\n"
     ]
    }
   ],
   "source": [
    "%time wt_results = wt_sim.run()"
   ]
  },
  {
   "cell_type": "code",
   "execution_count": 79,
   "metadata": {},
   "outputs": [
    {
     "data": {
      "image/png": "[encoded data removed]",
      "text/plain": [
       "<Figure size 432x288 with 1 Axes>"
      ]
     },
     "metadata": {},
     "output_type": "display_data"
    }
   ],
   "source": [
    "wt_results.plot_piechart()"
   ]
  },
  {
   "cell_type": "code",
   "execution_count": 80,
   "metadata": {},
   "outputs": [
    {
     "data": {
      "image/png": "[encoded data removed]",
      "text/plain": [
       "<Figure size 432x288 with 1 Axes>"
      ]
     },
     "metadata": {},
     "output_type": "display_data"
    }
   ],
   "source": [
    "wt_results.plot_node_trajectory(until=40)"
   ]
  },
  {
   "cell_type": "code",
   "execution_count": 81,
   "metadata": {},
   "outputs": [],
   "source": [
    "mut_sim = wt_sim.copy()\n",
    "mut_sim.mutate(\"pGro\", \"OFF\")"
   ]
  },
  {
   "cell_type": "code",
   "execution_count": 82,
   "metadata": {},
   "outputs": [
    {
     "name": "stdout",
     "output_type": "stream",
     "text": [
      "CPU times: user 228 µs, sys: 8.89 ms, total: 9.11 ms\n",
      "Wall time: 1.58 s\n"
     ]
    }
   ],
   "source": [
    "%time mut_results = mut_sim.run()"
   ]
  },
  {
   "cell_type": "code",
   "execution_count": 83,
   "metadata": {},
   "outputs": [
    {
     "data": {
      "image/png": "[encoded data removed]",
      "text/plain": [
       "<Figure size 432x288 with 1 Axes>"
      ]
     },
     "metadata": {},
     "output_type": "display_data"
    }
   ],
   "source": [
    "mut_results.plot_piechart()"
   ]
  },
  {
   "cell_type": "code",
   "execution_count": null,
   "metadata": {},
   "outputs": [],
   "source": []
  }
 ],
 "metadata": {
  "kernelspec": {
   "display_name": "Python 3",
   "language": "python",
   "name": "python3"
  },
  "language_info": {
   "codemirror_mode": {
    "name": "ipython",
    "version": 3
   },
   "file_extension": ".py",
   "mimetype": "text/x-python",
   "name": "python",
   "nbconvert_exporter": "python",
   "pygments_lexer": "ipython3",
   "version": "3.9.1"
  }
 },
 "nbformat": 4,
 "nbformat_minor": 2
}
