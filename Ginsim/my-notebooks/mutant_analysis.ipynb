{
 "cells": [
  {
   "cell_type": "markdown",
   "id": "differential-happiness",
   "metadata": {},
   "source": [
    "# Purtubation analysis "
   ]
  },
  {
   "cell_type": "code",
   "execution_count": 24,
   "id": "peaceful-reservoir",
   "metadata": {},
   "outputs": [],
   "source": [
    "import biolqm\n",
    "import ginsim\n",
    "import pandas as pd\n",
    "import numpy as np\n",
    "from colomoto_jupyter import tabulate\n",
    "import re"
   ]
  },
  {
   "cell_type": "code",
   "execution_count": 30,
   "id": "growing-trainer",
   "metadata": {},
   "outputs": [],
   "source": [
    "mod = ginsim.load(\"Oct_21_checked.zginml\")"
   ]
  },
  {
   "cell_type": "code",
   "execution_count": 31,
   "id": "breeding-celebrity",
   "metadata": {
    "scrolled": false
   },
   "outputs": [
    {
     "data": {
      "text/html": [
       "<img class=\"unconfined\" width=\"763px\" src=\"data:image/svg+xml;base64,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\">"
      ],
      "text/plain": [
       "<IPython.core.display.HTML object>"
      ]
     },
     "execution_count": 31,
     "metadata": {},
     "output_type": "execute_result"
    }
   ],
   "source": [
    "ginsim.show(mod)"
   ]
  },
  {
   "cell_type": "code",
   "execution_count": 32,
   "id": "planned-spare",
   "metadata": {},
   "outputs": [],
   "source": [
    "lqm = ginsim.to_biolqm(mod)"
   ]
  },
  {
   "cell_type": "markdown",
   "id": "wired-answer",
   "metadata": {},
   "source": [
    "## Identification of stable states"
   ]
  },
  {
   "cell_type": "code",
   "execution_count": 33,
   "id": "flush-titanium",
   "metadata": {
    "scrolled": true
   },
   "outputs": [
    {
     "name": "stdout",
     "output_type": "stream",
     "text": [
      "20 fixpoints\n"
     ]
    }
   ],
   "source": [
    "fps = biolqm.fixpoints(lqm)\n",
    "print(len(fps), \"fixpoints\")"
   ]
  },
  {
   "cell_type": "code",
   "execution_count": 34,
   "id": "institutional-insight",
   "metadata": {
    "scrolled": true
   },
   "outputs": [],
   "source": [
    "tfps = tabulate(fps)"
   ]
  },
  {
   "cell_type": "markdown",
   "id": "round-cameroon",
   "metadata": {},
   "source": [
    "## Model perturbation"
   ]
  },
  {
   "cell_type": "markdown",
   "id": "rubber-membership",
   "metadata": {},
   "source": [
    "the biolqm.perturbation function enables the construction of a variant of the model, where the logical function of one (or several) component has been modified. A textual parameter describes the modification:\n",
    "\n",
    "    component%0 defines a knockout of a component\n",
    "    component%1 defines an ectopic expression\n",
    "    component%1:2 restricts the range of values for multi-valued components\n",
    "    regulator:component%0 allows to remove a regulator\n"
   ]
  },
  {
   "cell_type": "markdown",
   "id": "saving-croatia",
   "metadata": {},
   "source": [
    "Lists of perturbations are comma-separated. Here we show the effect of the ectopic expression of each `CycD` and `Rb`. \n",
    "> pert = biolqm.perturbation(lqm, \"CycD%1,Rb%1\")"
   ]
  },
  {
   "cell_type": "markdown",
   "id": "plastic-craft",
   "metadata": {},
   "source": [
    "Multiple perturbations are space-separated. Here we show the effect of the ectopic expression of both `CycD` and `Rb`. \n",
    "> pert = biolqm.perturbation(lqm, \"CycD%1 Rb%1\")"
   ]
  },
  {
   "cell_type": "markdown",
   "id": "representative-dominant",
   "metadata": {},
   "source": [
    "### Load file as vector of pertubations from text file"
   ]
  },
  {
   "cell_type": "markdown",
   "id": "ethical-journey",
   "metadata": {},
   "source": [
    "alter = np.loadtxt(\"perturb.txt\", dtype=str)\n",
    "print(alter)\n",
    "type(alter)"
   ]
  },
  {
   "cell_type": "markdown",
   "id": "czech-whole",
   "metadata": {},
   "source": [
    "alter = [re.sub(\";\", \" \", elem) for elem in alter]\n",
    "print(alter)"
   ]
  },
  {
   "cell_type": "markdown",
   "id": "geological-timer",
   "metadata": {},
   "source": [
    "pert = biolqm.perturbation(lqm, alter[0])"
   ]
  },
  {
   "cell_type": "markdown",
   "id": "stone-carry",
   "metadata": {},
   "source": [
    "pfps = biolqm.fixpoints(pert)\n",
    "pfpst = tabulate(pfps)\n",
    "pfpst['ID']=1"
   ]
  },
  {
   "cell_type": "markdown",
   "id": "incredible-production",
   "metadata": {},
   "source": [
    "# Print fixpoints to file and loop over multiple perturbations"
   ]
  },
  {
   "cell_type": "code",
   "execution_count": 35,
   "id": "clear-boulder",
   "metadata": {},
   "outputs": [],
   "source": [
    "#This is the file where mutations are provided.\n",
    "with open('perturb.txt') as fp:\n",
    "    mydata = fp.read().splitlines() \n",
    "mydata = np.asarray(mydata)"
   ]
  },
  {
   "cell_type": "code",
   "execution_count": 36,
   "id": "champion-rachel",
   "metadata": {
    "scrolled": true
   },
   "outputs": [],
   "source": [
    "# Create attractors for each mutation\n",
    "# ID = the experiment number\n",
    "attractors=[]\n",
    "for index,item in enumerate(mydata):\n",
    "    pert = biolqm.perturbation(lqm, item)\n",
    "    pfps = biolqm.fixpoints(pert)\n",
    "    pfpst = tabulate(pfps)\n",
    "    pfpst['ID']=index\n",
    "    attractors.append(pfpst)"
   ]
  },
  {
   "cell_type": "code",
   "execution_count": 37,
   "id": "dominant-consumption",
   "metadata": {},
   "outputs": [],
   "source": [
    "final = pd.concat(attractors)"
   ]
  },
  {
   "cell_type": "code",
   "execution_count": 38,
   "id": "rocky-inventory",
   "metadata": {},
   "outputs": [],
   "source": [
    "final.to_csv('pert-attractorsout.csv', index=False)  \n",
    "with open(\"attractors.txt\", \"w\") as outfile:\n",
    "    outfile.write(\"\\n\".join(str(item) for item in attractors))"
   ]
  },
  {
   "cell_type": "code",
   "execution_count": 39,
   "id": "interpreted-roads",
   "metadata": {},
   "outputs": [],
   "source": [
    "#WT = pd.concat(tfps)\n",
    "tfps.to_csv('NB_WTout.csv', index=False)  \n"
   ]
  },
  {
   "cell_type": "markdown",
   "id": "jewish-strike",
   "metadata": {},
   "source": [
    "# Repeat analysis for different inhibitors"
   ]
  },
  {
   "cell_type": "code",
   "execution_count": 12,
   "id": "false-financing",
   "metadata": {},
   "outputs": [],
   "source": [
    "with open('ginsim-inh.txt') as fp:\n",
    "    inh = fp.read().splitlines() \n",
    "inh = np.asarray(inh)"
   ]
  },
  {
   "cell_type": "code",
   "execution_count": 13,
   "id": "increased-imaging",
   "metadata": {},
   "outputs": [],
   "source": [
    "for index1, item1 in enumerate(inh):\n",
    "    attractors=[]\n",
    "    for index,item in enumerate(mydata):\n",
    "        vari = str(item) +\" \"+ str(item1)\n",
    "        pert = biolqm.perturbation(lqm, vari)\n",
    "        pfps = biolqm.fixpoints(pert)\n",
    "        pfpst = tabulate(pfps)\n",
    "        pfpst['ID']=index\n",
    "        attractors.append(pfpst)\n",
    "    final = pd.concat(attractors)\n",
    "    final.to_csv('Attractorsout{}.csv'.format(index1), index=False)  \n"
   ]
  },
  {
   "cell_type": "code",
   "execution_count": 18,
   "id": "occasional-implementation",
   "metadata": {},
   "outputs": [
    {
     "data": {
      "text/plain": [
       "array(['', 'TRAF6%1 Syk%1 TRAF6%1', 'Erk%1',\n",
       "       'cMyc%1 cMyc%1 BCL2%1 BCL2%1 BCL6%1 Blimp1%0 BCL2%1 Blimp1%0',\n",
       "       'BCL6%1 TRAF6%1', 'BCL6%1 BCL6%1 BCL6%1', 'BCR%1',\n",
       "       'CBM%1 BCL6%1 CBM%1 BCL6%1', 'BCL6%1 RelA_p50%2 IRF4%2 RelA_p50%0',\n",
       "       'BCR%1 cMyc%1 cMyc%1 cMyc%1 CBM%1 BCL2%1 Blimp1%0 NEMO_IKK%2',\n",
       "       'BCL2%1 Blimp1%0 RelA_p50%2 CBM%1', 'TRAF6%1',\n",
       "       'cMyc%1 Blimp1%0 BCL2%1 PI3K%1 BCL6%1 BCL6%1',\n",
       "       'BCL6%1 BCL2%1 STAT%1 BCL6%1 RelA_p50%2',\n",
       "       'BCR%1 CBM%1 CBM%1 BCL2%1', 'TRAF6%1 CBM%1',\n",
       "       'BCL6%1 STAT%1 RelA_p50%2',\n",
       "       'RelA_p50%2 STAT%1 RelA_p50%2 RelA_p50%2',\n",
       "       'TRAF6%1 BCR%1 CBM%1 BCL2%1', 'BCL2%1 BCL6%1', 'BCR%1',\n",
       "       'BCL2%1 Blimp1%0 STAT%1', 'BCL2%1 BCL6%1', 'BCL6%1 BCL6%1 BCL2%1',\n",
       "       'CBM%1 CBM%1 RAF%1', 'CBM%1 BCL6%1 BCR%1', 'STAT%1 RelA_p50%2',\n",
       "       'BCR%1 TRAF6%1 BCL6%1',\n",
       "       'BCL2%1 BCL2%1 STAT%1 CBM%1 Blimp1%0 RAF%1',\n",
       "       'Blimp1%0 BCL2%1 RAF%1 BCL6%1 BCL6%1 BCL6%1 BCL6%1',\n",
       "       'TRAF6%1 RelA_p50%2', 'CBM%1',\n",
       "       'RelA_p50%2 BCL6%1 BCL2%1 RelA_p50%2 CBM%1', 'cMyc%1 RelA_p50%2',\n",
       "       'BCL6%1 BCL2%1 BCL2%1 BCL2%1 BCL2%1 Blimp1%0 BCL2%1 BCL6%1',\n",
       "       'BCL6%1 CBM%1 RAF%1 BCL2%1 Erk%1 BCL6%1 BCL2%1',\n",
       "       'CBM%1 CBM%1 RelA_p50%2', 'Erk%1 BCL6%1', 'BCL6%1 TRAF6%1',\n",
       "       'BCL6%1 CBM%1', 'BCR%1', 'BCL2%1 cMyc%1 BCL2%1 CBM%1', 'RAF%1',\n",
       "       'BCL6%1 BCL6%1 BCL6%1', 'NEMO_IKK%2', 'BCL6%1 BCL6%1 NEMO_IKK%2',\n",
       "       'BCL2%1 BCL2%1 CBM%1 BCL2%1 BCL6%1 PI3K%1 BCL2%1 BCL2%1 NEMO_IKK%2 RelA_p50%2',\n",
       "       'BCL6%1', 'BCL2%1 STAT%1 TRAF6%1 BCL2%1 BCL2%1 BCL6%1',\n",
       "       'cMyc%1 cMyc%1 cMyc%1 BCL6%1 cMyc%1 BCL6%1 BCL2%1 BCL2%1',\n",
       "       'BCL2%1 CBM%1 Blimp1%0 BCL2%1 CBM%1', 'Blimp1%0 CBM%1',\n",
       "       'BCL2%1 Erk%1 Blimp1%0 BCL6%1', 'RelA_p50%2',\n",
       "       'Erk%1 Blimp1%0 BCL6%1 BCL6%1 CBM%1 PI3K%1 BCL6%1 RelA_p50%2',\n",
       "       'cMyc%1 Blimp1%0', 'CBM%1', 'BCL6%1 BCL2%1 IRF4%2 RelA_p50%0',\n",
       "       'RelA_p50%2 RelA_p50%2', 'CBM%1 TRAF6%1 CBM%1 CBM%1 BCL2%1',\n",
       "       'CBM%1 BCL6%1 STAT%1 BCR%1',\n",
       "       'BCR%1 BCL6%1 TRAF6%1 PI3K%1 BCL6%1 CBM%1 BCL2%1', 'Blimp1%0',\n",
       "       'BCL6%1', 'BCL2%1 STAT%1 BCL2%1 BCL6%1', 'TRAF6%1',\n",
       "       'BCL6%1 BCL2%1 BCL2%1 RelA_p50%2', 'BCL6%1 TRAF6%1 CBM%1 BCL2%1',\n",
       "       'BCL6%1 BCL2%1 RelA_p50%2 Blimp1%0 RAF%1 RAF%1 BCL6%1 TRAF6%1 BCL2%0 RelA_p50%2',\n",
       "       'BCL2%1 CBM%1 BCL2%1 BCL6%1 BCL6%1 BCL6%1 RelA_p50%2 CBM%1 BCL2%1',\n",
       "       'TRAF6%1 PI3K%1 BCL2%1',\n",
       "       'TRAF6%1 BCL6%1 BCL6%1 TRAF6%1 TRAF6%1 CBM%1 BCL2%1', 'RAF%1',\n",
       "       'Blimp1%0 TRAF6%1', 'TRAF6%1 CBM%1 BCL2%1 CBM%1',\n",
       "       'CBM%1 BCR%1 CBM%1 BCR%1 BCL2%1 TRAF6%1 NEMO_IKK%2', 'BCL6%1',\n",
       "       'BCR%1 PI3K%1 Blimp1%0 TRAF6%1 TRAF6%1 PI3K%1 BCL6%1',\n",
       "       'BCL6%1 cMyc%1 cMyc%1 BCR%1 BCL2%1 BCL6%1 cMyc%1 BCL6%1',\n",
       "       'BCL6%1 BCL2%1 BCL2%1 BCL2%1 BCL2%1', 'CBM%1 TRAF6%1',\n",
       "       'BCL6%1 RelA_p50%2',\n",
       "       'BCL6%1 BCL2%1 BCL6%1 BCL6%1 BCL2%1 BCL2%1 RelA_p50%2 IRF4%2 RelA_p50%0',\n",
       "       'CBM%1', 'STAT%1 RelA_p50%2 RelA_p50%2', 'Erk%1', 'RAF%1',\n",
       "       'BCL6%1 BCL6%1 BCL2%1 BCL2%1 BCL6%1', 'BCL6%1 BCL2%1 NEMO_IKK%2',\n",
       "       'BCR%1 Blimp1%0 TRAF6%1 RelA_p50%0 Blimp1%0 RelA_p50%0 BCR%1',\n",
       "       'TRAF6%1 BCR%1',\n",
       "       'Blimp1%0 PI3K%1 BCL6%1 CBM%1 BCL2%1 RelA_p50%0 Blimp1%0 RelA_p50%0 BCR%1',\n",
       "       'Blimp1%0 CBM%1 NEMO_IKK%2', 'cMyc%1 cMyc%1 cMyc%1 cMyc%1 cMyc%1',\n",
       "       'BCL6%1 BCR%1',\n",
       "       'BCL6%1 BCL2%1 RelA_p50%2 RelA_p50%2 BCL6%1 RelA_p50%2 BCL2%1 RelA_p50%2 CBM%1',\n",
       "       'BCR%1 CBM%1 TRAF6%1', 'Blimp1%0 RelA_p50%2', 'BCR%1 TRAF6%1',\n",
       "       'Blimp1%0 CBM%1 BCL2%1 TRAF6%1 TRAF6%1 PI3K%1 BCL6%1',\n",
       "       'Blimp1%0 Blimp1%0', 'TRAF6%1 BCR%1 BCL6%1', 'BCR%1',\n",
       "       'BCL6%1 BCR%1 TRAF6%1', 'STAT%1', 'BCL6%1 RAF%1 STAT%1',\n",
       "       'TRAF6%1 NEMO_IKK%2 CBM%1 BCL6%1', 'BCR%1 TRAF6%1', 'BCL2%1',\n",
       "       'BCL2%1', 'NEMO_IKK%2', 'NEMO_IKK%2', 'RelA_p50%2 Syk%1 TRAF6%1',\n",
       "       'RelA_p50%2', 'RelA_p50%2',\n",
       "       'RelA_p50%2 BCL2%1 TRAF6%1 NEMO_IKK%2 CBM%1 Blimp1%0 RAF%1',\n",
       "       'RelA_p50%2', 'RelA_p50%2', 'RelA_p50%2', 'RelA_p50%2',\n",
       "       'RelA_p50%2', 'RelA_p50%2 CBM%1 BCL2%1', 'RelA_p50%2',\n",
       "       'RelA_p50%2', 'RelA_p50%2 Blimp1%0 RAF%1',\n",
       "       'RelA_p50%2 CBM%1 BCL2%1', 'RelA_p50%2',\n",
       "       'RelA_p50%2 CBM%1 Blimp1%0 RAF%1', 'RelA_p50%2', 'RelA_p50%2',\n",
       "       'RelA_p50%2', 'RelA_p50%2', 'RelA_p50%2 CBM%1 BCL2%1',\n",
       "       'RelA_p50%2', 'RelA_p50%2', 'CBM%1 BCL2%1', 'CBM%1 BCL2%1 CBM%1',\n",
       "       'CBM%1 BCL2%1', 'CBM%1 BCL2%1',\n",
       "       'BCL2%1 TRAF6%1 NEMO_IKK%2 CBM%1 Blimp1%0 RAF%1',\n",
       "       'TRAF6%1 TRAF6%1 PI3K%1 BCL6%1 CBM%1 BCL2%1',\n",
       "       'TRAF6%1 TRAF6%1 PI3K%1 BCL6%1 CBM%1 BCL2%1', 'PI3K%1 BCL6%1',\n",
       "       'PI3K%1 BCL6%1 CBM%1 BCL2%1', 'PI3K%1 BCL6%1', 'PI3K%1 BCL6%1',\n",
       "       'IRF4%2 RelA_p50%0', 'IRF4%2 RelA_p50%0 CBM%1', 'CBM%1',\n",
       "       'CBM%1 Blimp1%0 RAF%1', 'Syk%1 TRAF6%1',\n",
       "       'RAF%1 BCL6%1 TRAF6%1 BCL2%0 RelA_p50%2',\n",
       "       'RAF%1 BCL6%1 TRAF6%1 BCL2%0 RelA_p50%2',\n",
       "       'RAF%1 BCL6%1 TRAF6%1 BCL2%0 RelA_p50%2 CBM%1 BCL2%1',\n",
       "       'CBM%1 BCL2%1', 'CBM%1 BCL2%1', 'CBM%1 BCL2%1', 'CBM%1 BCL2%1',\n",
       "       'CBM%1 BCL2%1', 'CBM%1 BCL2%1', 'CBM%1 BCL2%1', 'CBM%1 BCL2%1',\n",
       "       'CBM%1 BCL2%1', 'RelA_p50%0 Blimp1%0 RelA_p50%0 BCR%1',\n",
       "       'RelA_p50%0 Blimp1%0 RelA_p50%0 BCR%1'], dtype='<U78')"
      ]
     },
     "execution_count": 18,
     "metadata": {},
     "output_type": "execute_result"
    }
   ],
   "source": [
    "mydata"
   ]
  },
  {
   "cell_type": "code",
   "execution_count": 40,
   "id": "coordinated-purpose",
   "metadata": {},
   "outputs": [
    {
     "name": "stdout",
     "output_type": "stream",
     "text": [
      "Defaulting to user installation because normal site-packages is not writeable\n",
      "Collecting packcircles\n",
      "  Downloading packcircles-0.14-py3-none-any.whl (5.0 kB)\n",
      "Collecting pyllist>=0.3\n",
      "  Downloading pyllist-0.3.tar.gz (19 kB)\n",
      "Building wheels for collected packages: pyllist\n",
      "  Building wheel for pyllist (setup.py) ... \u001b[?25ldone\n",
      "\u001b[?25h  Created wheel for pyllist: filename=pyllist-0.3-py3-none-any.whl size=7416 sha256=334aee80c0d5e1f09be159cf431e3625cf929fbf2381a0e900f4700c2679707b\n",
      "  Stored in directory: /home/user/.cache/pip/wheels/4c/1d/ef/8f20ff06fa87e98ef6b0301718f6c0480e7cafdc8aa97426fd\n",
      "Successfully built pyllist\n",
      "Installing collected packages: pyllist, packcircles\n",
      "Successfully installed packcircles-0.14 pyllist-0.3\n",
      "Note: you may need to restart the kernel to use updated packages.\n"
     ]
    }
   ],
   "source": [
    "pip install packcircles"
   ]
  },
  {
   "cell_type": "code",
   "execution_count": 43,
   "id": "indian-value",
   "metadata": {},
   "outputs": [
    {
     "name": "stdout",
     "output_type": "stream",
     "text": [
      "[(-15.579319782711305, 4.287939798231928, 15), (4.4206802172886945, 4.287939798231928, 5), (2.9206802172886945, -7.6179411015587295, 7), (20.647637933172685, -0.7801804930509242, 12)]\n"
     ]
    }
   ],
   "source": [
    "import packcircles as pc\n",
    "circles = pc.pack([15,5,7,12])\n",
    "print(list(circles))\n",
    "## [(-15.579319782711305, 4.287939798231928, 15), (4.4206802172886945, 4.287939798231928, 5), (2.9206802172886945, -7.6179411015587295, 7), (20.647637933172685, -0.7801804930509242, 12)]"
   ]
  },
  {
   "cell_type": "code",
   "execution_count": null,
   "id": "statistical-casino",
   "metadata": {},
   "outputs": [],
   "source": []
  }
 ],
 "metadata": {
  "kernelspec": {
   "display_name": "Python 3",
   "language": "python",
   "name": "python3"
  },
  "language_info": {
   "codemirror_mode": {
    "name": "ipython",
    "version": 3
   },
   "file_extension": ".py",
   "mimetype": "text/x-python",
   "name": "python",
   "nbconvert_exporter": "python",
   "pygments_lexer": "ipython3",
   "version": "3.9.1"
  }
 },
 "nbformat": 4,
 "nbformat_minor": 5
}
