{
 "cells": [
  {
   "cell_type": "markdown",
   "metadata": {},
   "source": [
    "## Logical modeling of neuroectoderm specification in fruit flies\n",
    "\n",
    "Egfr signaling is one of the signaling networks regulating fruit fly neuroectoderm development. Given the complexity of signaling networks as well as the amount of information to be integrated, a logical model of Egfr signaling will provide a better understanding of how developmental signals combine to control cellular states.\n",
    "\n",
    "\n",
    "This project implements CoLoMoTo Interactive Notebook to provide a reprodicible and executable analyses. The workflow used as follows:\n",
    "\n",
    "(1) the importation of a GINsim model and its display, (2) its format conversion using the Java library BioLQM, (3) the formal prediction of mutations using the OCaml software Pint, (4) the model checking using the C++ software NuSMV, (5) quantitative stochastic simulations using the C++ software MaBoSS, and (6) the visualisation of results using the Python library matplotlib. "
   ]
  },
  {
   "cell_type": "markdown",
   "metadata": {},
   "source": [
    "### Visualization of Egfr pathway with GINsim"
   ]
  },
  {
   "cell_type": "code",
   "execution_count": 2,
   "metadata": {
    "scrolled": true
   },
   "outputs": [],
   "source": [
    "# Set up working environment for CoLoMoTo\n",
    "%matplotlib inline\n",
    "import numpy as np\n",
    "import sys\n",
    "import matplotlib as mpl\n",
    "import matplotlib.pyplot as plt\n",
    "import pandas as pd\n",
    "import numpy as np\n",
    "from pandas import DataFrame\n",
    "import seaborn as sns\n",
    "import re\n",
    "import pprint\n",
    "from collections import Counter\n",
    "#import matplotlib.pyplot as plt\n",
    "import seaborn as sns; sns.set()\n",
    "\n",
    "# Tools necessary to run and perturb the model\n",
    "import ginsim \n",
    "import biolqm\n",
    "import pypint\n",
    "import maboss\n",
    "\n",
    "# Tools necessary to format and plot results of simulations\n",
    "from colomoto_jupyter import tabulate # for fixpoint table display\n",
    "from itertools import combinations # for iterating over sets\n",
    "import matplotlib.pyplot as plt # for modifying plots\n",
    "import pandas as pd # for the visualization of lists of states"
   ]
  },
  {
   "cell_type": "markdown",
   "metadata": {},
   "source": [
    "## Import model from github repository\n",
    "\n",
    "Logical model of Egfr signaling can be directly loaded from my github repository at https://github.com/ozlembahar/DevelopmentalSignaling/blob/master/Ginsim/Egfr-core-(p)Gro.zginml."
   ]
  },
  {
   "cell_type": "code",
   "execution_count": 4,
   "metadata": {},
   "outputs": [
    {
     "data": {
      "text/markdown": [
       "6 state(s) have been registered: Default, Dorsal, Intermediate, Ventral, Anterior, Posterior"
      ],
      "text/plain": [
       "<IPython.core.display.Markdown object>"
      ]
     },
     "metadata": {},
     "output_type": "display_data"
    },
    {
     "data": {
      "text/html": [
       "<img class=\"unconfined\" width=\"729px\" src=\"data:image/svg+xml;base64,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\">"
      ],
      "text/plain": [
       "<IPython.core.display.HTML object>"
      ]
     },
     "execution_count": 4,
     "metadata": {},
     "output_type": "execute_result"
    }
   ],
   "source": [
    "#Load the model\n",
    "lrg_ppt = pypint.load(\"NB4_2added.zginml\")\n",
    "info_lrg = lrg_ppt.summary()\n",
    "pd.DataFrame([['nb_states',info_lrg['nb_states']],['nb_automata',info_lrg['nb_automata']],['nb_transitions',info_lrg['nb_transitions']]], columns=['Item','Number'])\n",
    "\n",
    "lrg = ginsim.load(\"NB4_2added.zginml\")\n",
    "lqm2 = ginsim.to_biolqm(lrg)\n",
    "\n",
    "# Display the regulatory graph as specified in the model file\n",
    "ginsim.show(lrg)"
   ]
  },
  {
   "cell_type": "code",
   "execution_count": 23,
   "metadata": {},
   "outputs": [
    {
     "data": {
      "text/plain": [
       "[{'Hh': 0,\n",
       "  'Ptc': 1,\n",
       "  'Smo': 0,\n",
       "  'Pka': 1,\n",
       "  'Ci_act': 0,\n",
       "  'Ci_rep': 0,\n",
       "  'Wg': 1,\n",
       "  'Fz': 1,\n",
       "  'Arm': 1,\n",
       "  'Pan': 1,\n",
       "  'Egfr': 0,\n",
       "  'Rl': 0,\n",
       "  'Pnt': 0,\n",
       "  'pGro': 0,\n",
       "  'Gro': 1,\n",
       "  'wg': 0,\n",
       "  'en': 1,\n",
       "  'hh': 1,\n",
       "  'gsb': 0,\n",
       "  'vnd': 0,\n",
       "  'ind': 0,\n",
       "  'msh': 1,\n",
       "  'svp': 0,\n",
       "  'ac': 0,\n",
       "  'hkb': 0,\n",
       "  'NB5_6': 0,\n",
       "  'NB5_3': 0,\n",
       "  'NB5_2': 0,\n",
       "  'NB7_4': 0,\n",
       "  'NB7_1': 0},\n",
       " {'Hh': 0,\n",
       "  'Ptc': 1,\n",
       "  'Smo': 0,\n",
       "  'Pka': 1,\n",
       "  'Ci_act': 0,\n",
       "  'Ci_rep': 0,\n",
       "  'Wg': 1,\n",
       "  'Fz': 1,\n",
       "  'Arm': 1,\n",
       "  'Pan': 1,\n",
       "  'Egfr': 0,\n",
       "  'Rl': 0,\n",
       "  'Pnt': 0,\n",
       "  'pGro': 1,\n",
       "  'Gro': 0,\n",
       "  'wg': 0,\n",
       "  'en': 1,\n",
       "  'hh': 1,\n",
       "  'gsb': 0,\n",
       "  'vnd': 0,\n",
       "  'ind': 1,\n",
       "  'msh': 0,\n",
       "  'svp': 0,\n",
       "  'ac': 0,\n",
       "  'hkb': 0,\n",
       "  'NB5_6': 0,\n",
       "  'NB5_3': 0,\n",
       "  'NB5_2': 0,\n",
       "  'NB7_4': 0,\n",
       "  'NB7_1': 0},\n",
       " {'Hh': 0,\n",
       "  'Ptc': 1,\n",
       "  'Smo': 0,\n",
       "  'Pka': 1,\n",
       "  'Ci_act': 0,\n",
       "  'Ci_rep': 0,\n",
       "  'Wg': 1,\n",
       "  'Fz': 1,\n",
       "  'Arm': 1,\n",
       "  'Pan': 1,\n",
       "  'Egfr': 1,\n",
       "  'Rl': 1,\n",
       "  'Pnt': 1,\n",
       "  'pGro': 1,\n",
       "  'Gro': 0,\n",
       "  'wg': 0,\n",
       "  'en': 1,\n",
       "  'hh': 1,\n",
       "  'gsb': 0,\n",
       "  'vnd': 0,\n",
       "  'ind': 1,\n",
       "  'msh': 0,\n",
       "  'svp': 0,\n",
       "  'ac': 0,\n",
       "  'hkb': 0,\n",
       "  'NB5_6': 0,\n",
       "  'NB5_3': 0,\n",
       "  'NB5_2': 0,\n",
       "  'NB7_4': 0,\n",
       "  'NB7_1': 0},\n",
       " {'Hh': 0,\n",
       "  'Ptc': 1,\n",
       "  'Smo': 0,\n",
       "  'Pka': 1,\n",
       "  'Ci_act': 0,\n",
       "  'Ci_rep': 0,\n",
       "  'Wg': 1,\n",
       "  'Fz': 1,\n",
       "  'Arm': 1,\n",
       "  'Pan': 1,\n",
       "  'Egfr': 1,\n",
       "  'Rl': 1,\n",
       "  'Pnt': 1,\n",
       "  'pGro': 1,\n",
       "  'Gro': 0,\n",
       "  'wg': 0,\n",
       "  'en': 1,\n",
       "  'hh': 1,\n",
       "  'gsb': 0,\n",
       "  'vnd': 1,\n",
       "  'ind': 0,\n",
       "  'msh': 0,\n",
       "  'svp': 1,\n",
       "  'ac': 1,\n",
       "  'hkb': 0,\n",
       "  'NB5_6': 0,\n",
       "  'NB5_3': 0,\n",
       "  'NB5_2': 0,\n",
       "  'NB7_4': 1,\n",
       "  'NB7_1': 0},\n",
       " {'Hh': 0,\n",
       "  'Ptc': 1,\n",
       "  'Smo': 0,\n",
       "  'Pka': 1,\n",
       "  'Ci_act': 0,\n",
       "  'Ci_rep': 1,\n",
       "  'Wg': 0,\n",
       "  'Fz': 0,\n",
       "  'Arm': 0,\n",
       "  'Pan': 0,\n",
       "  'Egfr': 0,\n",
       "  'Rl': 0,\n",
       "  'Pnt': 0,\n",
       "  'pGro': 0,\n",
       "  'Gro': 1,\n",
       "  'wg': 0,\n",
       "  'en': 0,\n",
       "  'hh': 0,\n",
       "  'gsb': 0,\n",
       "  'vnd': 0,\n",
       "  'ind': 0,\n",
       "  'msh': 1,\n",
       "  'svp': 0,\n",
       "  'ac': 0,\n",
       "  'hkb': 0,\n",
       "  'NB5_6': 0,\n",
       "  'NB5_3': 0,\n",
       "  'NB5_2': 0,\n",
       "  'NB7_4': 0,\n",
       "  'NB7_1': 0},\n",
       " {'Hh': 0,\n",
       "  'Ptc': 1,\n",
       "  'Smo': 0,\n",
       "  'Pka': 1,\n",
       "  'Ci_act': 0,\n",
       "  'Ci_rep': 1,\n",
       "  'Wg': 0,\n",
       "  'Fz': 0,\n",
       "  'Arm': 0,\n",
       "  'Pan': 0,\n",
       "  'Egfr': 0,\n",
       "  'Rl': 0,\n",
       "  'Pnt': 0,\n",
       "  'pGro': 1,\n",
       "  'Gro': 0,\n",
       "  'wg': 0,\n",
       "  'en': 0,\n",
       "  'hh': 0,\n",
       "  'gsb': 0,\n",
       "  'vnd': 0,\n",
       "  'ind': 1,\n",
       "  'msh': 0,\n",
       "  'svp': 0,\n",
       "  'ac': 0,\n",
       "  'hkb': 0,\n",
       "  'NB5_6': 0,\n",
       "  'NB5_3': 0,\n",
       "  'NB5_2': 0,\n",
       "  'NB7_4': 0,\n",
       "  'NB7_1': 0},\n",
       " {'Hh': 0,\n",
       "  'Ptc': 1,\n",
       "  'Smo': 0,\n",
       "  'Pka': 1,\n",
       "  'Ci_act': 0,\n",
       "  'Ci_rep': 1,\n",
       "  'Wg': 0,\n",
       "  'Fz': 0,\n",
       "  'Arm': 0,\n",
       "  'Pan': 0,\n",
       "  'Egfr': 1,\n",
       "  'Rl': 1,\n",
       "  'Pnt': 1,\n",
       "  'pGro': 1,\n",
       "  'Gro': 0,\n",
       "  'wg': 0,\n",
       "  'en': 0,\n",
       "  'hh': 0,\n",
       "  'gsb': 0,\n",
       "  'vnd': 0,\n",
       "  'ind': 1,\n",
       "  'msh': 0,\n",
       "  'svp': 0,\n",
       "  'ac': 0,\n",
       "  'hkb': 0,\n",
       "  'NB5_6': 0,\n",
       "  'NB5_3': 0,\n",
       "  'NB5_2': 0,\n",
       "  'NB7_4': 0,\n",
       "  'NB7_1': 0},\n",
       " {'Hh': 0,\n",
       "  'Ptc': 1,\n",
       "  'Smo': 0,\n",
       "  'Pka': 1,\n",
       "  'Ci_act': 0,\n",
       "  'Ci_rep': 1,\n",
       "  'Wg': 0,\n",
       "  'Fz': 0,\n",
       "  'Arm': 0,\n",
       "  'Pan': 0,\n",
       "  'Egfr': 1,\n",
       "  'Rl': 1,\n",
       "  'Pnt': 1,\n",
       "  'pGro': 1,\n",
       "  'Gro': 0,\n",
       "  'wg': 0,\n",
       "  'en': 0,\n",
       "  'hh': 0,\n",
       "  'gsb': 0,\n",
       "  'vnd': 1,\n",
       "  'ind': 0,\n",
       "  'msh': 0,\n",
       "  'svp': 1,\n",
       "  'ac': 1,\n",
       "  'hkb': 1,\n",
       "  'NB5_6': 0,\n",
       "  'NB5_3': 0,\n",
       "  'NB5_2': 0,\n",
       "  'NB7_4': 0,\n",
       "  'NB7_1': 0},\n",
       " {'Hh': 1,\n",
       "  'Ptc': 0,\n",
       "  'Smo': 1,\n",
       "  'Pka': 0,\n",
       "  'Ci_act': 0,\n",
       "  'Ci_rep': 0,\n",
       "  'Wg': 1,\n",
       "  'Fz': 1,\n",
       "  'Arm': 1,\n",
       "  'Pan': 1,\n",
       "  'Egfr': 0,\n",
       "  'Rl': 0,\n",
       "  'Pnt': 0,\n",
       "  'pGro': 0,\n",
       "  'Gro': 1,\n",
       "  'wg': 0,\n",
       "  'en': 1,\n",
       "  'hh': 1,\n",
       "  'gsb': 1,\n",
       "  'vnd': 0,\n",
       "  'ind': 0,\n",
       "  'msh': 1,\n",
       "  'svp': 0,\n",
       "  'ac': 0,\n",
       "  'hkb': 0,\n",
       "  'NB5_6': 0,\n",
       "  'NB5_3': 0,\n",
       "  'NB5_2': 0,\n",
       "  'NB7_4': 0,\n",
       "  'NB7_1': 0},\n",
       " {'Hh': 1,\n",
       "  'Ptc': 0,\n",
       "  'Smo': 1,\n",
       "  'Pka': 0,\n",
       "  'Ci_act': 0,\n",
       "  'Ci_rep': 0,\n",
       "  'Wg': 1,\n",
       "  'Fz': 1,\n",
       "  'Arm': 1,\n",
       "  'Pan': 1,\n",
       "  'Egfr': 0,\n",
       "  'Rl': 0,\n",
       "  'Pnt': 0,\n",
       "  'pGro': 1,\n",
       "  'Gro': 0,\n",
       "  'wg': 0,\n",
       "  'en': 1,\n",
       "  'hh': 1,\n",
       "  'gsb': 1,\n",
       "  'vnd': 0,\n",
       "  'ind': 1,\n",
       "  'msh': 0,\n",
       "  'svp': 0,\n",
       "  'ac': 0,\n",
       "  'hkb': 0,\n",
       "  'NB5_6': 0,\n",
       "  'NB5_3': 0,\n",
       "  'NB5_2': 0,\n",
       "  'NB7_4': 0,\n",
       "  'NB7_1': 0},\n",
       " {'Hh': 1,\n",
       "  'Ptc': 0,\n",
       "  'Smo': 1,\n",
       "  'Pka': 0,\n",
       "  'Ci_act': 0,\n",
       "  'Ci_rep': 0,\n",
       "  'Wg': 1,\n",
       "  'Fz': 1,\n",
       "  'Arm': 1,\n",
       "  'Pan': 1,\n",
       "  'Egfr': 1,\n",
       "  'Rl': 1,\n",
       "  'Pnt': 1,\n",
       "  'pGro': 1,\n",
       "  'Gro': 0,\n",
       "  'wg': 0,\n",
       "  'en': 1,\n",
       "  'hh': 1,\n",
       "  'gsb': 1,\n",
       "  'vnd': 0,\n",
       "  'ind': 1,\n",
       "  'msh': 0,\n",
       "  'svp': 0,\n",
       "  'ac': 0,\n",
       "  'hkb': 0,\n",
       "  'NB5_6': 0,\n",
       "  'NB5_3': 0,\n",
       "  'NB5_2': 0,\n",
       "  'NB7_4': 0,\n",
       "  'NB7_1': 0},\n",
       " {'Hh': 1,\n",
       "  'Ptc': 0,\n",
       "  'Smo': 1,\n",
       "  'Pka': 0,\n",
       "  'Ci_act': 0,\n",
       "  'Ci_rep': 0,\n",
       "  'Wg': 1,\n",
       "  'Fz': 1,\n",
       "  'Arm': 1,\n",
       "  'Pan': 1,\n",
       "  'Egfr': 1,\n",
       "  'Rl': 1,\n",
       "  'Pnt': 1,\n",
       "  'pGro': 1,\n",
       "  'Gro': 0,\n",
       "  'wg': 0,\n",
       "  'en': 1,\n",
       "  'hh': 1,\n",
       "  'gsb': 1,\n",
       "  'vnd': 1,\n",
       "  'ind': 0,\n",
       "  'msh': 0,\n",
       "  'svp': 1,\n",
       "  'ac': 1,\n",
       "  'hkb': 0,\n",
       "  'NB5_6': 0,\n",
       "  'NB5_3': 0,\n",
       "  'NB5_2': 0,\n",
       "  'NB7_4': 1,\n",
       "  'NB7_1': 1},\n",
       " {'Hh': 1,\n",
       "  'Ptc': 0,\n",
       "  'Smo': 1,\n",
       "  'Pka': 0,\n",
       "  'Ci_act': 1,\n",
       "  'Ci_rep': 0,\n",
       "  'Wg': 0,\n",
       "  'Fz': 0,\n",
       "  'Arm': 0,\n",
       "  'Pan': 0,\n",
       "  'Egfr': 0,\n",
       "  'Rl': 0,\n",
       "  'Pnt': 0,\n",
       "  'pGro': 0,\n",
       "  'Gro': 1,\n",
       "  'wg': 1,\n",
       "  'en': 0,\n",
       "  'hh': 0,\n",
       "  'gsb': 1,\n",
       "  'vnd': 0,\n",
       "  'ind': 0,\n",
       "  'msh': 1,\n",
       "  'svp': 0,\n",
       "  'ac': 0,\n",
       "  'hkb': 0,\n",
       "  'NB5_6': 1,\n",
       "  'NB5_3': 0,\n",
       "  'NB5_2': 0,\n",
       "  'NB7_4': 0,\n",
       "  'NB7_1': 0},\n",
       " {'Hh': 1,\n",
       "  'Ptc': 0,\n",
       "  'Smo': 1,\n",
       "  'Pka': 0,\n",
       "  'Ci_act': 1,\n",
       "  'Ci_rep': 0,\n",
       "  'Wg': 0,\n",
       "  'Fz': 0,\n",
       "  'Arm': 0,\n",
       "  'Pan': 0,\n",
       "  'Egfr': 0,\n",
       "  'Rl': 0,\n",
       "  'Pnt': 0,\n",
       "  'pGro': 1,\n",
       "  'Gro': 0,\n",
       "  'wg': 1,\n",
       "  'en': 0,\n",
       "  'hh': 0,\n",
       "  'gsb': 1,\n",
       "  'vnd': 0,\n",
       "  'ind': 1,\n",
       "  'msh': 0,\n",
       "  'svp': 0,\n",
       "  'ac': 0,\n",
       "  'hkb': 0,\n",
       "  'NB5_6': 1,\n",
       "  'NB5_3': 1,\n",
       "  'NB5_2': 0,\n",
       "  'NB7_4': 0,\n",
       "  'NB7_1': 0},\n",
       " {'Hh': 1,\n",
       "  'Ptc': 0,\n",
       "  'Smo': 1,\n",
       "  'Pka': 0,\n",
       "  'Ci_act': 1,\n",
       "  'Ci_rep': 0,\n",
       "  'Wg': 0,\n",
       "  'Fz': 0,\n",
       "  'Arm': 0,\n",
       "  'Pan': 0,\n",
       "  'Egfr': 1,\n",
       "  'Rl': 1,\n",
       "  'Pnt': 1,\n",
       "  'pGro': 1,\n",
       "  'Gro': 0,\n",
       "  'wg': 1,\n",
       "  'en': 0,\n",
       "  'hh': 0,\n",
       "  'gsb': 1,\n",
       "  'vnd': 0,\n",
       "  'ind': 1,\n",
       "  'msh': 0,\n",
       "  'svp': 0,\n",
       "  'ac': 0,\n",
       "  'hkb': 0,\n",
       "  'NB5_6': 1,\n",
       "  'NB5_3': 1,\n",
       "  'NB5_2': 0,\n",
       "  'NB7_4': 0,\n",
       "  'NB7_1': 0},\n",
       " {'Hh': 1,\n",
       "  'Ptc': 0,\n",
       "  'Smo': 1,\n",
       "  'Pka': 0,\n",
       "  'Ci_act': 1,\n",
       "  'Ci_rep': 0,\n",
       "  'Wg': 0,\n",
       "  'Fz': 0,\n",
       "  'Arm': 0,\n",
       "  'Pan': 0,\n",
       "  'Egfr': 1,\n",
       "  'Rl': 1,\n",
       "  'Pnt': 1,\n",
       "  'pGro': 1,\n",
       "  'Gro': 0,\n",
       "  'wg': 1,\n",
       "  'en': 0,\n",
       "  'hh': 0,\n",
       "  'gsb': 1,\n",
       "  'vnd': 1,\n",
       "  'ind': 0,\n",
       "  'msh': 0,\n",
       "  'svp': 1,\n",
       "  'ac': 1,\n",
       "  'hkb': 0,\n",
       "  'NB5_6': 1,\n",
       "  'NB5_3': 0,\n",
       "  'NB5_2': 1,\n",
       "  'NB7_4': 0,\n",
       "  'NB7_1': 0}]"
      ]
     },
     "execution_count": 23,
     "metadata": {},
     "output_type": "execute_result"
    }
   ],
   "source": [
    "fps"
   ]
  },
  {
   "cell_type": "code",
   "execution_count": 22,
   "metadata": {},
   "outputs": [
    {
     "data": {
      "text/plain": [
       "'en%0\\nhh%0\\nwg%0\\ngsb%0\\nhkb%0\\nvnd%0\\nind%0\\nmsh%0\\nac%0\\nsvp%0\\nen%0,gsb%0\\nwg%0,gsb%0\\nen%0,hkb%0'"
      ]
     },
     "execution_count": 22,
     "metadata": {},
     "output_type": "execute_result"
    }
   ],
   "source": [
    "# Simulations\n",
    "# \n",
    "#mlqm = biolqm.perturbation(lqm, \"TGFb%0\")\n",
    "perturb_list = open(\"perturb.txt\", \"r\", encoding=\"utf-8\")\n",
    "perturb_list.read()"
   ]
  },
  {
   "cell_type": "code",
   "execution_count": 5,
   "metadata": {},
   "outputs": [
    {
     "name": "stdout",
     "output_type": "stream",
     "text": [
      "16 fixpoints found\n"
     ]
    }
   ],
   "source": []
  },
  {
   "cell_type": "code",
   "execution_count": 35,
   "metadata": {},
   "outputs": [],
   "source": [
    "reporter_components = [\"en\",\"wg\",\"gsb\",\"ind\",\"vnd\",\"msh\",\"NB7_4\",\"NB7_1\",\"NB5_6\",\"NB5_3\",\"NB5_2\",\"NB3_5\",\"NB4_2\"]\n",
    "#[\"NB7_4\",\"NB7_1\",\"NB5_6\",\"NB5_3\",\"NB5_2\",\"NB3_5\",\"NB4_2\"]"
   ]
  },
  {
   "cell_type": "code",
   "execution_count": 36,
   "metadata": {},
   "outputs": [
    {
     "data": {
      "text/plain": [
       "16"
      ]
     },
     "execution_count": 36,
     "metadata": {},
     "output_type": "execute_result"
    }
   ],
   "source": [
    "# Find fixed points, also called stable states\n",
    "fps = biolqm.fixpoints(lqm2, autoconvert=False).project_on_components(reporter_components)\n",
    "biolqm.states_to_dataframe(fps)\n",
    "\n",
    "# Generation of a python dataframe containing all stable states, easy to filter.\n",
    "fpsdf = biolqm.states_to_dataframe(biolqm.fixpoints(lqm2, autoconvert=False))\n",
    "fpsdfproj = biolqm.states_to_dataframe(biolqm.fixpoints(lqm2, autoconvert=False).project_on_components(reporter_components))\n",
    "\n",
    "# generation of a list of dictionaries for all stable states, easy to display.  \n",
    "fpsdic = biolqm.fixpoints(lqm2)\n",
    "len(fpsdf)"
   ]
  },
  {
   "cell_type": "code",
   "execution_count": 37,
   "metadata": {},
   "outputs": [
    {
     "data": {
      "text/plain": [
       "12"
      ]
     },
     "execution_count": 37,
     "metadata": {},
     "output_type": "execute_result"
    }
   ],
   "source": [
    "len(fpsdfproj)"
   ]
  },
  {
   "cell_type": "code",
   "execution_count": 38,
   "metadata": {},
   "outputs": [],
   "source": [
    "# Find the wild-type stable state\n",
    "#fps_pd = pd.DataFrame(fps)\n",
    "#fps_pd = fps_pd.iloc[:,[0,6,10]]\n",
    "#fps_pd[\"input_list\"] = fps_pd['Hh'].astype(str) + fps_pd['Wg'].astype(str) + fps_pd['Egfr'].astype(str)\n",
    "\n",
    "\n",
    "#c_index = fps_pd[fps_pd[\"input_list\"] == \"001\"].index.values\n",
    "#d_index = fps_pd[fps_pd[\"input_list\"] == \"110\"].index.values\n",
    "#v_index = fps_pd[fps_pd[\"input_list\"] == \"111\"].index.values\n",
    "\n",
    "#ginsim.show(lrg, fps[v_index[0]])"
   ]
  },
  {
   "cell_type": "code",
   "execution_count": 39,
   "metadata": {
    "scrolled": true
   },
   "outputs": [
    {
     "data": {
      "text/html": [
       "<div>\n",
       "<style scoped>\n",
       "    .dataframe tbody tr th:only-of-type {\n",
       "        vertical-align: middle;\n",
       "    }\n",
       "\n",
       "    .dataframe tbody tr th {\n",
       "        vertical-align: top;\n",
       "    }\n",
       "\n",
       "    .dataframe thead th {\n",
       "        text-align: right;\n",
       "    }\n",
       "</style>\n",
       "<table border=\"1\" class=\"dataframe\">\n",
       "  <thead>\n",
       "    <tr style=\"text-align: right;\">\n",
       "      <th></th>\n",
       "      <th>wg</th>\n",
       "      <th>en</th>\n",
       "      <th>gsb</th>\n",
       "      <th>vnd</th>\n",
       "      <th>ind</th>\n",
       "      <th>msh</th>\n",
       "      <th>NB7_1</th>\n",
       "      <th>NB7_4</th>\n",
       "      <th>NB5_6</th>\n",
       "      <th>NB5_3</th>\n",
       "      <th>NB5_2</th>\n",
       "      <th>NB4_2</th>\n",
       "      <th>NB3_5</th>\n",
       "    </tr>\n",
       "  </thead>\n",
       "  <tbody>\n",
       "    <tr>\n",
       "      <th>0</th>\n",
       "      <td>0</td>\n",
       "      <td>1</td>\n",
       "      <td>0</td>\n",
       "      <td>0</td>\n",
       "      <td>0</td>\n",
       "      <td>1</td>\n",
       "      <td>0</td>\n",
       "      <td>0</td>\n",
       "      <td>0</td>\n",
       "      <td>0</td>\n",
       "      <td>0</td>\n",
       "      <td>0</td>\n",
       "      <td>0</td>\n",
       "    </tr>\n",
       "    <tr>\n",
       "      <th>1</th>\n",
       "      <td>0</td>\n",
       "      <td>1</td>\n",
       "      <td>0</td>\n",
       "      <td>0</td>\n",
       "      <td>1</td>\n",
       "      <td>0</td>\n",
       "      <td>0</td>\n",
       "      <td>0</td>\n",
       "      <td>0</td>\n",
       "      <td>0</td>\n",
       "      <td>0</td>\n",
       "      <td>0</td>\n",
       "      <td>0</td>\n",
       "    </tr>\n",
       "    <tr>\n",
       "      <th>2</th>\n",
       "      <td>0</td>\n",
       "      <td>1</td>\n",
       "      <td>0</td>\n",
       "      <td>1</td>\n",
       "      <td>0</td>\n",
       "      <td>0</td>\n",
       "      <td>0</td>\n",
       "      <td>1</td>\n",
       "      <td>0</td>\n",
       "      <td>0</td>\n",
       "      <td>0</td>\n",
       "      <td>0</td>\n",
       "      <td>1</td>\n",
       "    </tr>\n",
       "    <tr>\n",
       "      <th>3</th>\n",
       "      <td>0</td>\n",
       "      <td>0</td>\n",
       "      <td>0</td>\n",
       "      <td>0</td>\n",
       "      <td>0</td>\n",
       "      <td>1</td>\n",
       "      <td>0</td>\n",
       "      <td>0</td>\n",
       "      <td>0</td>\n",
       "      <td>0</td>\n",
       "      <td>0</td>\n",
       "      <td>0</td>\n",
       "      <td>0</td>\n",
       "    </tr>\n",
       "    <tr>\n",
       "      <th>4</th>\n",
       "      <td>0</td>\n",
       "      <td>0</td>\n",
       "      <td>0</td>\n",
       "      <td>0</td>\n",
       "      <td>1</td>\n",
       "      <td>0</td>\n",
       "      <td>0</td>\n",
       "      <td>0</td>\n",
       "      <td>0</td>\n",
       "      <td>0</td>\n",
       "      <td>0</td>\n",
       "      <td>0</td>\n",
       "      <td>0</td>\n",
       "    </tr>\n",
       "    <tr>\n",
       "      <th>5</th>\n",
       "      <td>0</td>\n",
       "      <td>0</td>\n",
       "      <td>0</td>\n",
       "      <td>1</td>\n",
       "      <td>0</td>\n",
       "      <td>0</td>\n",
       "      <td>0</td>\n",
       "      <td>0</td>\n",
       "      <td>0</td>\n",
       "      <td>0</td>\n",
       "      <td>0</td>\n",
       "      <td>0</td>\n",
       "      <td>1</td>\n",
       "    </tr>\n",
       "    <tr>\n",
       "      <th>6</th>\n",
       "      <td>0</td>\n",
       "      <td>1</td>\n",
       "      <td>1</td>\n",
       "      <td>0</td>\n",
       "      <td>0</td>\n",
       "      <td>1</td>\n",
       "      <td>0</td>\n",
       "      <td>0</td>\n",
       "      <td>0</td>\n",
       "      <td>0</td>\n",
       "      <td>0</td>\n",
       "      <td>0</td>\n",
       "      <td>0</td>\n",
       "    </tr>\n",
       "    <tr>\n",
       "      <th>7</th>\n",
       "      <td>0</td>\n",
       "      <td>1</td>\n",
       "      <td>1</td>\n",
       "      <td>0</td>\n",
       "      <td>1</td>\n",
       "      <td>0</td>\n",
       "      <td>0</td>\n",
       "      <td>0</td>\n",
       "      <td>0</td>\n",
       "      <td>0</td>\n",
       "      <td>0</td>\n",
       "      <td>0</td>\n",
       "      <td>0</td>\n",
       "    </tr>\n",
       "    <tr>\n",
       "      <th>8</th>\n",
       "      <td>0</td>\n",
       "      <td>1</td>\n",
       "      <td>1</td>\n",
       "      <td>1</td>\n",
       "      <td>0</td>\n",
       "      <td>0</td>\n",
       "      <td>1</td>\n",
       "      <td>1</td>\n",
       "      <td>0</td>\n",
       "      <td>0</td>\n",
       "      <td>0</td>\n",
       "      <td>0</td>\n",
       "      <td>1</td>\n",
       "    </tr>\n",
       "    <tr>\n",
       "      <th>9</th>\n",
       "      <td>1</td>\n",
       "      <td>0</td>\n",
       "      <td>1</td>\n",
       "      <td>0</td>\n",
       "      <td>0</td>\n",
       "      <td>1</td>\n",
       "      <td>0</td>\n",
       "      <td>0</td>\n",
       "      <td>1</td>\n",
       "      <td>0</td>\n",
       "      <td>0</td>\n",
       "      <td>0</td>\n",
       "      <td>0</td>\n",
       "    </tr>\n",
       "    <tr>\n",
       "      <th>10</th>\n",
       "      <td>1</td>\n",
       "      <td>0</td>\n",
       "      <td>1</td>\n",
       "      <td>0</td>\n",
       "      <td>1</td>\n",
       "      <td>0</td>\n",
       "      <td>0</td>\n",
       "      <td>0</td>\n",
       "      <td>1</td>\n",
       "      <td>1</td>\n",
       "      <td>0</td>\n",
       "      <td>0</td>\n",
       "      <td>0</td>\n",
       "    </tr>\n",
       "    <tr>\n",
       "      <th>11</th>\n",
       "      <td>1</td>\n",
       "      <td>0</td>\n",
       "      <td>1</td>\n",
       "      <td>1</td>\n",
       "      <td>0</td>\n",
       "      <td>0</td>\n",
       "      <td>0</td>\n",
       "      <td>0</td>\n",
       "      <td>1</td>\n",
       "      <td>0</td>\n",
       "      <td>1</td>\n",
       "      <td>1</td>\n",
       "      <td>1</td>\n",
       "    </tr>\n",
       "  </tbody>\n",
       "</table>\n",
       "</div>"
      ],
      "text/plain": [
       "    wg  en  gsb  vnd  ind  msh  NB7_1  NB7_4  NB5_6  NB5_3  NB5_2  NB4_2  \\\n",
       "0    0   1    0    0    0    1      0      0      0      0      0      0   \n",
       "1    0   1    0    0    1    0      0      0      0      0      0      0   \n",
       "2    0   1    0    1    0    0      0      1      0      0      0      0   \n",
       "3    0   0    0    0    0    1      0      0      0      0      0      0   \n",
       "4    0   0    0    0    1    0      0      0      0      0      0      0   \n",
       "5    0   0    0    1    0    0      0      0      0      0      0      0   \n",
       "6    0   1    1    0    0    1      0      0      0      0      0      0   \n",
       "7    0   1    1    0    1    0      0      0      0      0      0      0   \n",
       "8    0   1    1    1    0    0      1      1      0      0      0      0   \n",
       "9    1   0    1    0    0    1      0      0      1      0      0      0   \n",
       "10   1   0    1    0    1    0      0      0      1      1      0      0   \n",
       "11   1   0    1    1    0    0      0      0      1      0      1      1   \n",
       "\n",
       "    NB3_5  \n",
       "0       0  \n",
       "1       0  \n",
       "2       1  \n",
       "3       0  \n",
       "4       0  \n",
       "5       1  \n",
       "6       0  \n",
       "7       0  \n",
       "8       1  \n",
       "9       0  \n",
       "10      0  \n",
       "11      1  "
      ]
     },
     "execution_count": 39,
     "metadata": {},
     "output_type": "execute_result"
    }
   ],
   "source": [
    "# Generation of a table listing all stable states projected on reporter components\n",
    "fpsdfproj\n"
   ]
  },
  {
   "cell_type": "code",
   "execution_count": 41,
   "metadata": {},
   "outputs": [
    {
     "data": {
      "text/html": [
       "<div>\n",
       "<style scoped>\n",
       "    .dataframe tbody tr th:only-of-type {\n",
       "        vertical-align: middle;\n",
       "    }\n",
       "\n",
       "    .dataframe tbody tr th {\n",
       "        vertical-align: top;\n",
       "    }\n",
       "\n",
       "    .dataframe thead th {\n",
       "        text-align: right;\n",
       "    }\n",
       "</style>\n",
       "<table border=\"1\" class=\"dataframe\">\n",
       "  <thead>\n",
       "    <tr style=\"text-align: right;\">\n",
       "      <th></th>\n",
       "      <th>wg</th>\n",
       "      <th>en</th>\n",
       "      <th>gsb</th>\n",
       "      <th>vnd</th>\n",
       "      <th>ind</th>\n",
       "      <th>msh</th>\n",
       "      <th>NB7_1</th>\n",
       "      <th>NB7_4</th>\n",
       "      <th>NB5_6</th>\n",
       "      <th>NB5_3</th>\n",
       "      <th>NB5_2</th>\n",
       "      <th>NB4_2</th>\n",
       "      <th>NB3_5</th>\n",
       "    </tr>\n",
       "  </thead>\n",
       "  <tbody>\n",
       "    <tr>\n",
       "      <th>0</th>\n",
       "      <td>0</td>\n",
       "      <td>0</td>\n",
       "      <td>0</td>\n",
       "      <td>0</td>\n",
       "      <td>0</td>\n",
       "      <td>1</td>\n",
       "      <td>0</td>\n",
       "      <td>0</td>\n",
       "      <td>0</td>\n",
       "      <td>0</td>\n",
       "      <td>0</td>\n",
       "      <td>0</td>\n",
       "      <td>0</td>\n",
       "    </tr>\n",
       "    <tr>\n",
       "      <th>1</th>\n",
       "      <td>0</td>\n",
       "      <td>0</td>\n",
       "      <td>0</td>\n",
       "      <td>0</td>\n",
       "      <td>1</td>\n",
       "      <td>0</td>\n",
       "      <td>0</td>\n",
       "      <td>0</td>\n",
       "      <td>0</td>\n",
       "      <td>0</td>\n",
       "      <td>0</td>\n",
       "      <td>0</td>\n",
       "      <td>0</td>\n",
       "    </tr>\n",
       "    <tr>\n",
       "      <th>2</th>\n",
       "      <td>0</td>\n",
       "      <td>0</td>\n",
       "      <td>0</td>\n",
       "      <td>1</td>\n",
       "      <td>0</td>\n",
       "      <td>0</td>\n",
       "      <td>0</td>\n",
       "      <td>0</td>\n",
       "      <td>0</td>\n",
       "      <td>0</td>\n",
       "      <td>0</td>\n",
       "      <td>0</td>\n",
       "      <td>1</td>\n",
       "    </tr>\n",
       "    <tr>\n",
       "      <th>3</th>\n",
       "      <td>1</td>\n",
       "      <td>0</td>\n",
       "      <td>1</td>\n",
       "      <td>0</td>\n",
       "      <td>0</td>\n",
       "      <td>1</td>\n",
       "      <td>0</td>\n",
       "      <td>0</td>\n",
       "      <td>1</td>\n",
       "      <td>0</td>\n",
       "      <td>0</td>\n",
       "      <td>0</td>\n",
       "      <td>0</td>\n",
       "    </tr>\n",
       "    <tr>\n",
       "      <th>4</th>\n",
       "      <td>1</td>\n",
       "      <td>0</td>\n",
       "      <td>1</td>\n",
       "      <td>0</td>\n",
       "      <td>1</td>\n",
       "      <td>0</td>\n",
       "      <td>0</td>\n",
       "      <td>0</td>\n",
       "      <td>1</td>\n",
       "      <td>1</td>\n",
       "      <td>0</td>\n",
       "      <td>0</td>\n",
       "      <td>0</td>\n",
       "    </tr>\n",
       "    <tr>\n",
       "      <th>5</th>\n",
       "      <td>1</td>\n",
       "      <td>0</td>\n",
       "      <td>1</td>\n",
       "      <td>1</td>\n",
       "      <td>0</td>\n",
       "      <td>0</td>\n",
       "      <td>0</td>\n",
       "      <td>0</td>\n",
       "      <td>1</td>\n",
       "      <td>0</td>\n",
       "      <td>1</td>\n",
       "      <td>1</td>\n",
       "      <td>1</td>\n",
       "    </tr>\n",
       "  </tbody>\n",
       "</table>\n",
       "</div>"
      ],
      "text/plain": [
       "   wg  en  gsb  vnd  ind  msh  NB7_1  NB7_4  NB5_6  NB5_3  NB5_2  NB4_2  NB3_5\n",
       "0   0   0    0    0    0    1      0      0      0      0      0      0      0\n",
       "1   0   0    0    0    1    0      0      0      0      0      0      0      0\n",
       "2   0   0    0    1    0    0      0      0      0      0      0      0      1\n",
       "3   1   0    1    0    0    1      0      0      1      0      0      0      0\n",
       "4   1   0    1    0    1    0      0      0      1      1      0      0      0\n",
       "5   1   0    1    1    0    0      0      0      1      0      1      1      1"
      ]
     },
     "execution_count": 41,
     "metadata": {},
     "output_type": "execute_result"
    }
   ],
   "source": [
    "# Definition of en LoF mutants\n",
    "lqm_en_LoF = biolqm.perturbation(lqm2,\"en%0\")\n",
    "# Generation of a python dataframe containing all stable states patterns.\n",
    "fpsdfproj = biolqm.states_to_dataframe(biolqm.fixpoints(lqm_en_LoF, autoconvert=False).project_on_components(reporter_components))\n",
    "# Projection of stable states and displaying in a table\n",
    "fpsdfproj\n"
   ]
  },
  {
   "cell_type": "code",
   "execution_count": 5,
   "metadata": {},
   "outputs": [
    {
     "data": {
      "text/html": [
       "<img class=\"unconfined\" width=\"705px\" src=\"data:image/svg+xml;base64,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\">"
      ],
      "text/plain": [
       "<IPython.core.display.HTML object>"
      ]
     },
     "execution_count": 5,
     "metadata": {},
     "output_type": "execute_result"
    }
   ],
   "source": [
    "# DV stable state\n",
    "ginsim.show(lrg, fps[c_index[0]])"
   ]
  },
  {
   "cell_type": "code",
   "execution_count": 9,
   "metadata": {},
   "outputs": [
    {
     "data": {
      "text/html": [
       "<img class=\"unconfined\" width=\"705px\" src=\"data:image/svg+xml;base64,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\">"
      ],
      "text/plain": [
       "<IPython.core.display.HTML object>"
      ]
     },
     "execution_count": 9,
     "metadata": {},
     "output_type": "execute_result"
    }
   ],
   "source": [
    "# DV_AP stable state\n",
    "ginsim.show(lrg, fps[d_index[1]])"
   ]
  },
  {
   "cell_type": "code",
   "execution_count": null,
   "metadata": {},
   "outputs": [],
   "source": []
  },
  {
   "cell_type": "markdown",
   "metadata": {},
   "source": [
    "In this regulatory graph, green arrows and red T arrows respectively denote activatory and inhibitory interactions. A set of rules combining the vertices with the Boolean operators NOT, AND, and OR, which must be consistent with the regulatory graph, then allows the computation of enabled transitions for each network state."
   ]
  },
  {
   "attachments": {
    "image.png": {
     "image/png": "[encoded data removed]"
    }
   },
   "cell_type": "markdown",
   "metadata": {},
   "source": [
    "## Boolean functions of the Egfr pathway\n",
    "\n",
    "\n",
    "![image.png](attachment:image.png)\n"
   ]
  },
  {
   "cell_type": "markdown",
   "metadata": {},
   "source": [
    "Boolean functions of the each of the 12 components summarized in a table."
   ]
  },
  {
   "cell_type": "markdown",
   "metadata": {},
   "source": [
    "## Helper functions\n",
    "\n",
    "Some helper functions and color mapping rules to perform value propagation and visualize the result."
   ]
  },
  {
   "cell_type": "code",
   "execution_count": null,
   "metadata": {},
   "outputs": [],
   "source": []
  },
  {
   "cell_type": "code",
   "execution_count": 10,
   "metadata": {},
   "outputs": [],
   "source": [
    "# Function 1 : dash_pattern\n",
    "# Transforms a dictionary into a dash-like pattern used for space restrictions.\n",
    "# If a model has 4 components A, B, C, D in this order,\n",
    "#  {A:0, D:1} => \"0--1\"\n",
    "def dash_pattern(model, dict_vals):\n",
    "    specific_comps = dict_vals.keys()\n",
    "    str_pattern = \"\"\n",
    "    for comp in model.getComponents():\n",
    "        if comp.toString() in specific_comps:\n",
    "            str_pattern += str(dict_vals.get(comp.toString()))\n",
    "        else :\n",
    "            str_pattern += \"-\"\n",
    "    return(str_pattern)\n",
    "\n",
    "\n",
    "# Function 3 : getFxp (from Swann)\n",
    "# Format the resulting output from fixpoints search.\n",
    "# In case of multiple possible fixpoints, we store them as new individual keys in a dictionnary. Order is random\n",
    "def getFxp(fixpoints) :\n",
    "    fxp_formated = {}\n",
    "    for territory in fixpoints.keys() :\n",
    "        if len(fixpoints[territory]) == 1 :\n",
    "            fxp_formated[territory] = [fixpoints[territory][0]]\n",
    "        elif len(fixpoints[territory]) == 0 :\n",
    "            fxp_formated[territory] = []\n",
    "        elif len(fixpoints[territory]) > 1 :\n",
    "            fxp_formated[territory] = fixpoints[territory]\n",
    "        return(fxp_formated)\n",
    "\n",
    "# Function 4 : split_multiSS (from Swann)\n",
    "# In case where we find more than one stable state in one of the territory, \n",
    "# we create one instance of simulation result for each different stable state reached\n",
    "def split_multiSS(fxp_res, pert_name) :\n",
    "    num_ss_max = max(len(fxp_res[ter]) for ter in fxp_res.keys())\n",
    "    out_dict = {}\n",
    "    if num_ss_max > 1 :\n",
    "        for step in range(0,num_ss_max) :\n",
    "            out_dict[pert_name + '_ss' + str(step)] = {}\n",
    "            for ter in fxp_res.keys() :\n",
    "                if len(fxp_res[ter])-1 < step :\n",
    "                    item = len(fxp_res[ter])-1\n",
    "                elif len(fxp_res[ter])-1 >= step : \n",
    "                    item = step\n",
    "                out_dict[pert_name + '_ss' + str(step)][ter] = fxp_res[ter][item]\n",
    "    elif num_ss_max == 1 :\n",
    "        out_dict[pert_name] = {}\n",
    "        for ter in fxp_res.keys() :\n",
    "            out_dict[pert_name][ter] = fxp_res[ter][0]\n",
    "    return(out_dict)"
   ]
  },
  {
   "cell_type": "code",
   "execution_count": null,
   "metadata": {},
   "outputs": [],
   "source": []
  },
  {
   "cell_type": "code",
   "execution_count": 11,
   "metadata": {},
   "outputs": [
    {
     "data": {
      "text/html": [
       "<div>\n",
       "<style scoped>\n",
       "    .dataframe tbody tr th:only-of-type {\n",
       "        vertical-align: middle;\n",
       "    }\n",
       "\n",
       "    .dataframe tbody tr th {\n",
       "        vertical-align: top;\n",
       "    }\n",
       "\n",
       "    .dataframe thead th {\n",
       "        text-align: right;\n",
       "    }\n",
       "</style>\n",
       "<table border=\"1\" class=\"dataframe\">\n",
       "  <thead>\n",
       "    <tr style=\"text-align: right;\">\n",
       "      <th></th>\n",
       "      <th>DV</th>\n",
       "      <th>AP</th>\n",
       "      <th>DV_AP</th>\n",
       "    </tr>\n",
       "  </thead>\n",
       "  <tbody>\n",
       "    <tr>\n",
       "      <th>Hh</th>\n",
       "      <td>0</td>\n",
       "      <td>1</td>\n",
       "      <td>1</td>\n",
       "    </tr>\n",
       "    <tr>\n",
       "      <th>Wg</th>\n",
       "      <td>0</td>\n",
       "      <td>1</td>\n",
       "      <td>1</td>\n",
       "    </tr>\n",
       "    <tr>\n",
       "      <th>Egfr</th>\n",
       "      <td>1</td>\n",
       "      <td>0</td>\n",
       "      <td>1</td>\n",
       "    </tr>\n",
       "  </tbody>\n",
       "</table>\n",
       "</div>"
      ],
      "text/plain": [
       "      DV  AP  DV_AP\n",
       "Hh     0   1      1\n",
       "Wg     0   1      1\n",
       "Egfr   1   0      1"
      ]
     },
     "execution_count": 11,
     "metadata": {},
     "output_type": "execute_result"
    }
   ],
   "source": [
    "# Wild-type simulation\n",
    "\n",
    "## Define the wild type initial state conditions for the inputs in the three territories\n",
    "# Univin is also fixed at 1 to avoid simulating events where Univin level reaches 0\n",
    "inputs_state = {\"DV\" : {\"Hh\":0, \"Wg\":0 , \"Egfr\":1}, \n",
    "                \"AP\" : {\"Hh\":1, \"Wg\":1 , \"Egfr\":0},\n",
    "                \"DV_AP\" : {\"Hh\":1, \"Wg\":1 , \"Egfr\":1}}\n",
    "core_vals = {}\n",
    "pd.DataFrame(inputs_state)"
   ]
  },
  {
   "cell_type": "code",
   "execution_count": 12,
   "metadata": {
    "scrolled": true
   },
   "outputs": [
    {
     "data": {
      "text/plain": [
       "dict_keys(['DV', 'AP', 'DV_AP'])"
      ]
     },
     "execution_count": 12,
     "metadata": {},
     "output_type": "execute_result"
    }
   ],
   "source": [
    "inputs_state.keys()"
   ]
  },
  {
   "cell_type": "code",
   "execution_count": 21,
   "metadata": {},
   "outputs": [
    {
     "ename": "NameError",
     "evalue": "name 'expected_output' is not defined",
     "output_type": "error",
     "traceback": [
      "\u001b[0;31m\u001b[0m",
      "\u001b[0;31mNameError\u001b[0mTraceback (most recent call last)",
      "\u001b[0;32m<ipython-input-21-e843137e7339>\u001b[0m in \u001b[0;36m<module>\u001b[0;34m\u001b[0m\n\u001b[1;32m     16\u001b[0m \u001b[0mfig\u001b[0m\u001b[0;34m,\u001b[0m \u001b[0;34m(\u001b[0m\u001b[0max1\u001b[0m\u001b[0;34m)\u001b[0m \u001b[0;34m=\u001b[0m \u001b[0mplt\u001b[0m\u001b[0;34m.\u001b[0m\u001b[0msubplots\u001b[0m\u001b[0;34m(\u001b[0m\u001b[0;36m1\u001b[0m\u001b[0;34m,\u001b[0m\u001b[0;36m1\u001b[0m\u001b[0;34m,\u001b[0m \u001b[0mfigsize\u001b[0m\u001b[0;34m=\u001b[0m\u001b[0;34m(\u001b[0m\u001b[0;36m15\u001b[0m\u001b[0;34m,\u001b[0m\u001b[0;36m1\u001b[0m\u001b[0;34m)\u001b[0m\u001b[0;34m)\u001b[0m\u001b[0;34m\u001b[0m\u001b[0;34m\u001b[0m\u001b[0m\n\u001b[1;32m     17\u001b[0m \u001b[0;31m# Plot color scheme\u001b[0m\u001b[0;34m\u001b[0m\u001b[0;34m\u001b[0m\u001b[0;34m\u001b[0m\u001b[0m\n\u001b[0;32m---> 18\u001b[0;31m \u001b[0mwt_res\u001b[0m \u001b[0;34m=\u001b[0m \u001b[0mwhich_territory\u001b[0m\u001b[0;34m(\u001b[0m\u001b[0;34m\"Wild_Type\"\u001b[0m \u001b[0;34m,\u001b[0m\u001b[0mwild_type\u001b[0m\u001b[0;34m,\u001b[0m \u001b[0mexpected_output\u001b[0m\u001b[0;34m,\u001b[0m \u001b[0moutput_to_match\u001b[0m\u001b[0;34m)\u001b[0m\u001b[0;34m\u001b[0m\u001b[0;34m\u001b[0m\u001b[0m\n\u001b[0m\u001b[1;32m     19\u001b[0m \u001b[0mwt_res\u001b[0m \u001b[0;34m=\u001b[0m \u001b[0mpd\u001b[0m\u001b[0;34m.\u001b[0m\u001b[0mDataFrame\u001b[0m\u001b[0;34m(\u001b[0m\u001b[0mwt_res\u001b[0m\u001b[0;34m)\u001b[0m\u001b[0;34m\u001b[0m\u001b[0;34m\u001b[0m\u001b[0m\n\u001b[1;32m     20\u001b[0m \u001b[0mwt_res\u001b[0m \u001b[0;34m=\u001b[0m \u001b[0mwt_res\u001b[0m\u001b[0;34m.\u001b[0m\u001b[0mreplace\u001b[0m\u001b[0;34m(\u001b[0m\u001b[0;34m{\u001b[0m\u001b[0;34m'Wild_Type'\u001b[0m \u001b[0;34m:\u001b[0m \u001b[0;34m{\u001b[0m \u001b[0;34m'DV'\u001b[0m \u001b[0;34m:\u001b[0m \u001b[0;36m1\u001b[0m\u001b[0;34m,\u001b[0m \u001b[0;34m'AP'\u001b[0m \u001b[0;34m:\u001b[0m \u001b[0;36m2\u001b[0m\u001b[0;34m,\u001b[0m \u001b[0;34m'DV_AP'\u001b[0m \u001b[0;34m:\u001b[0m \u001b[0;36m3\u001b[0m \u001b[0;34m,\u001b[0m \u001b[0;34m'unknown'\u001b[0m \u001b[0;34m:\u001b[0m \u001b[0;36m0\u001b[0m\u001b[0;34m}\u001b[0m\u001b[0;34m}\u001b[0m\u001b[0;34m)\u001b[0m\u001b[0;34m.\u001b[0m\u001b[0mtranspose\u001b[0m\u001b[0;34m(\u001b[0m\u001b[0;34m)\u001b[0m\u001b[0;34m\u001b[0m\u001b[0;34m\u001b[0m\u001b[0m\n",
      "\u001b[0;31mNameError\u001b[0m: name 'expected_output' is not defined"
     ]
    },
    {
     "data": {
      "image/png": "[encoded data removed]",
      "text/plain": [
       "<Figure size 1080x72 with 1 Axes>"
      ]
     },
     "metadata": {},
     "output_type": "display_data"
    }
   ],
   "source": [
    "def which_territory(name, state_dict, expected_dict, output_list):\n",
    "    output_dict = {}\n",
    "    for ter in state_dict.keys() :\n",
    "        # Extract output nodes present\n",
    "        checked_state = [n for n in state_dict[ter].keys() if state_dict[ter][n] > 0 and n in output_list]\n",
    "        output_dict[ter] = 'unknown'\n",
    "        # Compare with the wild type pattern (the list must be perfectly similar)\n",
    "        for ns in expected_dict.keys() :\n",
    "            if all(node in expected_dict[ns] for node in checked_state)  and all(node in checked_state for node in expected_dict[ns]) :\n",
    "                output_dict[ter] = ns\n",
    "    return({ name : output_dict})\n",
    "\n",
    "# Apply the function to compare with wild type pattern\n",
    "# Plot the fixpoints obtained in a color scheme along the dorsal-ventral axis.\n",
    "# In all the figures, the color code is the following : ventral : blue, ciliary : pink, dorsal : green.\n",
    "fig, (ax1) = plt.subplots(1,1, figsize=(15,1))\n",
    "# Plot color scheme\n",
    "wt_res = which_territory(\"Wild_Type\" ,wild_type, expected_output, output_to_match)\n",
    "wt_res = pd.DataFrame(wt_res)\n",
    "wt_res = wt_res.replace({'Wild_Type' : { 'DV' : 1, 'AP' : 2, 'DV_AP' : 3 , 'unknown' : 0}}).transpose()\n",
    "mycmap = mpl.colors.LinearSegmentedColormap.from_list(\"\", ['lightblue',\"pink\",\"lightgreen\"], N = 3)\n",
    "sns.heatmap(wt_res.loc[:,['ventral','ciliary','dorsal']].apply(pd.to_numeric), cmap=mycmap, ax=ax1)\n",
    "\n"
   ]
  },
  {
   "cell_type": "code",
   "execution_count": null,
   "metadata": {
    "scrolled": false
   },
   "outputs": [],
   "source": []
  },
  {
   "cell_type": "code",
   "execution_count": null,
   "metadata": {},
   "outputs": [],
   "source": []
  },
  {
   "cell_type": "code",
   "execution_count": 10,
   "metadata": {
    "scrolled": true
   },
   "outputs": [],
   "source": [
    "# We create a dictionnay to store the output nodes present in the wild type\n",
    "# for each simulated territory condition\n",
    "expected_output = {}\n",
    "output_to_match = ['NB7_1','NB5_2']\n",
    "\n",
    "\n",
    "for T in wild_type.keys() :\n",
    "    expected_output[T] = [n for n in wild_type[T].keys() if wild_type[T][n] > 0 and n in output_to_match]\n",
    "\n",
    "# Function 3 : which_territory (from Swann)\n",
    "# Based on a dictionnary with fixpoints for the three condition, it will compare these fixpoints\n",
    "# with the one obtained in the wild type and define from which region this fixpoints belong.\n",
    "def which_territory(name, state_dict, expected_dict, output_list):\n",
    "    output_dict = {}\n",
    "    for ter in state_dict.keys() :\n",
    "        # Extract output nodes present\n",
    "        checked_state = [n for n in state_dict[ter].keys() if state_dict[ter][n] > 0 and n in output_list]\n",
    "        output_dict[ter] = 'unknown'\n",
    "        # Compare with the wild type pattern (the list must be perfectly similar)\n",
    "        for ns in expected_dict.keys() :\n",
    "            if all(node in expected_dict[ns] for node in checked_state)  and all(node in checked_state for node in expected_dict[ns]) :\n",
    "                output_dict[ter] = ns\n",
    "    return({ name : output_dict})"
   ]
  },
  {
   "cell_type": "code",
   "execution_count": 11,
   "metadata": {},
   "outputs": [
    {
     "ename": "KeyError",
     "evalue": "\"None of [Index(['DV', 'AP', 'DV_AP'], dtype='object')] are in the [columns]\"",
     "output_type": "error",
     "traceback": [
      "\u001b[0;31m\u001b[0m",
      "\u001b[0;31mKeyError\u001b[0mTraceback (most recent call last)",
      "\u001b[0;32m<ipython-input-11-b7597bc6a7fb>\u001b[0m in \u001b[0;36m<module>\u001b[0;34m\u001b[0m\n\u001b[1;32m      9\u001b[0m \u001b[0mwt_res\u001b[0m \u001b[0;34m=\u001b[0m \u001b[0mwt_res\u001b[0m\u001b[0;34m.\u001b[0m\u001b[0mreplace\u001b[0m\u001b[0;34m(\u001b[0m\u001b[0;34m{\u001b[0m\u001b[0;34m'Wild_Type'\u001b[0m \u001b[0;34m:\u001b[0m \u001b[0;34m{\u001b[0m \u001b[0;34m'DV'\u001b[0m \u001b[0;34m:\u001b[0m \u001b[0;36m1\u001b[0m\u001b[0;34m,\u001b[0m \u001b[0;34m'AP'\u001b[0m \u001b[0;34m:\u001b[0m \u001b[0;36m2\u001b[0m\u001b[0;34m,\u001b[0m \u001b[0;34m'DV_AP'\u001b[0m \u001b[0;34m:\u001b[0m \u001b[0;36m3\u001b[0m \u001b[0;34m,\u001b[0m \u001b[0;34m'unknown'\u001b[0m \u001b[0;34m:\u001b[0m \u001b[0;36m0\u001b[0m\u001b[0;34m}\u001b[0m\u001b[0;34m}\u001b[0m\u001b[0;34m)\u001b[0m\u001b[0;34m.\u001b[0m\u001b[0mtranspose\u001b[0m\u001b[0;34m(\u001b[0m\u001b[0;34m)\u001b[0m\u001b[0;34m\u001b[0m\u001b[0;34m\u001b[0m\u001b[0m\n\u001b[1;32m     10\u001b[0m \u001b[0mmycmap\u001b[0m \u001b[0;34m=\u001b[0m \u001b[0mmpl\u001b[0m\u001b[0;34m.\u001b[0m\u001b[0mcolors\u001b[0m\u001b[0;34m.\u001b[0m\u001b[0mLinearSegmentedColormap\u001b[0m\u001b[0;34m.\u001b[0m\u001b[0mfrom_list\u001b[0m\u001b[0;34m(\u001b[0m\u001b[0;34m\"\"\u001b[0m\u001b[0;34m,\u001b[0m \u001b[0;34m[\u001b[0m\u001b[0;34m'lightblue'\u001b[0m\u001b[0;34m,\u001b[0m\u001b[0;34m\"pink\"\u001b[0m\u001b[0;34m,\u001b[0m\u001b[0;34m\"lightgreen\"\u001b[0m\u001b[0;34m]\u001b[0m\u001b[0;34m,\u001b[0m \u001b[0mN\u001b[0m \u001b[0;34m=\u001b[0m \u001b[0;36m3\u001b[0m\u001b[0;34m)\u001b[0m\u001b[0;34m\u001b[0m\u001b[0;34m\u001b[0m\u001b[0m\n\u001b[0;32m---> 11\u001b[0;31m \u001b[0msns\u001b[0m\u001b[0;34m.\u001b[0m\u001b[0mheatmap\u001b[0m\u001b[0;34m(\u001b[0m\u001b[0mwt_res\u001b[0m\u001b[0;34m.\u001b[0m\u001b[0mloc\u001b[0m\u001b[0;34m[\u001b[0m\u001b[0;34m:\u001b[0m\u001b[0;34m,\u001b[0m\u001b[0;34m[\u001b[0m\u001b[0;34m'DV'\u001b[0m\u001b[0;34m,\u001b[0m\u001b[0;34m'AP'\u001b[0m\u001b[0;34m,\u001b[0m\u001b[0;34m'DV_AP'\u001b[0m\u001b[0;34m]\u001b[0m\u001b[0;34m]\u001b[0m\u001b[0;34m.\u001b[0m\u001b[0mapply\u001b[0m\u001b[0;34m(\u001b[0m\u001b[0mpd\u001b[0m\u001b[0;34m.\u001b[0m\u001b[0mto_numeric\u001b[0m\u001b[0;34m)\u001b[0m\u001b[0;34m,\u001b[0m \u001b[0mcmap\u001b[0m\u001b[0;34m=\u001b[0m\u001b[0mmycmap\u001b[0m\u001b[0;34m,\u001b[0m \u001b[0max\u001b[0m\u001b[0;34m=\u001b[0m\u001b[0max1\u001b[0m\u001b[0;34m)\u001b[0m\u001b[0;34m\u001b[0m\u001b[0;34m\u001b[0m\u001b[0m\n\u001b[0m",
      "\u001b[0;32m/opt/conda/lib/python3.9/site-packages/pandas/core/indexing.py\u001b[0m in \u001b[0;36m__getitem__\u001b[0;34m(self, key)\u001b[0m\n\u001b[1;32m    887\u001b[0m                     \u001b[0;31m# AttributeError for IntervalTree get_value\u001b[0m\u001b[0;34m\u001b[0m\u001b[0;34m\u001b[0m\u001b[0;34m\u001b[0m\u001b[0m\n\u001b[1;32m    888\u001b[0m                     \u001b[0;32mreturn\u001b[0m \u001b[0mself\u001b[0m\u001b[0;34m.\u001b[0m\u001b[0mobj\u001b[0m\u001b[0;34m.\u001b[0m\u001b[0m_get_value\u001b[0m\u001b[0;34m(\u001b[0m\u001b[0;34m*\u001b[0m\u001b[0mkey\u001b[0m\u001b[0;34m,\u001b[0m \u001b[0mtakeable\u001b[0m\u001b[0;34m=\u001b[0m\u001b[0mself\u001b[0m\u001b[0;34m.\u001b[0m\u001b[0m_takeable\u001b[0m\u001b[0;34m)\u001b[0m\u001b[0;34m\u001b[0m\u001b[0;34m\u001b[0m\u001b[0m\n\u001b[0;32m--> 889\u001b[0;31m             \u001b[0;32mreturn\u001b[0m \u001b[0mself\u001b[0m\u001b[0;34m.\u001b[0m\u001b[0m_getitem_tuple\u001b[0m\u001b[0;34m(\u001b[0m\u001b[0mkey\u001b[0m\u001b[0;34m)\u001b[0m\u001b[0;34m\u001b[0m\u001b[0;34m\u001b[0m\u001b[0m\n\u001b[0m\u001b[1;32m    890\u001b[0m         \u001b[0;32melse\u001b[0m\u001b[0;34m:\u001b[0m\u001b[0;34m\u001b[0m\u001b[0;34m\u001b[0m\u001b[0m\n\u001b[1;32m    891\u001b[0m             \u001b[0;31m# we by definition only have the 0th axis\u001b[0m\u001b[0;34m\u001b[0m\u001b[0;34m\u001b[0m\u001b[0;34m\u001b[0m\u001b[0m\n",
      "\u001b[0;32m/opt/conda/lib/python3.9/site-packages/pandas/core/indexing.py\u001b[0m in \u001b[0;36m_getitem_tuple\u001b[0;34m(self, tup)\u001b[0m\n\u001b[1;32m   1067\u001b[0m             \u001b[0;32mreturn\u001b[0m \u001b[0mself\u001b[0m\u001b[0;34m.\u001b[0m\u001b[0m_multi_take\u001b[0m\u001b[0;34m(\u001b[0m\u001b[0mtup\u001b[0m\u001b[0;34m)\u001b[0m\u001b[0;34m\u001b[0m\u001b[0;34m\u001b[0m\u001b[0m\n\u001b[1;32m   1068\u001b[0m \u001b[0;34m\u001b[0m\u001b[0m\n\u001b[0;32m-> 1069\u001b[0;31m         \u001b[0;32mreturn\u001b[0m \u001b[0mself\u001b[0m\u001b[0;34m.\u001b[0m\u001b[0m_getitem_tuple_same_dim\u001b[0m\u001b[0;34m(\u001b[0m\u001b[0mtup\u001b[0m\u001b[0;34m)\u001b[0m\u001b[0;34m\u001b[0m\u001b[0;34m\u001b[0m\u001b[0m\n\u001b[0m\u001b[1;32m   1070\u001b[0m \u001b[0;34m\u001b[0m\u001b[0m\n\u001b[1;32m   1071\u001b[0m     \u001b[0;32mdef\u001b[0m \u001b[0m_get_label\u001b[0m\u001b[0;34m(\u001b[0m\u001b[0mself\u001b[0m\u001b[0;34m,\u001b[0m \u001b[0mlabel\u001b[0m\u001b[0;34m,\u001b[0m \u001b[0maxis\u001b[0m\u001b[0;34m:\u001b[0m \u001b[0mint\u001b[0m\u001b[0;34m)\u001b[0m\u001b[0;34m:\u001b[0m\u001b[0;34m\u001b[0m\u001b[0;34m\u001b[0m\u001b[0m\n",
      "\u001b[0;32m/opt/conda/lib/python3.9/site-packages/pandas/core/indexing.py\u001b[0m in \u001b[0;36m_getitem_tuple_same_dim\u001b[0;34m(self, tup)\u001b[0m\n\u001b[1;32m    773\u001b[0m                 \u001b[0;32mcontinue\u001b[0m\u001b[0;34m\u001b[0m\u001b[0;34m\u001b[0m\u001b[0m\n\u001b[1;32m    774\u001b[0m \u001b[0;34m\u001b[0m\u001b[0m\n\u001b[0;32m--> 775\u001b[0;31m             \u001b[0mretval\u001b[0m \u001b[0;34m=\u001b[0m \u001b[0mgetattr\u001b[0m\u001b[0;34m(\u001b[0m\u001b[0mretval\u001b[0m\u001b[0;34m,\u001b[0m \u001b[0mself\u001b[0m\u001b[0;34m.\u001b[0m\u001b[0mname\u001b[0m\u001b[0;34m)\u001b[0m\u001b[0;34m.\u001b[0m\u001b[0m_getitem_axis\u001b[0m\u001b[0;34m(\u001b[0m\u001b[0mkey\u001b[0m\u001b[0;34m,\u001b[0m \u001b[0maxis\u001b[0m\u001b[0;34m=\u001b[0m\u001b[0mi\u001b[0m\u001b[0;34m)\u001b[0m\u001b[0;34m\u001b[0m\u001b[0;34m\u001b[0m\u001b[0m\n\u001b[0m\u001b[1;32m    776\u001b[0m             \u001b[0;31m# We should never have retval.ndim < self.ndim, as that should\u001b[0m\u001b[0;34m\u001b[0m\u001b[0;34m\u001b[0m\u001b[0;34m\u001b[0m\u001b[0m\n\u001b[1;32m    777\u001b[0m             \u001b[0;31m#  be handled by the _getitem_lowerdim call above.\u001b[0m\u001b[0;34m\u001b[0m\u001b[0;34m\u001b[0m\u001b[0;34m\u001b[0m\u001b[0m\n",
      "\u001b[0;32m/opt/conda/lib/python3.9/site-packages/pandas/core/indexing.py\u001b[0m in \u001b[0;36m_getitem_axis\u001b[0;34m(self, key, axis)\u001b[0m\n\u001b[1;32m   1111\u001b[0m                     \u001b[0;32mraise\u001b[0m \u001b[0mValueError\u001b[0m\u001b[0;34m(\u001b[0m\u001b[0;34m\"Cannot index with multidimensional key\"\u001b[0m\u001b[0;34m)\u001b[0m\u001b[0;34m\u001b[0m\u001b[0;34m\u001b[0m\u001b[0m\n\u001b[1;32m   1112\u001b[0m \u001b[0;34m\u001b[0m\u001b[0m\n\u001b[0;32m-> 1113\u001b[0;31m                 \u001b[0;32mreturn\u001b[0m \u001b[0mself\u001b[0m\u001b[0;34m.\u001b[0m\u001b[0m_getitem_iterable\u001b[0m\u001b[0;34m(\u001b[0m\u001b[0mkey\u001b[0m\u001b[0;34m,\u001b[0m \u001b[0maxis\u001b[0m\u001b[0;34m=\u001b[0m\u001b[0maxis\u001b[0m\u001b[0;34m)\u001b[0m\u001b[0;34m\u001b[0m\u001b[0;34m\u001b[0m\u001b[0m\n\u001b[0m\u001b[1;32m   1114\u001b[0m \u001b[0;34m\u001b[0m\u001b[0m\n\u001b[1;32m   1115\u001b[0m             \u001b[0;31m# nested tuple slicing\u001b[0m\u001b[0;34m\u001b[0m\u001b[0;34m\u001b[0m\u001b[0;34m\u001b[0m\u001b[0m\n",
      "\u001b[0;32m/opt/conda/lib/python3.9/site-packages/pandas/core/indexing.py\u001b[0m in \u001b[0;36m_getitem_iterable\u001b[0;34m(self, key, axis)\u001b[0m\n\u001b[1;32m   1051\u001b[0m \u001b[0;34m\u001b[0m\u001b[0m\n\u001b[1;32m   1052\u001b[0m         \u001b[0;31m# A collection of keys\u001b[0m\u001b[0;34m\u001b[0m\u001b[0;34m\u001b[0m\u001b[0;34m\u001b[0m\u001b[0m\n\u001b[0;32m-> 1053\u001b[0;31m         \u001b[0mkeyarr\u001b[0m\u001b[0;34m,\u001b[0m \u001b[0mindexer\u001b[0m \u001b[0;34m=\u001b[0m \u001b[0mself\u001b[0m\u001b[0;34m.\u001b[0m\u001b[0m_get_listlike_indexer\u001b[0m\u001b[0;34m(\u001b[0m\u001b[0mkey\u001b[0m\u001b[0;34m,\u001b[0m \u001b[0maxis\u001b[0m\u001b[0;34m,\u001b[0m \u001b[0mraise_missing\u001b[0m\u001b[0;34m=\u001b[0m\u001b[0;32mFalse\u001b[0m\u001b[0;34m)\u001b[0m\u001b[0;34m\u001b[0m\u001b[0;34m\u001b[0m\u001b[0m\n\u001b[0m\u001b[1;32m   1054\u001b[0m         return self.obj._reindex_with_indexers(\n\u001b[1;32m   1055\u001b[0m             \u001b[0;34m{\u001b[0m\u001b[0maxis\u001b[0m\u001b[0;34m:\u001b[0m \u001b[0;34m[\u001b[0m\u001b[0mkeyarr\u001b[0m\u001b[0;34m,\u001b[0m \u001b[0mindexer\u001b[0m\u001b[0;34m]\u001b[0m\u001b[0;34m}\u001b[0m\u001b[0;34m,\u001b[0m \u001b[0mcopy\u001b[0m\u001b[0;34m=\u001b[0m\u001b[0;32mTrue\u001b[0m\u001b[0;34m,\u001b[0m \u001b[0mallow_dups\u001b[0m\u001b[0;34m=\u001b[0m\u001b[0;32mTrue\u001b[0m\u001b[0;34m\u001b[0m\u001b[0;34m\u001b[0m\u001b[0m\n",
      "\u001b[0;32m/opt/conda/lib/python3.9/site-packages/pandas/core/indexing.py\u001b[0m in \u001b[0;36m_get_listlike_indexer\u001b[0;34m(self, key, axis, raise_missing)\u001b[0m\n\u001b[1;32m   1264\u001b[0m             \u001b[0mkeyarr\u001b[0m\u001b[0;34m,\u001b[0m \u001b[0mindexer\u001b[0m\u001b[0;34m,\u001b[0m \u001b[0mnew_indexer\u001b[0m \u001b[0;34m=\u001b[0m \u001b[0max\u001b[0m\u001b[0;34m.\u001b[0m\u001b[0m_reindex_non_unique\u001b[0m\u001b[0;34m(\u001b[0m\u001b[0mkeyarr\u001b[0m\u001b[0;34m)\u001b[0m\u001b[0;34m\u001b[0m\u001b[0;34m\u001b[0m\u001b[0m\n\u001b[1;32m   1265\u001b[0m \u001b[0;34m\u001b[0m\u001b[0m\n\u001b[0;32m-> 1266\u001b[0;31m         \u001b[0mself\u001b[0m\u001b[0;34m.\u001b[0m\u001b[0m_validate_read_indexer\u001b[0m\u001b[0;34m(\u001b[0m\u001b[0mkeyarr\u001b[0m\u001b[0;34m,\u001b[0m \u001b[0mindexer\u001b[0m\u001b[0;34m,\u001b[0m \u001b[0maxis\u001b[0m\u001b[0;34m,\u001b[0m \u001b[0mraise_missing\u001b[0m\u001b[0;34m=\u001b[0m\u001b[0mraise_missing\u001b[0m\u001b[0;34m)\u001b[0m\u001b[0;34m\u001b[0m\u001b[0;34m\u001b[0m\u001b[0m\n\u001b[0m\u001b[1;32m   1267\u001b[0m         \u001b[0;32mreturn\u001b[0m \u001b[0mkeyarr\u001b[0m\u001b[0;34m,\u001b[0m \u001b[0mindexer\u001b[0m\u001b[0;34m\u001b[0m\u001b[0;34m\u001b[0m\u001b[0m\n\u001b[1;32m   1268\u001b[0m \u001b[0;34m\u001b[0m\u001b[0m\n",
      "\u001b[0;32m/opt/conda/lib/python3.9/site-packages/pandas/core/indexing.py\u001b[0m in \u001b[0;36m_validate_read_indexer\u001b[0;34m(self, key, indexer, axis, raise_missing)\u001b[0m\n\u001b[1;32m   1306\u001b[0m             \u001b[0;32mif\u001b[0m \u001b[0mmissing\u001b[0m \u001b[0;34m==\u001b[0m \u001b[0mlen\u001b[0m\u001b[0;34m(\u001b[0m\u001b[0mindexer\u001b[0m\u001b[0;34m)\u001b[0m\u001b[0;34m:\u001b[0m\u001b[0;34m\u001b[0m\u001b[0;34m\u001b[0m\u001b[0m\n\u001b[1;32m   1307\u001b[0m                 \u001b[0maxis_name\u001b[0m \u001b[0;34m=\u001b[0m \u001b[0mself\u001b[0m\u001b[0;34m.\u001b[0m\u001b[0mobj\u001b[0m\u001b[0;34m.\u001b[0m\u001b[0m_get_axis_name\u001b[0m\u001b[0;34m(\u001b[0m\u001b[0maxis\u001b[0m\u001b[0;34m)\u001b[0m\u001b[0;34m\u001b[0m\u001b[0;34m\u001b[0m\u001b[0m\n\u001b[0;32m-> 1308\u001b[0;31m                 \u001b[0;32mraise\u001b[0m \u001b[0mKeyError\u001b[0m\u001b[0;34m(\u001b[0m\u001b[0;34mf\"None of [{key}] are in the [{axis_name}]\"\u001b[0m\u001b[0;34m)\u001b[0m\u001b[0;34m\u001b[0m\u001b[0;34m\u001b[0m\u001b[0m\n\u001b[0m\u001b[1;32m   1309\u001b[0m \u001b[0;34m\u001b[0m\u001b[0m\n\u001b[1;32m   1310\u001b[0m             \u001b[0max\u001b[0m \u001b[0;34m=\u001b[0m \u001b[0mself\u001b[0m\u001b[0;34m.\u001b[0m\u001b[0mobj\u001b[0m\u001b[0;34m.\u001b[0m\u001b[0m_get_axis\u001b[0m\u001b[0;34m(\u001b[0m\u001b[0maxis\u001b[0m\u001b[0;34m)\u001b[0m\u001b[0;34m\u001b[0m\u001b[0;34m\u001b[0m\u001b[0m\n",
      "\u001b[0;31mKeyError\u001b[0m: \"None of [Index(['DV', 'AP', 'DV_AP'], dtype='object')] are in the [columns]\""
     ]
    },
    {
     "data": {
      "image/png": "[encoded data removed]",
      "text/plain": [
       "<Figure size 1080x72 with 1 Axes>"
      ]
     },
     "metadata": {},
     "output_type": "display_data"
    }
   ],
   "source": [
    "\n",
    "# Apply the function to compare with wild type pattern\n",
    "# Plot the fixpoints obtained in a color scheme along the dorsal-ventral axis.\n",
    "# In all the figures, the color code is the following : ventral : blue, ciliary : pink, dorsal : green.\n",
    "fig, (ax1) = plt.subplots(1,1, figsize=(15,1))\n",
    "\n",
    "# Plot color scheme\n",
    "wt_res = which_territory(\"Wild_Type\" ,wild_type, expected_output, output_to_match)\n",
    "wt_res = pd.DataFrame(wt_res)\n",
    "wt_res = wt_res.replace({'Wild_Type' : { 'DV' : 1, 'AP' : 2, 'DV_AP' : 3 , 'unknown' : 0}}).transpose()\n",
    "mycmap = mpl.colors.LinearSegmentedColormap.from_list(\"\", ['lightblue',\"pink\",\"lightgreen\"], N = 3)\n",
    "sns.heatmap(wt_res.loc[:,['DV','AP','DV_AP']].apply(pd.to_numeric), cmap=mycmap, ax=ax1)"
   ]
  },
  {
   "cell_type": "markdown",
   "metadata": {},
   "source": [
    "## Identification of stable states"
   ]
  },
  {
   "cell_type": "markdown",
   "metadata": {},
   "source": [
    "Here we compute the complete list of logical stable states (or fixpoints) of the model using the Java library bioLQM and store it in the `fps` variable:"
   ]
  },
  {
   "cell_type": "code",
   "execution_count": null,
   "metadata": {
    "scrolled": true
   },
   "outputs": [],
   "source": [
    "fps = biolqm.fixpoints(lqm_model)\n",
    "print(len(fps), \"fixpoints found.\")"
   ]
  },
  {
   "cell_type": "code",
   "execution_count": null,
   "metadata": {},
   "outputs": [],
   "source": [
    "#Display of the list of stable states\n",
    "tabulate(fps)"
   ]
  },
  {
   "cell_type": "markdown",
   "metadata": {},
   "source": [
    "The model has 16 stable states, 3 of which represent the behavior of Egfr components specifying vnd domain(columns 6, 12, 13). While 8 of which represent the possible stable states for ind domain to generate, the remaining 5 rows corresponds to msh domain."
   ]
  },
  {
   "cell_type": "code",
   "execution_count": null,
   "metadata": {},
   "outputs": [],
   "source": [
    "#The third fixpoint (`fps[2]`) can then be displayed as follows:\n",
    "ginsim.show(gs_model, fps[2])"
   ]
  },
  {
   "cell_type": "markdown",
   "metadata": {},
   "source": [
    "In this graph, the vertices shown in white or blue denote components that are OFF (value 0) or ON (value 1) respectively."
   ]
  },
  {
   "cell_type": "markdown",
   "metadata": {},
   "source": [
    "## Identification of trap spaces\n",
    "\n",
    "A trap space is a subspace of a state space which trajectories cannot leave. Trap spaces provide useful approaximations of attraction basin. Every trap space contains at least one attractor and, therefore, in some cases minimal trap spaces can be good approximations for the attractors. If a trap set is an attractor, its spaces of attraction can be related to its basins of attraction. Attractor reachability can be investigated using trap spaces."
   ]
  },
  {
   "cell_type": "code",
   "execution_count": null,
   "metadata": {},
   "outputs": [],
   "source": [
    "trapspaces = biolqm.trapspaces(lqm_model)\n",
    "tabulate(trapspaces)"
   ]
  },
  {
   "cell_type": "code",
   "execution_count": null,
   "metadata": {},
   "outputs": [],
   "source": [
    " ginsim.show(lrg, trapspaces[1])"
   ]
  },
  {
   "cell_type": "markdown",
   "metadata": {},
   "source": [
    "## Model simplification (skipped)"
   ]
  },
  {
   "cell_type": "code",
   "execution_count": null,
   "metadata": {},
   "outputs": [],
   "source": [
    "## Model simplification (havent used): \n",
    "#   * Fix all inputs to their inactive state.\n",
    "fixed = { str(n):0 for n in lqm_model.getComponents() if n.isInput()}\n",
    "\n",
    "# Keep 'Spi', 'Hh' and as proper inputs \n",
    "for n in ('Spi', 'Hh', 'Wg'):\n",
    "    del(fixed[n])\n",
    "\n",
    "# Fix inputs to their active state\n",
    "fixed['Spi'] = 1\n",
    "fixed['Hh'] = 1\n",
    "fixed['Wg'] = 1"
   ]
  },
  {
   "cell_type": "code",
   "execution_count": null,
   "metadata": {},
   "outputs": [],
   "source": [
    "# Apply the simplifications defined above to reduce the model\n",
    "m_reduced = biolqm.perturbation(lqm_model, \" \".join([ \"%s%%%s\" % (k,v) for (k,v) in fixed.items() ]))\n",
    "m_reduced = biolqm.reduce(m_reduced, \":fixed :purge :no-extra\")"
   ]
  },
  {
   "cell_type": "code",
   "execution_count": null,
   "metadata": {
    "scrolled": false
   },
   "outputs": [],
   "source": [
    "fps = biolqm.fixpoints(m_reduced, autoconvert=False)\n",
    "df = biolqm.states_to_dataframe(fps)\n",
    "df"
   ]
  },
  {
   "cell_type": "markdown",
   "metadata": {},
   "source": [
    "## Simulation of the model without any constraint\n",
    "\n",
    "Fixed values are visualized on the model without any constraint. Fixed values will appear in white. This will be used as a reference to see if percolating a value will change anything from this default setting."
   ]
  },
  {
   "cell_type": "code",
   "execution_count": null,
   "metadata": {},
   "outputs": [],
   "source": [
    "# Reduce fixed values\n",
    "lqm_model_fixed_reduced = biolqm.reduce(lqm_model, \":fixed :purge\")\n",
    "show_fixed(gs_model, lqm_model_fixed_reduced, styler_fixed)"
   ]
  },
  {
   "cell_type": "markdown",
   "metadata": {},
   "source": [
    "## Perturbations via bioLQM "
   ]
  },
  {
   "cell_type": "code",
   "execution_count": null,
   "metadata": {},
   "outputs": [],
   "source": [
    "#Set ind to 1\n",
    "mlqm = biolqm.perturbation(lqm_model, \"ind%1\")\n",
    "\n",
    "fixpoints_ind = biolqm.fixpoints(mlqm)\n",
    "tabulate(fixpoints_ind)\n",
    "\n",
    "reduced = biolqm.reduce(mlqm , \"fixed,outputs\")\n"
   ]
  },
  {
   "cell_type": "code",
   "execution_count": null,
   "metadata": {},
   "outputs": [],
   "source": [
    "#Set ind to 0\n",
    "mlqm_ind_0 = biolqm.perturbation(lqm_model, \"ind%0\")\n",
    "\n",
    "fixpoints_ind_0 = biolqm.fixpoints(mlqm_ind_0)\n",
    "\n",
    "reduced_ind_0 = biolqm.reduce(mlqm_ind_0 , \"fixed,outputs\")\n",
    "show_fixed(gs_model, reduced_ind_0 , styler_fixed)"
   ]
  },
  {
   "cell_type": "code",
   "execution_count": null,
   "metadata": {},
   "outputs": [],
   "source": [
    "fixpoints_ind_0 = {'Spi': 0,\n",
    "  'Egfr': 0,\n",
    "  'Rl': 0,\n",
    "  'Aop': 1,\n",
    "  'Pnt': 0,\n",
    "  'ind': 0,\n",
    "  'vnd': 0,\n",
    "  'msh': 1,\n",
    "  'Aos': 0,\n",
    "  'pGro': 0,\n",
    "  'Gro': 1},\n",
    " \n",
    "                  \n",
    "fixpoints_ind_1 = {'Spi': 0,\n",
    "  'Vn': 0,\n",
    "  'Egfr': 0,\n",
    "  'Rl': 0,\n",
    "  'Aop': 1,\n",
    "  'Pnt': 0,\n",
    "  'ind': 1,\n",
    "  'vnd': 0,\n",
    "  'msh': 0,\n",
    "  'Aos': 0,\n",
    "  'pGro': 0,\n",
    "  'Gro': 1}\n",
    "\n",
    "# Display the model\n",
    "ginsim.show(gs_model, fixpoints_ind_1)"
   ]
  },
  {
   "cell_type": "markdown",
   "metadata": {},
   "source": [
    "## Display fixed points"
   ]
  },
  {
   "cell_type": "code",
   "execution_count": null,
   "metadata": {},
   "outputs": [],
   "source": [
    "print(\"Before restriction : Total components : %d, Extra components : %d\" % (len(lqm_model.getComponents()),\n",
    "                                                        len(lqm_model.getExtraComponents())))\n",
    "print(\"After restriction : Total components : %d, Extra components : %d\" % (len(lqm_model_restricted_Spi_1.getComponents()),\n",
    "                                                        len(lqm_model_restricted_Spi_1.getExtraComponents())))\n",
    "#biolqm.fixpoints(lqm_model_restricted_Spi_1, \"extra\")"
   ]
  },
  {
   "cell_type": "code",
   "execution_count": null,
   "metadata": {},
   "outputs": [],
   "source": [
    "# Percolate a value of 0 for vnd\n",
    "lqm_model_restricted_vnd_0 = restrict_model(lqm_model, vnd=0)\n",
    "show_fixed(gs_model, lqm_model_restricted_vnd_0, styler_fixed)"
   ]
  },
  {
   "cell_type": "code",
   "execution_count": 34,
   "metadata": {},
   "outputs": [
    {
     "ename": "NameError",
     "evalue": "name 'restrict_model' is not defined",
     "output_type": "error",
     "traceback": [
      "\u001b[0;31m\u001b[0m",
      "\u001b[0;31mNameError\u001b[0mTraceback (most recent call last)",
      "\u001b[0;32m<ipython-input-34-fbd1db58374f>\u001b[0m in \u001b[0;36m<module>\u001b[0;34m\u001b[0m\n\u001b[1;32m      1\u001b[0m \u001b[0;31m# Percolate a value of 1 for vnd\u001b[0m\u001b[0;34m\u001b[0m\u001b[0;34m\u001b[0m\u001b[0;34m\u001b[0m\u001b[0m\n\u001b[0;32m----> 2\u001b[0;31m \u001b[0mlqm_model_restricted_vnd_1\u001b[0m \u001b[0;34m=\u001b[0m \u001b[0mrestrict_model\u001b[0m\u001b[0;34m(\u001b[0m\u001b[0mlqm_model\u001b[0m\u001b[0;34m,\u001b[0m \u001b[0mvnd\u001b[0m\u001b[0;34m=\u001b[0m\u001b[0;36m1\u001b[0m\u001b[0;34m)\u001b[0m\u001b[0;34m\u001b[0m\u001b[0;34m\u001b[0m\u001b[0m\n\u001b[0m\u001b[1;32m      3\u001b[0m \u001b[0mshow_fixed\u001b[0m\u001b[0;34m(\u001b[0m\u001b[0mgs_model\u001b[0m\u001b[0;34m,\u001b[0m \u001b[0mlqm_model_restricted_vnd_1\u001b[0m\u001b[0;34m,\u001b[0m \u001b[0mstyler_fixed\u001b[0m\u001b[0;34m,\u001b[0m \u001b[0msave\u001b[0m\u001b[0;34m=\u001b[0m\u001b[0;34m\"figure_percolation_vnd_1\"\u001b[0m\u001b[0;34m)\u001b[0m\u001b[0;34m\u001b[0m\u001b[0;34m\u001b[0m\u001b[0m\n",
      "\u001b[0;31mNameError\u001b[0m: name 'restrict_model' is not defined"
     ]
    }
   ],
   "source": [
    "# Percolate a value of 1 for vnd\n",
    "lqm_model_restricted_vnd_1 = restrict_model(lqm_model, vnd=1)\n",
    "show_fixed(gs_model, lqm_model_restricted_vnd_1, styler_fixed, save=\"figure_percolation_vnd_1\")"
   ]
  },
  {
   "cell_type": "code",
   "execution_count": null,
   "metadata": {},
   "outputs": [],
   "source": [
    "show_fixed_comparison(gs_model, lqm_model_restricted_vnd_0, lqm_model_restricted_vnd_1, styler_comp, save=\"figure_percolation_vnd\")"
   ]
  },
  {
   "cell_type": "markdown",
   "metadata": {},
   "source": [
    "## Assessing the probabilities to reach alternative attractors using MaBoSS\n",
    "\n",
    "MaBoSS (Stoll et al., 2017) is a C++ software enabling the stochastic simulation of Boolean networks by translating them into continuous time Markov processes. Each node activation and inactivation is associated with an up and a down rate, which specify the propensity of the corresponding transitions. From a given state, the simulation integrates all the possible node updates and derives a probability and a duration for each transition. By default, all transitions are assigned the same rate. For a given set of initial conditions, MaBoSS produces time trajectories and estimates probabilities of model states over the whole simulation time. Steady state distributions can thus be approximated, provided that a sufficient number of sufficiently long simulations have been performed.\n",
    "\n",
    "The aim of this section is to reproduce part of the results obtained by Cohen et al. (2015), which show that a Notch (NICD) gain-of-function together with a p53 loss-of-function prevent reaching a stable apoptotic phenotype.\n",
    "\n",
    "First, we convert the bioLQM model to MaBoSS:"
   ]
  },
  {
   "cell_type": "code",
   "execution_count": null,
   "metadata": {},
   "outputs": [],
   "source": [
    "wt_sim = biolqm.to_maboss(lqm2)"
   ]
  },
  {
   "cell_type": "code",
   "execution_count": null,
   "metadata": {},
   "outputs": [],
   "source": [
    "#maboss.wg_set_istate(wt_sim)\n",
    "maboss.set_nodes_istate(wt_sim, [\"Wg\", \"Egfr\"], [0.5, 0.5])"
   ]
  },
  {
   "cell_type": "code",
   "execution_count": null,
   "metadata": {},
   "outputs": [],
   "source": [
    "#maboss.wg_set_output(wt_sim)\n",
    "wt_sim.network.set_output(('NB7_4', 'NB5_2'))"
   ]
  },
  {
   "cell_type": "code",
   "execution_count": null,
   "metadata": {},
   "outputs": [],
   "source": [
    "wt_sim.update_parameters(discrete_time=0, use_physrandgen=0,\n",
    "        seed_pseudorandom=100, sample_count=50000,\n",
    "        max_time=75, time_tick=0.1, thread_count=4,\n",
    "        statdist_traj_count=100, statdist_cluster_threshold=0.9)"
   ]
  },
  {
   "cell_type": "code",
   "execution_count": null,
   "metadata": {},
   "outputs": [],
   "source": [
    "%time wt_results = wt_sim.run()"
   ]
  },
  {
   "cell_type": "code",
   "execution_count": null,
   "metadata": {},
   "outputs": [],
   "source": [
    "wt_results.plot_piechart()"
   ]
  },
  {
   "cell_type": "code",
   "execution_count": null,
   "metadata": {},
   "outputs": [],
   "source": [
    "wt_results.plot_node_trajectory(until=40)"
   ]
  },
  {
   "cell_type": "code",
   "execution_count": null,
   "metadata": {},
   "outputs": [],
   "source": [
    "mut_sim = wt_sim.copy()\n",
    "mut_sim.mutate(\"pGro\", \"OFF\")"
   ]
  },
  {
   "cell_type": "code",
   "execution_count": null,
   "metadata": {},
   "outputs": [],
   "source": [
    "%time mut_results = mut_sim.run()"
   ]
  },
  {
   "cell_type": "code",
   "execution_count": null,
   "metadata": {},
   "outputs": [],
   "source": [
    "mut_results.plot_piechart()"
   ]
  },
  {
   "cell_type": "code",
   "execution_count": null,
   "metadata": {},
   "outputs": [],
   "source": []
  }
 ],
 "metadata": {
  "kernelspec": {
   "display_name": "Python 3",
   "language": "python",
   "name": "python3"
  },
  "language_info": {
   "codemirror_mode": {
    "name": "ipython",
    "version": 3
   },
   "file_extension": ".py",
   "mimetype": "text/x-python",
   "name": "python",
   "nbconvert_exporter": "python",
   "pygments_lexer": "ipython3",
   "version": "3.9.1"
  }
 },
 "nbformat": 4,
 "nbformat_minor": 2
}
