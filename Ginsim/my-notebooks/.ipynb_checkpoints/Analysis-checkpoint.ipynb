{
 "cells": [
  {
   "cell_type": "markdown",
   "id": "differential-happiness",
   "metadata": {},
   "source": [
    "# Purtubation analysis "
   ]
  },
  {
   "cell_type": "code",
   "execution_count": 1,
   "id": "peaceful-reservoir",
   "metadata": {},
   "outputs": [
    {
     "data": {
      "text/markdown": [
       "This notebook has been executed using the docker image `colomoto/colomoto-docker:2021-10-01`"
      ],
      "text/plain": [
       "<IPython.core.display.Markdown object>"
      ]
     },
     "metadata": {},
     "output_type": "display_data"
    }
   ],
   "source": [
    "import biolqm\n",
    "import ginsim\n",
    "import pandas as pd\n",
    "import numpy as np\n",
    "from colomoto_jupyter import tabulate\n",
    "import re"
   ]
  },
  {
   "cell_type": "code",
   "execution_count": 2,
   "id": "growing-trainer",
   "metadata": {},
   "outputs": [],
   "source": [
    "mod = ginsim.load(\"21-06-08BTKfixed.zginml\")"
   ]
  },
  {
   "cell_type": "code",
   "execution_count": 3,
   "id": "breeding-celebrity",
   "metadata": {
    "scrolled": false
   },
   "outputs": [
    {
     "data": {
      "text/html": [
       "<img class=\"unconfined\" width=\"722px\" src=\"data:image/svg+xml;base64,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\">"
      ],
      "text/plain": [
       "<IPython.core.display.HTML object>"
      ]
     },
     "execution_count": 3,
     "metadata": {},
     "output_type": "execute_result"
    }
   ],
   "source": [
    "ginsim.show(mod)"
   ]
  },
  {
   "cell_type": "code",
   "execution_count": 4,
   "id": "planned-spare",
   "metadata": {},
   "outputs": [],
   "source": [
    "lqm = ginsim.to_biolqm(mod)"
   ]
  },
  {
   "cell_type": "markdown",
   "id": "wired-answer",
   "metadata": {},
   "source": [
    "## Identification of stable states"
   ]
  },
  {
   "cell_type": "code",
   "execution_count": 5,
   "id": "flush-titanium",
   "metadata": {
    "scrolled": true
   },
   "outputs": [
    {
     "name": "stdout",
     "output_type": "stream",
     "text": [
      "8 fixpoints\n"
     ]
    }
   ],
   "source": [
    "fps = biolqm.fixpoints(lqm)\n",
    "print(len(fps), \"fixpoints\")"
   ]
  },
  {
   "cell_type": "code",
   "execution_count": 6,
   "id": "institutional-insight",
   "metadata": {
    "scrolled": true
   },
   "outputs": [],
   "source": [
    "tfps = tabulate(fps)"
   ]
  },
  {
   "cell_type": "markdown",
   "id": "round-cameroon",
   "metadata": {},
   "source": [
    "## Model perturbation"
   ]
  },
  {
   "cell_type": "markdown",
   "id": "rubber-membership",
   "metadata": {},
   "source": [
    "the biolqm.perturbation function enables the construction of a variant of the model, where the logical function of one (or several) component has been modified. A textual parameter describes the modification:\n",
    "\n",
    "    component%0 defines a knockout of a component\n",
    "    component%1 defines an ectopic expression\n",
    "    component%1:2 restricts the range of values for multi-valued components\n",
    "    regulator:component%0 allows to remove a regulator\n"
   ]
  },
  {
   "cell_type": "markdown",
   "id": "saving-croatia",
   "metadata": {},
   "source": [
    "Lists of perturbations are comma-separated. Here we show the effect of the ectopic expression of each `CycD` and `Rb`. \n",
    "> pert = biolqm.perturbation(lqm, \"CycD%1,Rb%1\")"
   ]
  },
  {
   "cell_type": "markdown",
   "id": "plastic-craft",
   "metadata": {},
   "source": [
    "Multiple perturbations are space-separated. Here we show the effect of the ectopic expression of both `CycD` and `Rb`. \n",
    "> pert = biolqm.perturbation(lqm, \"CycD%1 Rb%1\")"
   ]
  },
  {
   "cell_type": "markdown",
   "id": "representative-dominant",
   "metadata": {},
   "source": [
    "### Load file as vector of pertubations from text file"
   ]
  },
  {
   "cell_type": "markdown",
   "id": "amino-offering",
   "metadata": {},
   "source": [
    "alter = np.loadtxt(\"muts.txt\", dtype=str)\n",
    "print(alter)\n",
    "type(alter)"
   ]
  },
  {
   "cell_type": "markdown",
   "id": "formed-shareware",
   "metadata": {},
   "source": [
    "alter = [re.sub(\";\", \" \", elem) for elem in alter]\n",
    "print(alter)"
   ]
  },
  {
   "cell_type": "markdown",
   "id": "hungarian-reservoir",
   "metadata": {},
   "source": [
    "pert = biolqm.perturbation(lqm, alter[0])"
   ]
  },
  {
   "cell_type": "markdown",
   "id": "israeli-coach",
   "metadata": {},
   "source": [
    "pfps = biolqm.fixpoints(pert)\n",
    "pfpst = tabulate(pfps)\n",
    "pfpst['ID']=1"
   ]
  },
  {
   "cell_type": "markdown",
   "id": "incredible-production",
   "metadata": {},
   "source": [
    "# Print fixpoints to file and loop over multiple perturbations"
   ]
  },
  {
   "cell_type": "code",
   "execution_count": 7,
   "id": "clear-boulder",
   "metadata": {},
   "outputs": [],
   "source": [
    "#ginsim-data file includes mutations\n",
    "with open('ginsim-data.txt') as fp:\n",
    "    mydata = fp.read().splitlines() \n",
    "mydata = np.asarray(mydata)"
   ]
  },
  {
   "cell_type": "code",
   "execution_count": 8,
   "id": "champion-rachel",
   "metadata": {
    "scrolled": true
   },
   "outputs": [],
   "source": [
    "attractors=[]\n",
    "for index,item in enumerate(mydata):\n",
    "    pert = biolqm.perturbation(lqm, item)\n",
    "    pfps = biolqm.fixpoints(pert)\n",
    "    pfpst = tabulate(pfps)\n",
    "    pfpst['ID']=index\n",
    "    attractors.append(pfpst)\n"
   ]
  },
  {
   "cell_type": "code",
   "execution_count": 9,
   "id": "dominant-consumption",
   "metadata": {},
   "outputs": [],
   "source": [
    "final = pd.concat(attractors)"
   ]
  },
  {
   "cell_type": "code",
   "execution_count": 10,
   "id": "rocky-inventory",
   "metadata": {},
   "outputs": [],
   "source": [
    "#final.to_csv('21-05-25-attractorsout.csv', index=False)  \n",
    "#with open(\"attractors.txt\", \"w\") as outfile:\n",
    "#    outfile.write(\"\\n\".join(str(item) for item in attractors))"
   ]
  },
  {
   "cell_type": "code",
   "execution_count": 11,
   "id": "interpreted-roads",
   "metadata": {},
   "outputs": [],
   "source": [
    "#WT = pd.concat(tfps)\n",
    "tfps.to_csv('WTout.csv', index=False)  \n"
   ]
  },
  {
   "cell_type": "markdown",
   "id": "jewish-strike",
   "metadata": {},
   "source": [
    "# Repeat analysis for different inhibitors"
   ]
  },
  {
   "cell_type": "code",
   "execution_count": 12,
   "id": "false-financing",
   "metadata": {},
   "outputs": [],
   "source": [
    "with open('ginsim-inh.txt') as fp:\n",
    "    inh = fp.read().splitlines() \n",
    "inh = np.asarray(inh)"
   ]
  },
  {
   "cell_type": "code",
   "execution_count": 13,
   "id": "increased-imaging",
   "metadata": {},
   "outputs": [],
   "source": [
    "for index1, item1 in enumerate(inh):\n",
    "    attractors=[]\n",
    "    for index,item in enumerate(mydata):\n",
    "        vari = str(item) +\" \"+ str(item1)\n",
    "        pert = biolqm.perturbation(lqm, vari)\n",
    "        pfps = biolqm.fixpoints(pert)\n",
    "        pfpst = tabulate(pfps)\n",
    "        pfpst['ID']=index\n",
    "        attractors.append(pfpst)\n",
    "    final = pd.concat(attractors)\n",
    "    final.to_csv('Attractorsout{}.csv'.format(index1), index=False)  \n"
   ]
  },
  {
   "cell_type": "code",
   "execution_count": 15,
   "id": "occasional-implementation",
   "metadata": {},
   "outputs": [
    {
     "data": {
      "text/plain": [
       "array(['', 'TRAF6%1 Syk%1 TRAF6%1', 'Erk%1',\n",
       "       'cMyc%1 cMyc%1 BCL2%1 BCL2%1 BCL6%1 Blimp1%0 BCL2%1 Blimp1%0',\n",
       "       'BCL6%1 TRAF6%1', 'BCL6%1 BCL6%1 BCL6%1', 'BCR%1',\n",
       "       'CBM%1 BCL6%1 CBM%1 BCL6%1', 'BCL6%1 RelA_p50%2 IRF4%2 RelA_p50%0',\n",
       "       'BCR%1 cMyc%1 cMyc%1 cMyc%1 CBM%1 BCL2%1 Blimp1%0 NEMO_IKK%2',\n",
       "       'BCL2%1 Blimp1%0 RelA_p50%2 CBM%1', 'TRAF6%1',\n",
       "       'cMyc%1 Blimp1%0 BCL2%1 PI3K%1 BCL6%1 BCL6%1',\n",
       "       'BCL6%1 BCL2%1 STAT%1 BCL6%1 RelA_p50%2',\n",
       "       'BCR%1 CBM%1 CBM%1 BCL2%1', 'TRAF6%1 CBM%1',\n",
       "       'BCL6%1 STAT%1 RelA_p50%2',\n",
       "       'RelA_p50%2 STAT%1 RelA_p50%2 RelA_p50%2',\n",
       "       'TRAF6%1 BCR%1 CBM%1 BCL2%1', 'BCL2%1 BCL6%1', 'BCR%1',\n",
       "       'BCL2%1 Blimp1%0 STAT%1', 'BCL2%1 BCL6%1', 'BCL6%1 BCL6%1 BCL2%1',\n",
       "       'CBM%1 CBM%1 RAF%1', 'CBM%1 BCL6%1 BCR%1', 'STAT%1 RelA_p50%2',\n",
       "       'BCR%1 TRAF6%1 BCL6%1',\n",
       "       'BCL2%1 BCL2%1 STAT%1 CBM%1 Blimp1%0 RAF%1',\n",
       "       'Blimp1%0 BCL2%1 RAF%1 BCL6%1 BCL6%1 BCL6%1 BCL6%1',\n",
       "       'TRAF6%1 RelA_p50%2', 'CBM%1',\n",
       "       'RelA_p50%2 BCL6%1 BCL2%1 RelA_p50%2 CBM%1', 'cMyc%1 RelA_p50%2',\n",
       "       'BCL6%1 BCL2%1 BCL2%1 BCL2%1 BCL2%1 Blimp1%0 BCL2%1 BCL6%1',\n",
       "       'BCL6%1 CBM%1 RAF%1 BCL2%1 Erk%1 BCL6%1 BCL2%1',\n",
       "       'CBM%1 CBM%1 RelA_p50%2', 'Erk%1 BCL6%1', 'BCL6%1 TRAF6%1',\n",
       "       'BCL6%1 CBM%1', 'BCR%1', 'BCL2%1 cMyc%1 BCL2%1 CBM%1', 'RAF%1',\n",
       "       'BCL6%1 BCL6%1 BCL6%1', 'NEMO_IKK%2', 'BCL6%1 BCL6%1 NEMO_IKK%2',\n",
       "       'BCL2%1 BCL2%1 CBM%1 BCL2%1 BCL6%1 PI3K%1 BCL2%1 BCL2%1 NEMO_IKK%2 RelA_p50%2',\n",
       "       'BCL6%1', 'BCL2%1 STAT%1 TRAF6%1 BCL2%1 BCL2%1 BCL6%1',\n",
       "       'cMyc%1 cMyc%1 cMyc%1 BCL6%1 cMyc%1 BCL6%1 BCL2%1 BCL2%1',\n",
       "       'BCL2%1 CBM%1 Blimp1%0 BCL2%1 CBM%1', 'Blimp1%0 CBM%1',\n",
       "       'BCL2%1 Erk%1 Blimp1%0 BCL6%1', 'RelA_p50%2',\n",
       "       'Erk%1 Blimp1%0 BCL6%1 BCL6%1 CBM%1 PI3K%1 BCL6%1 RelA_p50%2',\n",
       "       'cMyc%1 Blimp1%0', 'CBM%1', 'BCL6%1 BCL2%1 IRF4%2 RelA_p50%0',\n",
       "       'RelA_p50%2 RelA_p50%2', 'CBM%1 TRAF6%1 CBM%1 CBM%1 BCL2%1',\n",
       "       'CBM%1 BCL6%1 STAT%1 BCR%1',\n",
       "       'BCR%1 BCL6%1 TRAF6%1 PI3K%1 BCL6%1 CBM%1 BCL2%1', 'Blimp1%0',\n",
       "       'BCL6%1', 'BCL2%1 STAT%1 BCL2%1 BCL6%1', 'TRAF6%1',\n",
       "       'BCL6%1 BCL2%1 BCL2%1 RelA_p50%2', 'BCL6%1 TRAF6%1 CBM%1 BCL2%1',\n",
       "       'BCL6%1 BCL2%1 RelA_p50%2 Blimp1%0 RAF%1 RAF%1 BCL6%1 TRAF6%1 BCL2%0 RelA_p50%2',\n",
       "       'BCL2%1 CBM%1 BCL2%1 BCL6%1 BCL6%1 BCL6%1 RelA_p50%2 CBM%1 BCL2%1',\n",
       "       'TRAF6%1 PI3K%1 BCL2%1',\n",
       "       'TRAF6%1 BCL6%1 BCL6%1 TRAF6%1 TRAF6%1 CBM%1 BCL2%1', 'RAF%1',\n",
       "       'Blimp1%0 TRAF6%1', 'TRAF6%1 CBM%1 BCL2%1 CBM%1',\n",
       "       'CBM%1 BCR%1 CBM%1 BCR%1 BCL2%1 TRAF6%1 NEMO_IKK%2', 'BCL6%1',\n",
       "       'BCR%1 PI3K%1 Blimp1%0 TRAF6%1 TRAF6%1 PI3K%1 BCL6%1',\n",
       "       'BCL6%1 cMyc%1 cMyc%1 BCR%1 BCL2%1 BCL6%1 cMyc%1 BCL6%1',\n",
       "       'BCL6%1 BCL2%1 BCL2%1 BCL2%1 BCL2%1', 'CBM%1 TRAF6%1',\n",
       "       'BCL6%1 RelA_p50%2',\n",
       "       'BCL6%1 BCL2%1 BCL6%1 BCL6%1 BCL2%1 BCL2%1 RelA_p50%2 IRF4%2 RelA_p50%0',\n",
       "       'CBM%1', 'STAT%1 RelA_p50%2 RelA_p50%2', 'Erk%1', 'RAF%1',\n",
       "       'BCL6%1 BCL6%1 BCL2%1 BCL2%1 BCL6%1', 'BCL6%1 BCL2%1 NEMO_IKK%2',\n",
       "       'BCR%1 Blimp1%0 TRAF6%1 RelA_p50%0 Blimp1%0 RelA_p50%0 BCR%1',\n",
       "       'TRAF6%1 BCR%1',\n",
       "       'Blimp1%0 PI3K%1 BCL6%1 CBM%1 BCL2%1 RelA_p50%0 Blimp1%0 RelA_p50%0 BCR%1',\n",
       "       'Blimp1%0 CBM%1 NEMO_IKK%2', 'cMyc%1 cMyc%1 cMyc%1 cMyc%1 cMyc%1',\n",
       "       'BCL6%1 BCR%1',\n",
       "       'BCL6%1 BCL2%1 RelA_p50%2 RelA_p50%2 BCL6%1 RelA_p50%2 BCL2%1 RelA_p50%2 CBM%1',\n",
       "       'BCR%1 CBM%1 TRAF6%1', 'Blimp1%0 RelA_p50%2', 'BCR%1 TRAF6%1',\n",
       "       'Blimp1%0 CBM%1 BCL2%1 TRAF6%1 TRAF6%1 PI3K%1 BCL6%1',\n",
       "       'Blimp1%0 Blimp1%0', 'TRAF6%1 BCR%1 BCL6%1', 'BCR%1',\n",
       "       'BCL6%1 BCR%1 TRAF6%1', 'STAT%1', 'BCL6%1 RAF%1 STAT%1',\n",
       "       'TRAF6%1 NEMO_IKK%2 CBM%1 BCL6%1', 'BCR%1 TRAF6%1', 'BCL2%1',\n",
       "       'BCL2%1', 'NEMO_IKK%2', 'NEMO_IKK%2', 'RelA_p50%2 Syk%1 TRAF6%1',\n",
       "       'RelA_p50%2', 'RelA_p50%2',\n",
       "       'RelA_p50%2 BCL2%1 TRAF6%1 NEMO_IKK%2 CBM%1 Blimp1%0 RAF%1',\n",
       "       'RelA_p50%2', 'RelA_p50%2', 'RelA_p50%2', 'RelA_p50%2',\n",
       "       'RelA_p50%2', 'RelA_p50%2 CBM%1 BCL2%1', 'RelA_p50%2',\n",
       "       'RelA_p50%2', 'RelA_p50%2 Blimp1%0 RAF%1',\n",
       "       'RelA_p50%2 CBM%1 BCL2%1', 'RelA_p50%2',\n",
       "       'RelA_p50%2 CBM%1 Blimp1%0 RAF%1', 'RelA_p50%2', 'RelA_p50%2',\n",
       "       'RelA_p50%2', 'RelA_p50%2', 'RelA_p50%2 CBM%1 BCL2%1',\n",
       "       'RelA_p50%2', 'RelA_p50%2', 'CBM%1 BCL2%1', 'CBM%1 BCL2%1 CBM%1',\n",
       "       'CBM%1 BCL2%1', 'CBM%1 BCL2%1',\n",
       "       'BCL2%1 TRAF6%1 NEMO_IKK%2 CBM%1 Blimp1%0 RAF%1',\n",
       "       'TRAF6%1 TRAF6%1 PI3K%1 BCL6%1 CBM%1 BCL2%1',\n",
       "       'TRAF6%1 TRAF6%1 PI3K%1 BCL6%1 CBM%1 BCL2%1', 'PI3K%1 BCL6%1',\n",
       "       'PI3K%1 BCL6%1 CBM%1 BCL2%1', 'PI3K%1 BCL6%1', 'PI3K%1 BCL6%1',\n",
       "       'IRF4%2 RelA_p50%0', 'IRF4%2 RelA_p50%0 CBM%1', 'CBM%1',\n",
       "       'CBM%1 Blimp1%0 RAF%1', 'Syk%1 TRAF6%1',\n",
       "       'RAF%1 BCL6%1 TRAF6%1 BCL2%0 RelA_p50%2',\n",
       "       'RAF%1 BCL6%1 TRAF6%1 BCL2%0 RelA_p50%2',\n",
       "       'RAF%1 BCL6%1 TRAF6%1 BCL2%0 RelA_p50%2 CBM%1 BCL2%1',\n",
       "       'CBM%1 BCL2%1', 'CBM%1 BCL2%1', 'CBM%1 BCL2%1', 'CBM%1 BCL2%1',\n",
       "       'CBM%1 BCL2%1', 'CBM%1 BCL2%1', 'CBM%1 BCL2%1', 'CBM%1 BCL2%1',\n",
       "       'CBM%1 BCL2%1', 'RelA_p50%0 Blimp1%0 RelA_p50%0 BCR%1',\n",
       "       'RelA_p50%0 Blimp1%0 RelA_p50%0 BCR%1'], dtype='<U78')"
      ]
     },
     "execution_count": 15,
     "metadata": {},
     "output_type": "execute_result"
    }
   ],
   "source": [
    "mydata"
   ]
  },
  {
   "cell_type": "code",
   "execution_count": null,
   "id": "coordinated-purpose",
   "metadata": {},
   "outputs": [],
   "source": []
  }
 ],
 "metadata": {
  "kernelspec": {
   "display_name": "Python 3",
   "language": "python",
   "name": "python3"
  },
  "language_info": {
   "codemirror_mode": {
    "name": "ipython",
    "version": 3
   },
   "file_extension": ".py",
   "mimetype": "text/x-python",
   "name": "python",
   "nbconvert_exporter": "python",
   "pygments_lexer": "ipython3",
   "version": "3.9.1"
  }
 },
 "nbformat": 4,
 "nbformat_minor": 5
}
