{
 "cells": [
  {
   "cell_type": "markdown",
   "metadata": {},
   "source": [
    "## Logical modeling of neuroectoderm specification in fruit flies\n",
    "\n",
    "Egfr signaling is one of the signaling networks regulating fruit fly neuroectoderm development. Given the complexity of signaling networks as well as the amount of information to be integrated, a logical model of Egfr signaling will provide a better understanding of how developmental signals combine to control cellular states.\n",
    "\n",
    "\n",
    "This project implements CoLoMoTo Interactive Notebook to provide a reprodicible and executable analyses. The workflow used as follows:\n",
    "\n",
    "(1) the importation of a GINsim model and its display, (2) its format conversion using the Java library BioLQM, (3) the formal prediction of mutations using the OCaml software Pint, (4) the model checking using the C++ software NuSMV, (5) quantitative stochastic simulations using the C++ software MaBoSS, and (6) the visualisation of results using the Python library matplotlib. "
   ]
  },
  {
   "cell_type": "markdown",
   "metadata": {},
   "source": [
    "### Visualization of Egfr pathway with GINsim"
   ]
  },
  {
   "cell_type": "code",
   "execution_count": 136,
   "metadata": {},
   "outputs": [],
   "source": [
    "# Set up working environment for CoLoMoTo\n",
    "%matplotlib inline\n",
    "import numpy as np\n",
    "import sys\n",
    "import matplotlib as mpl\n",
    "import matplotlib.pyplot as plt\n",
    "import pandas as pd\n",
    "import numpy as np\n",
    "from pandas import DataFrame\n",
    "import seaborn as sns\n",
    "import re\n",
    "import pprint\n",
    "from collections import Counter\n",
    "#import matplotlib.pyplot as plt\n",
    "import seaborn as sns; sns.set()\n",
    "\n",
    "# Tools necessary to run and perturb the model\n",
    "import ginsim \n",
    "import biolqm\n",
    "import pypint\n",
    "import maboss\n",
    "\n",
    "# Tools necessary to format and plot results of simulations\n",
    "from colomoto_jupyter import tabulate # for fixpoint table display\n",
    "from itertools import combinations # for iterating over sets\n",
    "import matplotlib.pyplot as plt # for modifying plots\n",
    "import pandas as pd # for the visualization of lists of states\n"
   ]
  },
  {
   "cell_type": "markdown",
   "metadata": {},
   "source": [
    "## Import model from github repository\n",
    "\n",
    "Logical model of Egfr signaling can be directly loaded from my github repository at https://github.com/ozlembahar/DevelopmentalSignaling/blob/master/Ginsim/Egfr-core-(p)Gro.zginml."
   ]
  },
  {
   "cell_type": "code",
   "execution_count": 141,
   "metadata": {},
   "outputs": [
    {
     "data": {
      "text/html": [
       "<img class=\"unconfined\" width=\"728px\" src=\"data:image/svg+xml;base64,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\">"
      ],
      "text/plain": [
       "<IPython.core.display.HTML object>"
      ]
     },
     "execution_count": 141,
     "metadata": {},
     "output_type": "execute_result"
    }
   ],
   "source": [
    "#Load the model\n",
    "lrg_ppt = pypint.load(\"markers.zginml\")\n",
    "info_lrg = lrg_ppt.summary()\n",
    "pd.DataFrame([['nb_states',info_lrg['nb_states']],['nb_automata',info_lrg['nb_automata']],['nb_transitions',info_lrg['nb_transitions']]], columns=['Item','Number'])\n",
    "\n",
    "lrg = ginsim.load(\"markers.zginml\")\n",
    "lqm2 = ginsim.to_biolqm(lrg)\n",
    "\n",
    "# Display the regulatory graph as specified in the model file\n",
    "ginsim.show(lrg)"
   ]
  },
  {
   "cell_type": "code",
   "execution_count": 138,
   "metadata": {},
   "outputs": [
    {
     "name": "stdout",
     "output_type": "stream",
     "text": [
      "16 fixpoints found\n"
     ]
    }
   ],
   "source": [
    "# Compute the total number of stable states\n",
    "fps = biolqm.fixpoints(lqm2)\n",
    "print(len(fps), \"fixpoints found\")"
   ]
  },
  {
   "cell_type": "code",
   "execution_count": null,
   "metadata": {},
   "outputs": [],
   "source": []
  },
  {
   "cell_type": "code",
   "execution_count": 144,
   "metadata": {},
   "outputs": [
    {
     "ename": "KeyError",
     "evalue": "'Wg'",
     "output_type": "error",
     "traceback": [
      "\u001b[0;31m\u001b[0m",
      "\u001b[0;31mKeyError\u001b[0mTraceback (most recent call last)",
      "\u001b[0;32m/opt/conda/lib/python3.9/site-packages/pandas/core/indexes/base.py\u001b[0m in \u001b[0;36mget_loc\u001b[0;34m(self, key, method, tolerance)\u001b[0m\n\u001b[1;32m   3079\u001b[0m             \u001b[0;32mtry\u001b[0m\u001b[0;34m:\u001b[0m\u001b[0;34m\u001b[0m\u001b[0;34m\u001b[0m\u001b[0m\n\u001b[0;32m-> 3080\u001b[0;31m                 \u001b[0;32mreturn\u001b[0m \u001b[0mself\u001b[0m\u001b[0;34m.\u001b[0m\u001b[0m_engine\u001b[0m\u001b[0;34m.\u001b[0m\u001b[0mget_loc\u001b[0m\u001b[0;34m(\u001b[0m\u001b[0mcasted_key\u001b[0m\u001b[0;34m)\u001b[0m\u001b[0;34m\u001b[0m\u001b[0;34m\u001b[0m\u001b[0m\n\u001b[0m\u001b[1;32m   3081\u001b[0m             \u001b[0;32mexcept\u001b[0m \u001b[0mKeyError\u001b[0m \u001b[0;32mas\u001b[0m \u001b[0merr\u001b[0m\u001b[0;34m:\u001b[0m\u001b[0;34m\u001b[0m\u001b[0;34m\u001b[0m\u001b[0m\n",
      "\u001b[0;32mpandas/_libs/index.pyx\u001b[0m in \u001b[0;36mpandas._libs.index.IndexEngine.get_loc\u001b[0;34m()\u001b[0m\n",
      "\u001b[0;32mpandas/_libs/index.pyx\u001b[0m in \u001b[0;36mpandas._libs.index.IndexEngine.get_loc\u001b[0;34m()\u001b[0m\n",
      "\u001b[0;32mpandas/_libs/hashtable_class_helper.pxi\u001b[0m in \u001b[0;36mpandas._libs.hashtable.PyObjectHashTable.get_item\u001b[0;34m()\u001b[0m\n",
      "\u001b[0;32mpandas/_libs/hashtable_class_helper.pxi\u001b[0m in \u001b[0;36mpandas._libs.hashtable.PyObjectHashTable.get_item\u001b[0;34m()\u001b[0m\n",
      "\u001b[0;31mKeyError\u001b[0m: 'Wg'",
      "\nThe above exception was the direct cause of the following exception:\n",
      "\u001b[0;31mKeyError\u001b[0mTraceback (most recent call last)",
      "\u001b[0;32m<ipython-input-144-1df0e9f48777>\u001b[0m in \u001b[0;36m<module>\u001b[0;34m\u001b[0m\n\u001b[1;32m      2\u001b[0m \u001b[0mfps_pd\u001b[0m \u001b[0;34m=\u001b[0m \u001b[0mpd\u001b[0m\u001b[0;34m.\u001b[0m\u001b[0mDataFrame\u001b[0m\u001b[0;34m(\u001b[0m\u001b[0mfps\u001b[0m\u001b[0;34m)\u001b[0m\u001b[0;34m\u001b[0m\u001b[0;34m\u001b[0m\u001b[0m\n\u001b[1;32m      3\u001b[0m \u001b[0mfps_pd\u001b[0m \u001b[0;34m=\u001b[0m \u001b[0mfps_pd\u001b[0m\u001b[0;34m.\u001b[0m\u001b[0miloc\u001b[0m\u001b[0;34m[\u001b[0m\u001b[0;34m:\u001b[0m\u001b[0;34m,\u001b[0m\u001b[0;36m0\u001b[0m\u001b[0;34m:\u001b[0m\u001b[0;36m2\u001b[0m\u001b[0;34m]\u001b[0m\u001b[0;34m\u001b[0m\u001b[0;34m\u001b[0m\u001b[0m\n\u001b[0;32m----> 4\u001b[0;31m \u001b[0mfps_pd\u001b[0m\u001b[0;34m[\u001b[0m\u001b[0;34m\"input_list\"\u001b[0m\u001b[0;34m]\u001b[0m \u001b[0;34m=\u001b[0m \u001b[0mfps_pd\u001b[0m\u001b[0;34m[\u001b[0m\u001b[0;34m'Hh'\u001b[0m\u001b[0;34m]\u001b[0m\u001b[0;34m.\u001b[0m\u001b[0mastype\u001b[0m\u001b[0;34m(\u001b[0m\u001b[0mstr\u001b[0m\u001b[0;34m)\u001b[0m \u001b[0;34m+\u001b[0m \u001b[0mfps_pd\u001b[0m\u001b[0;34m[\u001b[0m\u001b[0;34m'Wg'\u001b[0m\u001b[0;34m]\u001b[0m\u001b[0;34m.\u001b[0m\u001b[0mastype\u001b[0m\u001b[0;34m(\u001b[0m\u001b[0mstr\u001b[0m\u001b[0;34m)\u001b[0m \u001b[0;34m+\u001b[0m \u001b[0mfps_pd\u001b[0m\u001b[0;34m[\u001b[0m\u001b[0;34m'Egfr'\u001b[0m\u001b[0;34m]\u001b[0m\u001b[0;34m.\u001b[0m\u001b[0mastype\u001b[0m\u001b[0;34m(\u001b[0m\u001b[0mstr\u001b[0m\u001b[0;34m)\u001b[0m\u001b[0;34m\u001b[0m\u001b[0;34m\u001b[0m\u001b[0m\n\u001b[0m\u001b[1;32m      5\u001b[0m \u001b[0;34m\u001b[0m\u001b[0m\n\u001b[1;32m      6\u001b[0m \u001b[0;34m\u001b[0m\u001b[0m\n",
      "\u001b[0;32m/opt/conda/lib/python3.9/site-packages/pandas/core/frame.py\u001b[0m in \u001b[0;36m__getitem__\u001b[0;34m(self, key)\u001b[0m\n\u001b[1;32m   3022\u001b[0m             \u001b[0;32mif\u001b[0m \u001b[0mself\u001b[0m\u001b[0;34m.\u001b[0m\u001b[0mcolumns\u001b[0m\u001b[0;34m.\u001b[0m\u001b[0mnlevels\u001b[0m \u001b[0;34m>\u001b[0m \u001b[0;36m1\u001b[0m\u001b[0;34m:\u001b[0m\u001b[0;34m\u001b[0m\u001b[0;34m\u001b[0m\u001b[0m\n\u001b[1;32m   3023\u001b[0m                 \u001b[0;32mreturn\u001b[0m \u001b[0mself\u001b[0m\u001b[0;34m.\u001b[0m\u001b[0m_getitem_multilevel\u001b[0m\u001b[0;34m(\u001b[0m\u001b[0mkey\u001b[0m\u001b[0;34m)\u001b[0m\u001b[0;34m\u001b[0m\u001b[0;34m\u001b[0m\u001b[0m\n\u001b[0;32m-> 3024\u001b[0;31m             \u001b[0mindexer\u001b[0m \u001b[0;34m=\u001b[0m \u001b[0mself\u001b[0m\u001b[0;34m.\u001b[0m\u001b[0mcolumns\u001b[0m\u001b[0;34m.\u001b[0m\u001b[0mget_loc\u001b[0m\u001b[0;34m(\u001b[0m\u001b[0mkey\u001b[0m\u001b[0;34m)\u001b[0m\u001b[0;34m\u001b[0m\u001b[0;34m\u001b[0m\u001b[0m\n\u001b[0m\u001b[1;32m   3025\u001b[0m             \u001b[0;32mif\u001b[0m \u001b[0mis_integer\u001b[0m\u001b[0;34m(\u001b[0m\u001b[0mindexer\u001b[0m\u001b[0;34m)\u001b[0m\u001b[0;34m:\u001b[0m\u001b[0;34m\u001b[0m\u001b[0;34m\u001b[0m\u001b[0m\n\u001b[1;32m   3026\u001b[0m                 \u001b[0mindexer\u001b[0m \u001b[0;34m=\u001b[0m \u001b[0;34m[\u001b[0m\u001b[0mindexer\u001b[0m\u001b[0;34m]\u001b[0m\u001b[0;34m\u001b[0m\u001b[0;34m\u001b[0m\u001b[0m\n",
      "\u001b[0;32m/opt/conda/lib/python3.9/site-packages/pandas/core/indexes/base.py\u001b[0m in \u001b[0;36mget_loc\u001b[0;34m(self, key, method, tolerance)\u001b[0m\n\u001b[1;32m   3080\u001b[0m                 \u001b[0;32mreturn\u001b[0m \u001b[0mself\u001b[0m\u001b[0;34m.\u001b[0m\u001b[0m_engine\u001b[0m\u001b[0;34m.\u001b[0m\u001b[0mget_loc\u001b[0m\u001b[0;34m(\u001b[0m\u001b[0mcasted_key\u001b[0m\u001b[0;34m)\u001b[0m\u001b[0;34m\u001b[0m\u001b[0;34m\u001b[0m\u001b[0m\n\u001b[1;32m   3081\u001b[0m             \u001b[0;32mexcept\u001b[0m \u001b[0mKeyError\u001b[0m \u001b[0;32mas\u001b[0m \u001b[0merr\u001b[0m\u001b[0;34m:\u001b[0m\u001b[0;34m\u001b[0m\u001b[0;34m\u001b[0m\u001b[0m\n\u001b[0;32m-> 3082\u001b[0;31m                 \u001b[0;32mraise\u001b[0m \u001b[0mKeyError\u001b[0m\u001b[0;34m(\u001b[0m\u001b[0mkey\u001b[0m\u001b[0;34m)\u001b[0m \u001b[0;32mfrom\u001b[0m \u001b[0merr\u001b[0m\u001b[0;34m\u001b[0m\u001b[0;34m\u001b[0m\u001b[0m\n\u001b[0m\u001b[1;32m   3083\u001b[0m \u001b[0;34m\u001b[0m\u001b[0m\n\u001b[1;32m   3084\u001b[0m         \u001b[0;32mif\u001b[0m \u001b[0mtolerance\u001b[0m \u001b[0;32mis\u001b[0m \u001b[0;32mnot\u001b[0m \u001b[0;32mNone\u001b[0m\u001b[0;34m:\u001b[0m\u001b[0;34m\u001b[0m\u001b[0;34m\u001b[0m\u001b[0m\n",
      "\u001b[0;31mKeyError\u001b[0m: 'Wg'"
     ]
    }
   ],
   "source": [
    "# Find the wild-type stable state\n",
    "fps_pd = pd.DataFrame(fps)\n",
    "fps_pd = fps_pd.iloc[:,0:2]\n",
    "fps_pd[\"input_list\"] = fps_pd['Hh'].astype(str) + fps_pd['Wg'].astype(str) + fps_pd['Egfr'].astype(str)\n",
    "\n",
    "\n",
    "v_index = fps_pd[fps_pd[\"input_list\"] == \"001\"].index.values\n",
    "c_index = fps_pd[fps_pd[\"input_list\"] == \"110\"].index.values\n",
    "d_index = fps_pd[fps_pd[\"input_list\"] == \"111\"].index.values\n",
    "\n",
    "# Ventral stable state\n",
    "ginsim.show(lrg, fps[c_index[0]])"
   ]
  },
  {
   "cell_type": "code",
   "execution_count": null,
   "metadata": {},
   "outputs": [],
   "source": []
  },
  {
   "cell_type": "code",
   "execution_count": null,
   "metadata": {},
   "outputs": [],
   "source": []
  },
  {
   "cell_type": "markdown",
   "metadata": {},
   "source": [
    "In this regulatory graph, green arrows and red T arrows respectively denote activatory and inhibitory interactions. A set of rules combining the vertices with the Boolean operators NOT, AND, and OR, which must be consistent with the regulatory graph, then allows the computation of enabled transitions for each network state."
   ]
  },
  {
   "attachments": {
    "image.png": {
     "image/png": "[encoded data removed]"
    }
   },
   "cell_type": "markdown",
   "metadata": {},
   "source": [
    "## Boolean functions of the Egfr pathway\n",
    "\n",
    "\n",
    "![image.png](attachment:image.png)\n"
   ]
  },
  {
   "cell_type": "markdown",
   "metadata": {},
   "source": [
    "Boolean functions of the each of the 12 components summarized in a table."
   ]
  },
  {
   "cell_type": "markdown",
   "metadata": {},
   "source": [
    "## Helper functions\n",
    "\n",
    "Some helper functions and color mapping rules to perform value propagation and visualize the result."
   ]
  },
  {
   "cell_type": "code",
   "execution_count": null,
   "metadata": {},
   "outputs": [],
   "source": []
  },
  {
   "cell_type": "code",
   "execution_count": 119,
   "metadata": {},
   "outputs": [],
   "source": [
    "# Function 1 : dash_pattern\n",
    "# Transforms a dictionary into a dash-like pattern used for space restrictions.\n",
    "# If a model has 4 components A, B, C, D in this order,\n",
    "#  {A:0, D:1} => \"0--1\"\n",
    "def dash_pattern(model, dict_vals):\n",
    "    specific_comps = dict_vals.keys()\n",
    "    str_pattern = \"\"\n",
    "    for comp in model.getComponents():\n",
    "        if comp.toString() in specific_comps:\n",
    "            str_pattern += str(dict_vals.get(comp.toString()))\n",
    "        else :\n",
    "            str_pattern += \"-\"\n",
    "    return(str_pattern)\n",
    "\n",
    "\n",
    "# Function 2 : getPert (from Swann)\n",
    "# Integrate perturbation information with initial state.\n",
    "# As initial state do not allow initial state for a multilevel node at level 2, we define Nodal as a perturbation\n",
    "def getPert(rest_list, nodal_list, pert_list) :\n",
    "    new_rest = {}\n",
    "    # Adapt the initial state of perturbed node (sets it to its perturbation level)\n",
    "    for k in rest_list.keys() :\n",
    "        if k not in pert_list.keys() :\n",
    "            new_rest[k] = rest_list[k]\n",
    "        elif k in pert_list.keys() :\n",
    "            new_rest[k] = pert_list[k]\n",
    "    new_pert = \"\"\n",
    "    # Format the perturbation in the node%level style, add Nodal_In if its not alreay present\n",
    "    for k in pert_list.keys() :\n",
    "        new_pert += \" \" + k + \"%\" + str(pert_list[k])\n",
    "    if \"Hh\" not in pert_list.keys() :\n",
    "        new_pert += \" Hh%\" + str(nodal_list[\"Hh\"])\n",
    "    if \"Wg\" not in pert_list.keys() :\n",
    "        new_pert += \" Wg%\" + str(nodal_list[\"Wg\"])\n",
    "    if \"Egfr\" not in pert_list.keys() :\n",
    "        new_pert += \" Egfr%\" + str(nodal_list[\"Egfr\"])\n",
    "    return(new_rest, new_pert)\n",
    "\n",
    "\n",
    "# Function 3 : getFxp (from Swann)\n",
    "# Format the resulting output from fixpoints search.\n",
    "# In case of multiple possible fixpoints, we store them as new individual keys in a dictionnary. Order is random\n",
    "def getFxp(fixpoints) :\n",
    "    fxp_formated = {}\n",
    "    for territory in fixpoints.keys() :\n",
    "        if len(fixpoints[territory]) == 1 :\n",
    "            fxp_formated[territory] = [fixpoints[territory][0]]\n",
    "        elif len(fixpoints[territory]) == 0 :\n",
    "            fxp_formated[territory] = []\n",
    "        elif len(fixpoints[territory]) > 1 :\n",
    "            fxp_formated[territory] = fixpoints[territory]\n",
    "    return(fxp_formated)\n",
    "\n",
    "\n",
    "# Function 3 : getFxp (from Swann)\n",
    "# Format the resulting output from fixpoints search.\n",
    "# In case of multiple possible fixpoints, we store them as new individual keys in a dictionnary. Order is random\n",
    "def getFxp(fixpoints) :\n",
    "    fxp_formated = {}\n",
    "    for territory in fixpoints.keys() :\n",
    "        if len(fixpoints[territory]) == 1 :\n",
    "            fxp_formated[territory] = [fixpoints[territory][0]]\n",
    "        elif len(fixpoints[territory]) == 0 :\n",
    "            fxp_formated[territory] = []\n",
    "        elif len(fixpoints[territory]) > 1 :\n",
    "            fxp_formated[territory] = fixpoints[territory]\n",
    "    return(fxp_formated)\n",
    "\n",
    "# Function 4 : split_multiSS (from Swann)\n",
    "# In case where we find more than one stable state in one of the territory, we create one instance of\n",
    "# simulation result for each different stable state reached\n",
    "def split_multiSS(fxp_res, pert_name) :\n",
    "    num_ss_max = max(len(fxp_res[ter]) for ter in fxp_res.keys())\n",
    "    out_dict = {}\n",
    "    if num_ss_max > 1 :\n",
    "        for step in range(0,num_ss_max) :\n",
    "            out_dict[pert_name + '_ss' + str(step)] = {}\n",
    "            for ter in fxp_res.keys() :\n",
    "                if len(fxp_res[ter])-1 < step :\n",
    "                    item = len(fxp_res[ter])-1\n",
    "                elif len(fxp_res[ter])-1 >= step : \n",
    "                    item = step\n",
    "                out_dict[pert_name + '_ss' + str(step)][ter] = fxp_res[ter][item]\n",
    "    elif num_ss_max == 1 :\n",
    "        out_dict[pert_name] = {}\n",
    "        for ter in fxp_res.keys() :\n",
    "            out_dict[pert_name][ter] = fxp_res[ter][0]\n",
    "    return(out_dict)"
   ]
  },
  {
   "cell_type": "code",
   "execution_count": 120,
   "metadata": {},
   "outputs": [],
   "source": [
    "# Wild-type simulation\n",
    "\n",
    "## Define the wild type initial state conditions for the inputs in the three territories\n",
    "# Univin is also fixed at 1 to avoid simulating events where Univin level reaches 0\n",
    "inputs_state = { \"DV\" : {\"Hh\":0, \"Wg\":0 , \"Egfr\":1} , \n",
    "                 \"AP\" : {\"Hh\":1, \"Wg\":1 , \"Egfr\":0} ,\n",
    "                 \"DV_AP\" : {\"Hh\":1, \"Wg\":1 , \"Egfr\":1}}\n",
    "core_vals = {}\n",
    "\n",
    "# Define the wild type initial state conditions for Nodal input() in the three territories\n",
    "nodal_state =  { \"DV\" : {\"Hh\":0, \"Wg\":1 , \"Egfr\":0}, \n",
    "                 \"AP\" : {\"Hh\":0, \"Wg\":1 , \"Egfr\":1},\n",
    "                \"DV_AP\" : {\"Hh\":1, \"Wg\":1 , \"Egfr\":1}}"
   ]
  },
  {
   "cell_type": "code",
   "execution_count": 121,
   "metadata": {},
   "outputs": [
    {
     "data": {
      "text/html": [
       "<div>\n",
       "<style scoped>\n",
       "    .dataframe tbody tr th:only-of-type {\n",
       "        vertical-align: middle;\n",
       "    }\n",
       "\n",
       "    .dataframe tbody tr th {\n",
       "        vertical-align: top;\n",
       "    }\n",
       "\n",
       "    .dataframe thead th {\n",
       "        text-align: right;\n",
       "    }\n",
       "</style>\n",
       "<table border=\"1\" class=\"dataframe\">\n",
       "  <thead>\n",
       "    <tr style=\"text-align: right;\">\n",
       "      <th></th>\n",
       "      <th>Hh</th>\n",
       "      <th>Wg</th>\n",
       "      <th>Egfr</th>\n",
       "    </tr>\n",
       "  </thead>\n",
       "  <tbody>\n",
       "    <tr>\n",
       "      <th>DV</th>\n",
       "      <td>0</td>\n",
       "      <td>1</td>\n",
       "      <td>0</td>\n",
       "    </tr>\n",
       "    <tr>\n",
       "      <th>AP</th>\n",
       "      <td>0</td>\n",
       "      <td>1</td>\n",
       "      <td>1</td>\n",
       "    </tr>\n",
       "    <tr>\n",
       "      <th>DV_AP</th>\n",
       "      <td>1</td>\n",
       "      <td>1</td>\n",
       "      <td>1</td>\n",
       "    </tr>\n",
       "  </tbody>\n",
       "</table>\n",
       "</div>"
      ],
      "text/plain": [
       "       Hh  Wg  Egfr\n",
       "DV      0   1     0\n",
       "AP      0   1     1\n",
       "DV_AP   1   1     1"
      ]
     },
     "execution_count": 121,
     "metadata": {},
     "output_type": "execute_result"
    }
   ],
   "source": [
    "# Merge dict for figure\n",
    "                \n",
    "import copy\n",
    "                \n",
    "fig_inputs = copy.deepcopy(inputs_state)\n",
    "for mykey in fig_inputs.keys() :\n",
    "    fig_inputs[mykey].update(nodal_state[mykey])\n",
    "pd.DataFrame(fig_inputs).T"
   ]
  },
  {
   "cell_type": "code",
   "execution_count": 126,
   "metadata": {},
   "outputs": [
    {
     "name": "stdout",
     "output_type": "stream",
     "text": [
      "Finding 2 stable state(s) for DV territory.\n",
      "Finding 2 stable state(s) for AP territory.\n",
      "Finding 2 stable state(s) for DV_AP territory.\n"
     ]
    }
   ],
   "source": [
    "# Using the function and the initial state condition,\n",
    "# we compute fixpoints of the model for the three wild type territories\n",
    "fixpoints = {}\n",
    "for territory in inputs_state.keys() :\n",
    "    # Generate the pattern and perturbation to apply\n",
    "    ter_rest, ter_pert = getPert(inputs_state[territory],  nodal_state[territory], {})\n",
    "    pattern = dash_pattern(lqm2, {**ter_rest, **core_vals})\n",
    "    # Apply pattern and perturbation to the model\n",
    "    model_mod = biolqm.perturbation(biolqm.restrict(lqm2, pattern), ter_pert)\n",
    "    # Compute fixpoints and store it in a dictionnary\n",
    "    fixpoints[territory] = biolqm.fixpoints(model_mod)    \n",
    "    print(\"Finding\", len(fixpoints[territory]),\"stable state(s) for\", territory, 'territory.')\n"
   ]
  },
  {
   "cell_type": "code",
   "execution_count": 127,
   "metadata": {},
   "outputs": [
    {
     "ename": "KeyError",
     "evalue": "'Wild_type'",
     "output_type": "error",
     "traceback": [
      "\u001b[0;31m\u001b[0m",
      "\u001b[0;31mKeyError\u001b[0mTraceback (most recent call last)",
      "\u001b[0;32m<ipython-input-127-b02841e341b6>\u001b[0m in \u001b[0;36m<module>\u001b[0;34m\u001b[0m\n\u001b[1;32m      1\u001b[0m \u001b[0;31m# We apply the function to our wild type simualtion and use it to plot the expression level of all nodes.\u001b[0m\u001b[0;34m\u001b[0m\u001b[0;34m\u001b[0m\u001b[0;34m\u001b[0m\u001b[0m\n\u001b[1;32m      2\u001b[0m \u001b[0mwild_type\u001b[0m \u001b[0;34m=\u001b[0m \u001b[0mgetFxp\u001b[0m\u001b[0;34m(\u001b[0m\u001b[0mfixpoints\u001b[0m\u001b[0;34m)\u001b[0m\u001b[0;34m\u001b[0m\u001b[0;34m\u001b[0m\u001b[0m\n\u001b[0;32m----> 3\u001b[0;31m \u001b[0mwild_type\u001b[0m \u001b[0;34m=\u001b[0m \u001b[0msplit_multiSS\u001b[0m\u001b[0;34m(\u001b[0m\u001b[0mwild_type\u001b[0m\u001b[0;34m,\u001b[0m \u001b[0;34m'Wild_type'\u001b[0m\u001b[0;34m)\u001b[0m\u001b[0;34m[\u001b[0m\u001b[0;34m'Wild_type'\u001b[0m\u001b[0;34m]\u001b[0m\u001b[0;34m\u001b[0m\u001b[0;34m\u001b[0m\u001b[0m\n\u001b[0m\u001b[1;32m      4\u001b[0m \u001b[0mwt_fxp\u001b[0m  \u001b[0;34m=\u001b[0m \u001b[0mpd\u001b[0m\u001b[0;34m.\u001b[0m\u001b[0mDataFrame\u001b[0m\u001b[0;34m(\u001b[0m\u001b[0mwild_type\u001b[0m\u001b[0;34m)\u001b[0m\u001b[0;34m\u001b[0m\u001b[0;34m\u001b[0m\u001b[0m\n\u001b[1;32m      5\u001b[0m \u001b[0mplt\u001b[0m\u001b[0;34m.\u001b[0m\u001b[0mfigure\u001b[0m\u001b[0;34m(\u001b[0m\u001b[0mfigsize\u001b[0m\u001b[0;34m=\u001b[0m\u001b[0;34m(\u001b[0m\u001b[0;36m15\u001b[0m\u001b[0;34m,\u001b[0m \u001b[0;36m6\u001b[0m\u001b[0;34m)\u001b[0m\u001b[0;34m)\u001b[0m\u001b[0;34m\u001b[0m\u001b[0;34m\u001b[0m\u001b[0m\n",
      "\u001b[0;31mKeyError\u001b[0m: 'Wild_type'"
     ]
    }
   ],
   "source": [
    "\n",
    "# We apply the function to our wild type simulation and use it to plot the expression level of all nodes.\n",
    "wild_type = getFxp(fixpoints)\n",
    "wild_type = split_multiSS(wild_type, 'Wild_type')['Wild_type']\n",
    "wt_fxp  = pd.DataFrame(wild_type)\n",
    "plt.figure(figsize=(15, 6))\n",
    "sns.clustermap(wt_fxp.dropna(0),  metric='euclidean', col_cluster=False, yticklabels=True, cmap='YlOrRd')"
   ]
  },
  {
   "cell_type": "markdown",
   "metadata": {},
   "source": [
    "## Identification of stable states"
   ]
  },
  {
   "cell_type": "markdown",
   "metadata": {},
   "source": [
    "Here we compute the complete list of logical stable states (or fixpoints) of the model using the Java library bioLQM and store it in the `fps` variable:"
   ]
  },
  {
   "cell_type": "code",
   "execution_count": null,
   "metadata": {
    "scrolled": true
   },
   "outputs": [],
   "source": [
    "fps = biolqm.fixpoints(lqm_model)\n",
    "print(len(fps), \"fixpoints found.\")"
   ]
  },
  {
   "cell_type": "code",
   "execution_count": null,
   "metadata": {},
   "outputs": [],
   "source": [
    "#Display of the list of stable states\n",
    "tabulate(fps)"
   ]
  },
  {
   "cell_type": "markdown",
   "metadata": {},
   "source": [
    "The model has 16 stable states, 3 of which represent the behavior of Egfr components specifying vnd domain(columns 6, 12, 13). While 8 of which represent the possible stable states for ind domain to generate, the remaining 5 rows corresponds to msh domain."
   ]
  },
  {
   "cell_type": "code",
   "execution_count": null,
   "metadata": {},
   "outputs": [],
   "source": [
    "#The third fixpoint (`fps[2]`) can then be displayed as follows:\n",
    "ginsim.show(gs_model, fps[2])"
   ]
  },
  {
   "cell_type": "markdown",
   "metadata": {},
   "source": [
    "In this graph, the vertices shown in white or blue denote components that are OFF (value 0) or ON (value 1) respectively."
   ]
  },
  {
   "cell_type": "markdown",
   "metadata": {},
   "source": [
    "## Identification of trap spaces\n",
    "\n",
    "A trap space is a subspace of a state space which trajectories cannot leave. Trap spaces provide useful approaximations of attraction basin. Every trap space contains at least one attractor and, therefore, in some cases minimal trap spaces can be good approximations for the attractors. If a trap set is an attractor, its spaces of attraction can be related to its basins of attraction. Attractor reachability can be investigated using trap spaces."
   ]
  },
  {
   "cell_type": "code",
   "execution_count": null,
   "metadata": {},
   "outputs": [],
   "source": [
    "trapspaces = biolqm.trapspaces(lqm_model)\n",
    "tabulate(trapspaces)"
   ]
  },
  {
   "cell_type": "code",
   "execution_count": null,
   "metadata": {},
   "outputs": [],
   "source": [
    " ginsim.show(lrg, trapspaces[1])"
   ]
  },
  {
   "cell_type": "markdown",
   "metadata": {},
   "source": [
    "## Model simplification (skipped)"
   ]
  },
  {
   "cell_type": "code",
   "execution_count": null,
   "metadata": {},
   "outputs": [],
   "source": [
    "## Model simplification (havent used): \n",
    "#   * Fix all inputs to their inactive state.\n",
    "fixed = { str(n):0 for n in lqm_model.getComponents() if n.isInput()}\n",
    "\n",
    "# Keep 'Spi', 'Hh' and as proper inputs \n",
    "for n in ('Spi', 'Hh', 'Wg'):\n",
    "    del(fixed[n])\n",
    "\n",
    "# Fix inputs to their active state\n",
    "fixed['Spi'] = 1\n",
    "fixed['Hh'] = 1\n",
    "fixed['Wg'] = 1"
   ]
  },
  {
   "cell_type": "code",
   "execution_count": null,
   "metadata": {},
   "outputs": [],
   "source": [
    "# Apply the simplifications defined above to reduce the model\n",
    "m_reduced = biolqm.perturbation(lqm_model, \" \".join([ \"%s%%%s\" % (k,v) for (k,v) in fixed.items() ]))\n",
    "m_reduced = biolqm.reduce(m_reduced, \":fixed :purge :no-extra\")"
   ]
  },
  {
   "cell_type": "code",
   "execution_count": null,
   "metadata": {
    "scrolled": false
   },
   "outputs": [],
   "source": [
    "fps = biolqm.fixpoints(m_reduced, autoconvert=False)\n",
    "df = biolqm.states_to_dataframe(fps)\n",
    "df"
   ]
  },
  {
   "cell_type": "markdown",
   "metadata": {},
   "source": [
    "## Simulation of the model without any constraint\n",
    "\n",
    "Fixed values are visualized on the model without any constraint. Fixed values will appear in white. This will be used as a reference to see if percolating a value will change anything from this default setting."
   ]
  },
  {
   "cell_type": "code",
   "execution_count": null,
   "metadata": {},
   "outputs": [],
   "source": [
    "# Reduce fixed values\n",
    "lqm_model_fixed_reduced = biolqm.reduce(lqm_model, \":fixed :purge\")\n",
    "show_fixed(gs_model, lqm_model_fixed_reduced, styler_fixed)"
   ]
  },
  {
   "cell_type": "markdown",
   "metadata": {},
   "source": [
    "## Perturbations via bioLQM "
   ]
  },
  {
   "cell_type": "code",
   "execution_count": null,
   "metadata": {},
   "outputs": [],
   "source": [
    "#Set ind to 1\n",
    "mlqm = biolqm.perturbation(lqm_model, \"ind%1\")\n",
    "\n",
    "fixpoints_ind = biolqm.fixpoints(mlqm)\n",
    "tabulate(fixpoints_ind)\n",
    "\n",
    "reduced = biolqm.reduce(mlqm , \"fixed,outputs\")\n"
   ]
  },
  {
   "cell_type": "code",
   "execution_count": null,
   "metadata": {},
   "outputs": [],
   "source": [
    "#Set ind to 0\n",
    "mlqm_ind_0 = biolqm.perturbation(lqm_model, \"ind%0\")\n",
    "\n",
    "fixpoints_ind_0 = biolqm.fixpoints(mlqm_ind_0)\n",
    "\n",
    "reduced_ind_0 = biolqm.reduce(mlqm_ind_0 , \"fixed,outputs\")\n",
    "show_fixed(gs_model, reduced_ind_0 , styler_fixed)"
   ]
  },
  {
   "cell_type": "code",
   "execution_count": null,
   "metadata": {},
   "outputs": [],
   "source": [
    "fixpoints_ind_0 = {'Spi': 0,\n",
    "  'Egfr': 0,\n",
    "  'Rl': 0,\n",
    "  'Aop': 1,\n",
    "  'Pnt': 0,\n",
    "  'ind': 0,\n",
    "  'vnd': 0,\n",
    "  'msh': 1,\n",
    "  'Aos': 0,\n",
    "  'pGro': 0,\n",
    "  'Gro': 1},\n",
    " \n",
    "                  \n",
    "fixpoints_ind_1 = {'Spi': 0,\n",
    "  'Vn': 0,\n",
    "  'Egfr': 0,\n",
    "  'Rl': 0,\n",
    "  'Aop': 1,\n",
    "  'Pnt': 0,\n",
    "  'ind': 1,\n",
    "  'vnd': 0,\n",
    "  'msh': 0,\n",
    "  'Aos': 0,\n",
    "  'pGro': 0,\n",
    "  'Gro': 1}\n",
    "\n",
    "# Display the model\n",
    "ginsim.show(gs_model, fixpoints_ind_1)"
   ]
  },
  {
   "cell_type": "markdown",
   "metadata": {},
   "source": [
    "## Display fixed points"
   ]
  },
  {
   "cell_type": "code",
   "execution_count": null,
   "metadata": {},
   "outputs": [],
   "source": [
    "print(\"Before restriction : Total components : %d, Extra components : %d\" % (len(lqm_model.getComponents()),\n",
    "                                                        len(lqm_model.getExtraComponents())))\n",
    "print(\"After restriction : Total components : %d, Extra components : %d\" % (len(lqm_model_restricted_Spi_1.getComponents()),\n",
    "                                                        len(lqm_model_restricted_Spi_1.getExtraComponents())))\n",
    "#biolqm.fixpoints(lqm_model_restricted_Spi_1, \"extra\")"
   ]
  },
  {
   "cell_type": "code",
   "execution_count": null,
   "metadata": {},
   "outputs": [],
   "source": [
    "# Percolate a value of 0 for vnd\n",
    "lqm_model_restricted_vnd_0 = restrict_model(lqm_model, vnd=0)\n",
    "show_fixed(gs_model, lqm_model_restricted_vnd_0, styler_fixed)"
   ]
  },
  {
   "cell_type": "code",
   "execution_count": null,
   "metadata": {},
   "outputs": [],
   "source": [
    "# Percolate a value of 1 for vnd\n",
    "lqm_model_restricted_vnd_1 = restrict_model(lqm_model, vnd=1)\n",
    "show_fixed(gs_model, lqm_model_restricted_vnd_1, styler_fixed, save=\"figure_percolation_vnd_1\")"
   ]
  },
  {
   "cell_type": "code",
   "execution_count": null,
   "metadata": {},
   "outputs": [],
   "source": [
    "show_fixed_comparison(gs_model, lqm_model_restricted_vnd_0, lqm_model_restricted_vnd_1, styler_comp, save=\"figure_percolation_vnd\")"
   ]
  },
  {
   "cell_type": "markdown",
   "metadata": {},
   "source": [
    "## Assessing the probabilities to reach alternative attractors using MaBoSS\n",
    "\n",
    "MaBoSS (Stoll et al., 2017) is a C++ software enabling the stochastic simulation of Boolean networks by translating them into continuous time Markov processes. Each node activation and inactivation is associated with an up and a down rate, which specify the propensity of the corresponding transitions. From a given state, the simulation integrates all the possible node updates and derives a probability and a duration for each transition. By default, all transitions are assigned the same rate. For a given set of initial conditions, MaBoSS produces time trajectories and estimates probabilities of model states over the whole simulation time. Steady state distributions can thus be approximated, provided that a sufficient number of sufficiently long simulations have been performed.\n",
    "\n",
    "The aim of this section is to reproduce part of the results obtained by Cohen et al. (2015), which show that a Notch (NICD) gain-of-function together with a p53 loss-of-function prevent reaching a stable apoptotic phenotype.\n",
    "\n",
    "First, we convert the bioLQM model to MaBoSS:"
   ]
  },
  {
   "cell_type": "code",
   "execution_count": null,
   "metadata": {},
   "outputs": [],
   "source": [
    "wt_sim = biolqm.to_maboss(lqm2)"
   ]
  },
  {
   "cell_type": "code",
   "execution_count": null,
   "metadata": {},
   "outputs": [],
   "source": [
    "#maboss.wg_set_istate(wt_sim)\n",
    "maboss.set_nodes_istate(wt_sim, [\"Wg\", \"Egfr\"], [0.5, 0.5])"
   ]
  },
  {
   "cell_type": "code",
   "execution_count": null,
   "metadata": {},
   "outputs": [],
   "source": [
    "#maboss.wg_set_output(wt_sim)\n",
    "wt_sim.network.set_output(('NB7_4', 'NB5_2'))"
   ]
  },
  {
   "cell_type": "code",
   "execution_count": null,
   "metadata": {},
   "outputs": [],
   "source": [
    "wt_sim.update_parameters(discrete_time=0, use_physrandgen=0,\n",
    "        seed_pseudorandom=100, sample_count=50000,\n",
    "        max_time=75, time_tick=0.1, thread_count=4,\n",
    "        statdist_traj_count=100, statdist_cluster_threshold=0.9)"
   ]
  },
  {
   "cell_type": "code",
   "execution_count": null,
   "metadata": {},
   "outputs": [],
   "source": [
    "%time wt_results = wt_sim.run()"
   ]
  },
  {
   "cell_type": "code",
   "execution_count": null,
   "metadata": {},
   "outputs": [],
   "source": [
    "wt_results.plot_piechart()"
   ]
  },
  {
   "cell_type": "code",
   "execution_count": null,
   "metadata": {},
   "outputs": [],
   "source": [
    "wt_results.plot_node_trajectory(until=40)"
   ]
  },
  {
   "cell_type": "code",
   "execution_count": null,
   "metadata": {},
   "outputs": [],
   "source": [
    "mut_sim = wt_sim.copy()\n",
    "mut_sim.mutate(\"pGro\", \"OFF\")"
   ]
  },
  {
   "cell_type": "code",
   "execution_count": null,
   "metadata": {},
   "outputs": [],
   "source": [
    "%time mut_results = mut_sim.run()"
   ]
  },
  {
   "cell_type": "code",
   "execution_count": null,
   "metadata": {},
   "outputs": [],
   "source": [
    "mut_results.plot_piechart()"
   ]
  },
  {
   "cell_type": "code",
   "execution_count": null,
   "metadata": {},
   "outputs": [],
   "source": []
  }
 ],
 "metadata": {
  "kernelspec": {
   "display_name": "Python 3",
   "language": "python",
   "name": "python3"
  },
  "language_info": {
   "codemirror_mode": {
    "name": "ipython",
    "version": 3
   },
   "file_extension": ".py",
   "mimetype": "text/x-python",
   "name": "python",
   "nbconvert_exporter": "python",
   "pygments_lexer": "ipython3",
   "version": "3.9.1"
  }
 },
 "nbformat": 4,
 "nbformat_minor": 2
}
