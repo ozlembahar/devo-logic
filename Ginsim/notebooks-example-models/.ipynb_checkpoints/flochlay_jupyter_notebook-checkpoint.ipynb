{
 "cells": [
  {
   "cell_type": "markdown",
   "metadata": {},
   "source": [
    "### Deciphering and modelling the TGF-β signalling interplays specifying the dorsal-ventral axis of the sea urchin embryo\n",
    "\n",
    "#### Swann Floc’hlay1, Maria Dolores Molina2#, Céline Hernandez1#, Emmanuel Haillot2, Morgane Thomas-Chollier1,3, Thierry Lepage2* and Denis Thieffry1*,\n",
    "\n",
    "\n",
    "1. Institut de Biologie de l’ENS (IBENS), École normale supérieure, CNRS, INSERM, Université PSL, 75005 Paris, France.\n",
    "\n",
    "2. Institut Biologie Valrose, Université Côte d’Azur, Nice, France.\n",
    "\n",
    "3. Institut Universitaire de France (IUF), 75005 Paris, France.\n",
    "\n",
    "\\* Corresponding authors\n",
    "\n",
    "emails: denis.thieffry@ens.psl.eu ; tlepage@unice.fr\n",
    "\n",
    "\\# These authors contributed equally to this work. \n",
    "\n",
    "The dorsal-ventral (D-V) axis specification in the sea urchin *Paracentrotus lividus* is controlled by various transcription factors, including two TGF-βs : Nodal and BMP2/4. However, the signalling network downstream of these key morphogens is not yet fully understood. To identify Nodal and BMP2/4 target genes, we have performed a systematic functional analysis using RNA sequencing and in situ hybridization screens. The analysis of these data enables to delineate various novel interactions.\n",
    "To gain further insights into this developmental process, we have developed a logical model of the corresponding signalling/regulatory network, using the software GINsim (ginsim.org).\n",
    "Our model analysis accounts for the specification of three main ectodermal regions along the D-V axis (ventral, ciliary and dorsal ectoderm) in terms of specific marker gene expression patterns.\n",
    "In our model analysis, we first focused on the computation of stable states and on their reachability in single representative cells, depending on signalling inputs. These model simulations correctly reproduce wild-type and mutant phenotypes.\n",
    "Next, taking advantage of the software EpiLog (epilog-tool.org), we have simulated grids of cells connected through diffusion of signalling molecules reproducing various reported patterns, including double Nodal mRNA injections.\n",
    "This notebook covers the different analyses performed using GINsim and other logical modelling and analysis software."
   ]
  },
  {
   "cell_type": "markdown",
   "metadata": {},
   "source": [
    "### Environment setup\n",
    "\n",
    "The first thing to do is to import the necessary libraries to performing the analyses.\n"
   ]
  },
  {
   "cell_type": "code",
   "execution_count": 7,
   "metadata": {},
   "outputs": [],
   "source": [
    "# Tools necessary to run and pertrurb the model\n",
    "import ginsim \n",
    "import biolqm\n",
    "import pypint\n",
    "import maboss\n",
    "\n",
    "# Tools necessary to format and plot results of simulations\n",
    "from colomoto_jupyter import tabulate\n",
    "from colomoto.temporal_logics import *\n",
    "from itertools import combinations\n",
    "from functools import reduce\n",
    "\n",
    "# Regular Python packages\n",
    "import sys\n",
    "import matplotlib as mpl\n",
    "import matplotlib.pyplot as plt\n",
    "import pandas as pd\n",
    "import numpy as np\n",
    "from pandas import DataFrame\n",
    "import seaborn as sns\n",
    "import re\n",
    "import pprint\n",
    "from collections import Counter"
   ]
  },
  {
   "cell_type": "markdown",
   "metadata": {},
   "source": [
    "### Logical model import and summary\n",
    "\n",
    "Next, we load the model built using the software GINsim in .zginml format.\n",
    "At this point, it is available in the local computer memory as [SeaUrchin_model_ginsim_revised.zginml](SeaUrchin_model_ginsim_revised.zginml).\n",
    "\n",
    "The pint module allows us to have summary information about the model as the number of nodes, the number of states and possible transitions. The following code display the model and some summary statistics."
   ]
  },
  {
   "cell_type": "code",
   "execution_count": 8,
   "metadata": {
    "scrolled": false
   },
   "outputs": [
    {
     "ename": "Py4JJavaError",
     "evalue": "An error occurred while calling t.load.\n: org.ginsim.common.application.GsException: Parsing error : Attribute name \"data-pjax-transient\" associated with an element type \"meta\" must be followed by the ' = ' character.:\nException is : Attribute name \"data-pjax-transient\" associated with an element type \"meta\" must be followed by the ' = ' character.\n\tat org.ginsim.common.xml.XMLHelper.startParsing(XMLHelper.java:214)\n\tat org.ginsim.common.xml.XMLHelper.startParsing(XMLHelper.java:190)\n\tat org.ginsim.core.io.parser.GinmlParser.parse(GinmlParser.java:46)\n\tat org.ginsim.core.graph.GSGraphManager.open(GSGraphManager.java:414)\n\tat org.ginsim.core.graph.GSGraphManager.open(GSGraphManager.java:332)\n\tat org.ginsim.ScriptLauncher.load(ScriptLauncher.java:190)\n\tat java.base/jdk.internal.reflect.NativeMethodAccessorImpl.invoke0(Native Method)\n\tat java.base/jdk.internal.reflect.NativeMethodAccessorImpl.invoke(NativeMethodAccessorImpl.java:62)\n\tat java.base/jdk.internal.reflect.DelegatingMethodAccessorImpl.invoke(DelegatingMethodAccessorImpl.java:43)\n\tat java.base/java.lang.reflect.Method.invoke(Method.java:566)\n\tat py4j.reflection.MethodInvoker.invoke(MethodInvoker.java:244)\n\tat py4j.reflection.ReflectionEngine.invoke(ReflectionEngine.java:357)\n\tat py4j.Gateway.invoke(Gateway.java:282)\n\tat py4j.commands.AbstractCommand.invokeMethod(AbstractCommand.java:132)\n\tat py4j.commands.CallCommand.execute(CallCommand.java:79)\n\tat py4j.GatewayConnection.run(GatewayConnection.java:238)\n\tat java.base/java.lang.Thread.run(Thread.java:834)\n",
     "output_type": "error",
     "traceback": [
      "\u001b[0;31m\u001b[0m",
      "\u001b[0;31mPy4JJavaError\u001b[0mTraceback (most recent call last)",
      "\u001b[0;32m<ipython-input-8-86c336fbf23b>\u001b[0m in \u001b[0;36m<module>\u001b[0;34m\u001b[0m\n\u001b[1;32m      5\u001b[0m \u001b[0;34m\u001b[0m\u001b[0m\n\u001b[1;32m      6\u001b[0m \u001b[0;31m# Loading model in the variable lrg using ginsim and convert it to a biolqm compliant model.\u001b[0m\u001b[0;34m\u001b[0m\u001b[0;34m\u001b[0m\u001b[0;34m\u001b[0m\u001b[0m\n\u001b[0;32m----> 7\u001b[0;31m \u001b[0mlrg\u001b[0m \u001b[0;34m=\u001b[0m \u001b[0mginsim\u001b[0m\u001b[0;34m.\u001b[0m\u001b[0mload\u001b[0m\u001b[0;34m(\u001b[0m\u001b[0;34m\"SeaUrchin_model_ginsim_revised.zginml\"\u001b[0m\u001b[0;34m)\u001b[0m\u001b[0;34m\u001b[0m\u001b[0;34m\u001b[0m\u001b[0m\n\u001b[0m\u001b[1;32m      8\u001b[0m \u001b[0;31m#lqm2 = ginsim.to_biolqm(lrg)\u001b[0m\u001b[0;34m\u001b[0m\u001b[0;34m\u001b[0m\u001b[0;34m\u001b[0m\u001b[0m\n\u001b[1;32m      9\u001b[0m \u001b[0;34m\u001b[0m\u001b[0m\n",
      "\u001b[0;32m/opt/conda/lib/python3.9/site-packages/ginsim/__init__.py\u001b[0m in \u001b[0;36mload\u001b[0;34m(filename, *args)\u001b[0m\n\u001b[1;32m     27\u001b[0m \u001b[0;32mdef\u001b[0m \u001b[0mload\u001b[0m\u001b[0;34m(\u001b[0m\u001b[0mfilename\u001b[0m\u001b[0;34m,\u001b[0m \u001b[0;34m*\u001b[0m\u001b[0margs\u001b[0m\u001b[0;34m)\u001b[0m\u001b[0;34m:\u001b[0m\u001b[0;34m\u001b[0m\u001b[0;34m\u001b[0m\u001b[0m\n\u001b[1;32m     28\u001b[0m     \u001b[0mfilename\u001b[0m \u001b[0;34m=\u001b[0m \u001b[0mensure_localfile\u001b[0m\u001b[0;34m(\u001b[0m\u001b[0mfilename\u001b[0m\u001b[0;34m)\u001b[0m\u001b[0;34m\u001b[0m\u001b[0;34m\u001b[0m\u001b[0m\n\u001b[0;32m---> 29\u001b[0;31m     \u001b[0mobj\u001b[0m \u001b[0;34m=\u001b[0m \u001b[0mjapi\u001b[0m\u001b[0;34m.\u001b[0m\u001b[0mgs\u001b[0m\u001b[0;34m.\u001b[0m\u001b[0mload\u001b[0m\u001b[0;34m(\u001b[0m\u001b[0mfilename\u001b[0m\u001b[0;34m,\u001b[0m \u001b[0;34m*\u001b[0m\u001b[0margs\u001b[0m\u001b[0;34m)\u001b[0m\u001b[0;34m\u001b[0m\u001b[0;34m\u001b[0m\u001b[0m\n\u001b[0m\u001b[1;32m     30\u001b[0m     \u001b[0;32massert\u001b[0m \u001b[0mobj\u001b[0m \u001b[0;32mis\u001b[0m \u001b[0;32mnot\u001b[0m \u001b[0;32mNone\u001b[0m\u001b[0;34m,\u001b[0m \u001b[0;34m\"Error while loading model\"\u001b[0m\u001b[0;34m\u001b[0m\u001b[0;34m\u001b[0m\u001b[0m\n\u001b[1;32m     31\u001b[0m     \u001b[0;32mreturn\u001b[0m \u001b[0mobj\u001b[0m\u001b[0;34m\u001b[0m\u001b[0;34m\u001b[0m\u001b[0m\n",
      "\u001b[0;32m/opt/conda/lib/python3.9/site-packages/py4j/java_gateway.py\u001b[0m in \u001b[0;36m__call__\u001b[0;34m(self, *args)\u001b[0m\n\u001b[1;32m   1302\u001b[0m \u001b[0;34m\u001b[0m\u001b[0m\n\u001b[1;32m   1303\u001b[0m         \u001b[0manswer\u001b[0m \u001b[0;34m=\u001b[0m \u001b[0mself\u001b[0m\u001b[0;34m.\u001b[0m\u001b[0mgateway_client\u001b[0m\u001b[0;34m.\u001b[0m\u001b[0msend_command\u001b[0m\u001b[0;34m(\u001b[0m\u001b[0mcommand\u001b[0m\u001b[0;34m)\u001b[0m\u001b[0;34m\u001b[0m\u001b[0;34m\u001b[0m\u001b[0m\n\u001b[0;32m-> 1304\u001b[0;31m         return_value = get_return_value(\n\u001b[0m\u001b[1;32m   1305\u001b[0m             answer, self.gateway_client, self.target_id, self.name)\n\u001b[1;32m   1306\u001b[0m \u001b[0;34m\u001b[0m\u001b[0m\n",
      "\u001b[0;32m/opt/conda/lib/python3.9/site-packages/py4j/protocol.py\u001b[0m in \u001b[0;36mget_return_value\u001b[0;34m(answer, gateway_client, target_id, name)\u001b[0m\n\u001b[1;32m    324\u001b[0m             \u001b[0mvalue\u001b[0m \u001b[0;34m=\u001b[0m \u001b[0mOUTPUT_CONVERTER\u001b[0m\u001b[0;34m[\u001b[0m\u001b[0mtype\u001b[0m\u001b[0;34m]\u001b[0m\u001b[0;34m(\u001b[0m\u001b[0manswer\u001b[0m\u001b[0;34m[\u001b[0m\u001b[0;36m2\u001b[0m\u001b[0;34m:\u001b[0m\u001b[0;34m]\u001b[0m\u001b[0;34m,\u001b[0m \u001b[0mgateway_client\u001b[0m\u001b[0;34m)\u001b[0m\u001b[0;34m\u001b[0m\u001b[0;34m\u001b[0m\u001b[0m\n\u001b[1;32m    325\u001b[0m             \u001b[0;32mif\u001b[0m \u001b[0manswer\u001b[0m\u001b[0;34m[\u001b[0m\u001b[0;36m1\u001b[0m\u001b[0;34m]\u001b[0m \u001b[0;34m==\u001b[0m \u001b[0mREFERENCE_TYPE\u001b[0m\u001b[0;34m:\u001b[0m\u001b[0;34m\u001b[0m\u001b[0;34m\u001b[0m\u001b[0m\n\u001b[0;32m--> 326\u001b[0;31m                 raise Py4JJavaError(\n\u001b[0m\u001b[1;32m    327\u001b[0m                     \u001b[0;34m\"An error occurred while calling {0}{1}{2}.\\n\"\u001b[0m\u001b[0;34m.\u001b[0m\u001b[0;34m\u001b[0m\u001b[0;34m\u001b[0m\u001b[0m\n\u001b[1;32m    328\u001b[0m                     format(target_id, \".\", name), value)\n",
      "\u001b[0;31mPy4JJavaError\u001b[0m: An error occurred while calling t.load.\n: org.ginsim.common.application.GsException: Parsing error : Attribute name \"data-pjax-transient\" associated with an element type \"meta\" must be followed by the ' = ' character.:\nException is : Attribute name \"data-pjax-transient\" associated with an element type \"meta\" must be followed by the ' = ' character.\n\tat org.ginsim.common.xml.XMLHelper.startParsing(XMLHelper.java:214)\n\tat org.ginsim.common.xml.XMLHelper.startParsing(XMLHelper.java:190)\n\tat org.ginsim.core.io.parser.GinmlParser.parse(GinmlParser.java:46)\n\tat org.ginsim.core.graph.GSGraphManager.open(GSGraphManager.java:414)\n\tat org.ginsim.core.graph.GSGraphManager.open(GSGraphManager.java:332)\n\tat org.ginsim.ScriptLauncher.load(ScriptLauncher.java:190)\n\tat java.base/jdk.internal.reflect.NativeMethodAccessorImpl.invoke0(Native Method)\n\tat java.base/jdk.internal.reflect.NativeMethodAccessorImpl.invoke(NativeMethodAccessorImpl.java:62)\n\tat java.base/jdk.internal.reflect.DelegatingMethodAccessorImpl.invoke(DelegatingMethodAccessorImpl.java:43)\n\tat java.base/java.lang.reflect.Method.invoke(Method.java:566)\n\tat py4j.reflection.MethodInvoker.invoke(MethodInvoker.java:244)\n\tat py4j.reflection.ReflectionEngine.invoke(ReflectionEngine.java:357)\n\tat py4j.Gateway.invoke(Gateway.java:282)\n\tat py4j.commands.AbstractCommand.invokeMethod(AbstractCommand.java:132)\n\tat py4j.commands.CallCommand.execute(CallCommand.java:79)\n\tat py4j.GatewayConnection.run(GatewayConnection.java:238)\n\tat java.base/java.lang.Thread.run(Thread.java:834)\n"
     ]
    }
   ],
   "source": [
    "# Loading model in the variable lrg_ppt using pint module and show summary statitics\n",
    "# lrg_ppt = pypint.load(\"SeaUrchin_model_ginsim_revised.zginml\")\n",
    "# info_lrg = lrg_ppt.summary()\n",
    "# pd.DataFrame([['nb_states',info_lrg['nb_states']],['nb_automata',info_lrg['nb_automata']],['nb_transitions',info_lrg['nb_transitions']]], columns=['Item','Number'])\n",
    "\n",
    "# Loading model in the variable lrg using ginsim and convert it to a biolqm compliant model.\n",
    "lrg = ginsim.load(\"/SeaUrchin_model_ginsim_revised.zginml\")\n",
    "#lqm2 = ginsim.to_biolqm(lrg)\n",
    "\n",
    "# Show model regulatory graph\n",
    "ginsim.show(lrg)"
   ]
  },
  {
   "cell_type": "code",
   "execution_count": null,
   "metadata": {},
   "outputs": [],
   "source": []
  },
  {
   "cell_type": "markdown",
   "metadata": {},
   "source": [
    "**Figure 1** : Unicellular logical model of the dorso-ventral axis specification in the sea urchin *Paracentrotus Lividus*, built using GINsim (ginsim.org). Green and red arrows represent activation and repression respectively. Squared elements represent multilevel nodes that can reach more than two states. This model can reach three different stable states : the dorsal (green), the ventral (blue) and the ciliary (pink) territories corresponding to different set of activated elements. Inputs of the model specified before simulations are shown in yellow."
   ]
  },
  {
   "cell_type": "markdown",
   "metadata": {},
   "source": [
    "**A** - Input nodes\n",
    "\n",
    "| Node | Converging value | Logical rule | Value ventral | Value ciliary | Value dorsal |\n",
    "|------|------------------|--------------|---------------|---------------|--------------|\n",
    "|Nodal_In | * |No function| 2 | 1 | 1 |\n",
    "|Lefty_In| * |No function| 1 | 1 | 1 |\n",
    "|Panda_In| * |No function| 0 | 0 | 0 |\n",
    "|Admp1_In| * |No function| 1 | 1 | 1 |\n",
    "|Bmp2_4_In| * |No function| 1 | 1 | 1 |\n",
    "|Chordin_In| * |No function| 2 | 2 | 1 |\n",
    "|Tolloid_In| * |No function| 1 | 1 | 1 |\n",
    "|Wnt_In| * |No function| 0 | 0 | 0 |\n",
    "|Admp2_Trans| * |No function| 0 | 0 | 0 |\n",
    "\n",
    "**B** - Ventral nodes\n",
    "\n",
    "| Node | Converging value | Logical rule | Initial state |\n",
    "|------|------------------|--------------|---------------|\n",
    "|Univin| * | !Smad1/4/5/8:2| 1 |\n",
    "|Alk4_5_7|1|(Nodal:1 & !Lefty & Univin & !Panda) &#124; (Nodal:2 & Univin & !Panda)| 0 |\n",
    "|Alk4_5_7|2|Nodal:3 & Univin| 0 |\n",
    "|Smad_2_3_4|1|Alk4/5/7:1 & !Smad1/4/5/8| 0 |\n",
    "|Smad_2_3_4|2|Alk4_5_7:2| 0 |\n",
    "|Nodal|2|Smad2_3_4| 0 |\n",
    "|Bmp2_4|1|Smad2_3_4:1| 0 |\n",
    "|Bmp2_4|2|Smad2_3_4:2| 0 |\n",
    "|Lefty|1|Smad2_3_4| 0 |\n",
    "|Chordin|1|Smad2_3_4| 0 |\n",
    "|Admp1|1|Smad2/3/4 & !Smad1/4/5/8| 0 |\n",
    "|Goosecoid|1|Smad2_3_4| 0 |\n",
    "|Repressor_R1|1|!Goosecoid| 0 |\n",
    "|FoxA|1|(FoxA &#124; Brachyury) & !Repressor_R1| 0 |\n",
    "|Brachyury|1|!Repressor_R1 &#124; FoxA| 0 |\n",
    "\n",
    "**C** - Dorsal nodes\n",
    "\n",
    "| Node | Converging value | Logical rule | Initial state |\n",
    "|------|------------------|--------------|---------------|\n",
    "|Alk1_2_3_6|1|((Bmp2/4:1 & Admp1 & !Chordin) &#124; (Bmp2/4:1 & Admp1 & Tolloid & !Chordin:2)) & !Bmp2/4:2| 0 |\n",
    "|Alk1_2_3_6|1|((Admp2 & !Chordin) &#124; (Admp2 & Tolloid & !Chordin:2)) & !Bmp2/4:2| 0 |\n",
    "|Alk1_2_3_6|2|Bmp2/4:2| 0 |\n",
    "|Smad1_4_5_8|1|Alk1/2/3/6:2 & Smad2/3/4:2| 0 |\n",
    "|Smad1_4_5_8|2|(Alk1/2/3/6:2 & !Smad2/3/4:2) &#124; (Alk1/2/3/6:1 & !Smad2/3/4)| 0 |\n",
    "|Tbx2_3|1|Smad1/4/5/8:2| 0 |\n",
    "|IrxA|1|Tbx2_3| 0 |\n",
    "|Glypican5|1|Smad1_4_5_8:2| 0 |\n",
    "|Frz|1|Wnt_In| 0 |\n",
    "|Admp2|1|Frz &#124; Smad1_4_5_8:2| 0 |\n",
    "\n",
    "**D** - Ciliary nodes\n",
    "\n",
    "| Node | Converging value | Logical rule | Initial state |\n",
    "|------|------------------|--------------|---------------|\n",
    "|FGFA|1|!Smad2_3_4 & !Smad1_4_5_8:2| 0 |\n",
    "|Onecut|1|!(IrxA &#124; Goosecoid &#124; Smad2_3_4)| 0 |\n",
    "\n",
    "\n",
    "**Table 1** : Rules of the logical model used to define the behaviour of each node for each territory. Input nodes (A) do not have any related function as they are initially set to a given fixed value when performing simulations.\n"
   ]
  },
  {
   "cell_type": "markdown",
   "metadata": {},
   "source": [
    "### Attractor identification with bioLQM\n",
    "\n",
    "We can compute all the attractors of the model using either GINsim or bioLQM. \n",
    "Hereafter, we first use the biolqm compliant model version.\n",
    "We can extract the total number of stable states. Fixed points can be visualised on the network, as illustrated for the last stable state below, which show a ventrally defined state."
   ]
  },
  {
   "cell_type": "code",
   "execution_count": null,
   "metadata": {},
   "outputs": [],
   "source": [
    "# Compute the total number of stable states\n",
    "fps = biolqm.fixpoints(lqm2)\n",
    "print(len(fps), \"fixpoints found\")\n"
   ]
  },
  {
   "cell_type": "code",
   "execution_count": null,
   "metadata": {},
   "outputs": [],
   "source": [
    "# Find the wild-type stable state\n",
    "\n",
    "fps_pd = pd.DataFrame(fps)\n",
    "fps_pd = fps_pd.iloc[:,0:9]\n",
    "fps_pd['input_list'] = fps_pd['Nodal_In'].astype(str) + fps_pd['Lefty_In'].astype(str) + fps_pd['Panda'].astype(str) + fps_pd['Bmp2_4_In'].astype(str) + fps_pd['Chordin_In'].astype(str) + fps_pd['Tolloid_In'].astype(str) + fps_pd['Admp1_In'].astype(str) + fps_pd['Admp2_Trans'].astype(str) + fps_pd['Wnt_In'].astype(str)\n",
    "#fps_pd[fps_pd[\"input_list\"] == \"Nod_Lef_Pan_Bmp_Cho_Tol_Admp1_Admp2_Wnt\"].index.values\n",
    "v_index = fps_pd[fps_pd[\"input_list\"] == \"210121100\"].index.values\n",
    "c_index = fps_pd[fps_pd[\"input_list\"] == \"110121000\"].index.values\n",
    "d_index = fps_pd[fps_pd[\"input_list\"] == \"110211000\"].index.values\n",
    "\n",
    "# Ventral stable state\n",
    "ginsim.show(lrg, fps[v_index[0]])\n"
   ]
  },
  {
   "cell_type": "code",
   "execution_count": null,
   "metadata": {},
   "outputs": [],
   "source": [
    "# Ciliary stable state\n",
    "ginsim.show(lrg, fps[c_index[0]])"
   ]
  },
  {
   "cell_type": "code",
   "execution_count": null,
   "metadata": {},
   "outputs": [],
   "source": [
    "# Dorsal stable state\n",
    "ginsim.show(lrg, fps[d_index[0]])\n"
   ]
  },
  {
   "cell_type": "markdown",
   "metadata": {},
   "source": [
    "**Figure 3** : Example of ventral (top), ciliary (middle) and dorsal (bottom) stable state reached with this model. Yellow and white nodes correspond to active and inactive element respectively. Blue and grey arrows correspond to active and inactive regulation respectively."
   ]
  },
  {
   "cell_type": "markdown",
   "metadata": {},
   "source": [
    "### Simulation of wild-type dorso-ventral patterning\n",
    "\n",
    "In addition to computing all the attractors, we also want to apply initial state restriction for the inputs, corresponding to specific state of the three ectoderm territories. This way, we can simulate specific region of the ectorderm in wild type conditions.\n",
    "\n",
    "The first step consists in creating functions to define the state restriction, apply it and compare the result with the expected territory pattern. Then, we use these functions to run simulation on the model, more specifically to extract the fixpoints information.\n",
    "\n",
    "##### Function definition\n",
    "\n",
    "The first part of the code defines functions to help apply intial state and perturbation to the model, and extract fixpoint information."
   ]
  },
  {
   "cell_type": "code",
   "execution_count": null,
   "metadata": {},
   "outputs": [],
   "source": [
    "# Function 1 : dash_pattern (from Céline)\n",
    "# Transforms a dictionary into a dash-like pattern used for space restrictions.\n",
    "# If a model has 4 components A, B, C, D in this order,\n",
    "#  {A:0, D:1} => \"0--1\"\n",
    "def dash_pattern(model, dict_vals):\n",
    "    specific_comps = dict_vals.keys()\n",
    "    str_pattern = \"\"\n",
    "    for comp in model.getComponents():\n",
    "        if comp.toString() in specific_comps:\n",
    "            str_pattern += str(dict_vals.get(comp.toString()))\n",
    "        else :\n",
    "            str_pattern += \"-\"\n",
    "    return(str_pattern)\n",
    "\n",
    "\n",
    "# Function 2 : getPert (from Swann)\n",
    "# Integrate perturbation information with initial state.\n",
    "# As initial state do not allow initial state for a multilevel node at level 2, we define Nodal as a perturbation\n",
    "def getPert(rest_list, nodal_list, pert_list) :\n",
    "    new_rest = {}\n",
    "    # Adapt the initial state of perturbed node (sets it to its perturbation level)\n",
    "    for k in rest_list.keys() :\n",
    "        if k not in pert_list.keys() :\n",
    "            new_rest[k] = rest_list[k]\n",
    "        elif k in pert_list.keys() :\n",
    "            new_rest[k] = pert_list[k]\n",
    "    new_pert = \"\"\n",
    "    # Format the perturbation in the node%level style, add Nodal_In if its not alreay present\n",
    "    for k in pert_list.keys() :\n",
    "        new_pert += \" \" + k + \"%\" + str(pert_list[k])\n",
    "    if \"Nodal_In\" not in pert_list.keys() :\n",
    "        new_pert += \" Nodal_In%\" + str(nodal_list[\"Nodal_In\"])\n",
    "    if \"Chordin_In\" not in pert_list.keys() :\n",
    "        new_pert += \" Chordin_In%\" + str(nodal_list[\"Chordin_In\"])\n",
    "    return(new_rest, new_pert)\n",
    "\n",
    "\n",
    "# Function 3 : getFxp (from Swann)\n",
    "# Format the resulting output from fixpoints search.\n",
    "# In case of multiple possible fixpoints, we store them as new individual keys in a dictionnary. Order is random\n",
    "def getFxp(fixpoints) :\n",
    "    fxp_formated = {}\n",
    "    for territory in fixpoints.keys() :\n",
    "        if len(fixpoints[territory]) == 1 :\n",
    "            fxp_formated[territory] = [fixpoints[territory][0]]\n",
    "        elif len(fixpoints[territory]) == 0 :\n",
    "            fxp_formated[territory] = []\n",
    "        elif len(fixpoints[territory]) > 1 :\n",
    "            fxp_formated[territory] = fixpoints[territory]\n",
    "    return(fxp_formated)\n",
    "\n",
    "# Function 4 : split_multiSS (from Swann)\n",
    "# In case where we find more than one stable state in one of the territory, we create one instance of\n",
    "# simulation result for each different stable state reached\n",
    "def split_multiSS(fxp_res, pert_name) :\n",
    "    num_ss_max = max(len(fxp_res[ter]) for ter in fxp_res.keys())\n",
    "    out_dict = {}\n",
    "    if num_ss_max > 1 :\n",
    "        for step in range(0,num_ss_max) :\n",
    "            out_dict[pert_name + '_ss' + str(step)] = {}\n",
    "            for ter in fxp_res.keys() :\n",
    "                if len(fxp_res[ter])-1 < step :\n",
    "                    item = len(fxp_res[ter])-1\n",
    "                elif len(fxp_res[ter])-1 >= step : \n",
    "                    item = step\n",
    "                out_dict[pert_name + '_ss' + str(step)][ter] = fxp_res[ter][item]\n",
    "    elif num_ss_max == 1 :\n",
    "        out_dict[pert_name] = {}\n",
    "        for ter in fxp_res.keys() :\n",
    "            out_dict[pert_name][ter] = fxp_res[ter][0]\n",
    "    return(out_dict)\n"
   ]
  },
  {
   "cell_type": "markdown",
   "metadata": {},
   "source": [
    "##### Wild-type simulation\n",
    "\n",
    "Now that we have our helper functions defined, we simulate the model in wild-type condition regarding the initial state and display the result obtained. We perform one simulation for each of the three presumtive territories independently, as they have different initial state requirements."
   ]
  },
  {
   "cell_type": "code",
   "execution_count": null,
   "metadata": {},
   "outputs": [],
   "source": [
    "## Define the wild type initial state conditions for the inputs in the three territories\n",
    "# Univin is also fixed at 1 to avoid simulating events where Univin level reaches 0\n",
    "inputs_state = { \"ventral\" : {\"Lefty_In\":1, \"Bmp2_4_In\":1 , \"Admp1_In\" : 1, \"Wnt_In\" : 0, \"Panda\" : 0, \"Tolloid_In\" : 1, \"Univin\" : 1, 'Admp2_Trans' : 1} , \n",
    "                 \"ciliary\" : {\"Lefty_In\":1, \"Bmp2_4_In\":1 , \"Admp1_In\" : 1, \"Wnt_In\" : 0, \"Panda\" : 0, \"Tolloid_In\" : 1, \"Univin\" : 1, 'Admp2_Trans' : 1} ,\n",
    "                 \"dorsal\" : {\"Lefty_In\":1, \"Bmp2_4_In\":1 , \"Admp1_In\" : 1, \"Wnt_In\" : 0, \"Panda\" : 0, \"Tolloid_In\" : 1, \"Univin\" : 1, 'Admp2_Trans' : 1}}\n",
    "core_vals = {}\n",
    "\n",
    "# Define the wild type initial state conditions for Nodal input in the three territories\n",
    "nodal_state = {\"ventral\" : {\"Nodal_In\" : 2, \"Chordin_In\" : 2},\n",
    "               \"ciliary\" : {\"Nodal_In\" : 1, \"Chordin_In\" : 2},\n",
    "               \"dorsal\" : {\"Nodal_In\" : 1, \"Chordin_In\" : 1}}\n",
    "\n",
    "# Merge dict for figure\n",
    "import copy\n",
    "fig_inputs = copy.deepcopy(inputs_state)\n",
    "for mykey in fig_inputs.keys() :\n",
    "    fig_inputs[mykey].update(nodal_state[mykey])\n",
    "pd.DataFrame(fig_inputs)   \n"
   ]
  },
  {
   "cell_type": "markdown",
   "metadata": {},
   "source": [
    "**Table 2** : Activity levels of all the input nodes, defined for the simulation in wild type condition for each of the three ectoderm regions."
   ]
  },
  {
   "cell_type": "code",
   "execution_count": null,
   "metadata": {},
   "outputs": [],
   "source": [
    "# Using the function and the initial state condition,\n",
    "# we compute fixpoints of the model for the three wild type territories\n",
    "fixpoints = {}\n",
    "for territory in inputs_state.keys() :\n",
    "    # Generate the pattern and perturbation to apply\n",
    "    ter_rest, ter_pert = getPert(inputs_state[territory],  nodal_state[territory], {})\n",
    "    pattern = dash_pattern(lqm2, {**ter_rest, **core_vals})\n",
    "    # Apply pattern and perturbation to the model\n",
    "    model_mod = biolqm.perturbation(biolqm.restrict(lqm2, pattern), ter_pert)\n",
    "    # Compute fixpoints and store it in a dictionnary\n",
    "    fixpoints[territory] = biolqm.fixpoints(model_mod)    \n",
    "    print(\"Finding\", len(fixpoints[territory]),\"stable state(s) for\", territory, 'territory.')\n",
    "\n",
    "# We apply the function to our wild type simualtion and use it to plot the expression level of all nodes.\n",
    "wild_type = getFxp(fixpoints)\n",
    "wild_type = split_multiSS(wild_type, 'Wild_type')['Wild_type']\n",
    "wt_fxp  = pd.DataFrame(wild_type)\n",
    "plt.figure(figsize=(15, 6))\n",
    "sns.clustermap(wt_fxp.dropna(0),  metric='euclidean', col_cluster=False, yticklabels=True, cmap='YlOrRd')"
   ]
  },
  {
   "cell_type": "markdown",
   "metadata": {},
   "source": [
    "**Figure 4** : Heatmap of the stable states obtained for the wild-type simulation with the unicelluler logical model for each of the three ectodermal territories. Color scale corresponds to the state of each node (multilevel nodes can reach up to level 2). White region defines nodes which state do not impact the stable state of interest.\n",
    "\n",
    "The computation of fixpoints in wild type conditions result in one fixpoint for each territory. According to the litterature, these fixpoints correspond to our expectation. Indeed according to the output being present, the Nodal cascade in expressed in the ventral region, the Bmp2_4 cascade is expressed in the dorsal region and the ciliary band desn't show any of them as they are both repressed in this last region.\n",
    "\n",
    "In order to formalise this conclusion, we have built a function to compare a given fixpoint with the pattern obtained in the wild type based on the output nodes, consistent with the experimental results from *in-situ* expreiments. Note that we exclude Admp1 from the comparison, as this node is expressed in ventral but disapears in condition of overexpression of Nodal.\n",
    "\n",
    "The code below translate the list of active and inactive nodes obtained from the simulations into the appropriate pattern definition. As an example, if the simulation gives as output only the nodes from the ventral region being active, then we considered that such event result in a ventrally defined ectoderm region."
   ]
  },
  {
   "cell_type": "code",
   "execution_count": null,
   "metadata": {},
   "outputs": [],
   "source": [
    "# We create a dictionnay to store the output nodes present in the wild type\n",
    "# for each simulated territory condition\n",
    "expected_output = {}\n",
    "output_to_match = ['Bmp2_4','Brachyury','Chordin','FGFA','FoxA','Glypican5','Goosecoid','IrxA','Lefty','Nodal','Onecut','Repressor_R1','Smad6','Tbx2_3']\n",
    "\n",
    "for T in wild_type.keys() :\n",
    "    expected_output[T] = [n for n in wild_type[T].keys() if wild_type[T][n] > 0 and n in output_to_match]\n",
    "\n",
    "# Function 3 : which_territory (from Swann)\n",
    "# Based on a dictionnary with fixpoints for the three condition, it will compare these fixpoints\n",
    "# with the one obtained in the wild type and define from which region this fixpoints belong.\n",
    "def which_territory(name, state_dict, expected_dict, output_list):\n",
    "    output_dict = {}\n",
    "    for ter in state_dict.keys() :\n",
    "        # Extract output nodes present\n",
    "        checked_state = [n for n in state_dict[ter].keys() if state_dict[ter][n] > 0 and n in output_list]\n",
    "        output_dict[ter] = 'unknown'\n",
    "        # Compare with the wild type pattern (the list must be perfectly similar)\n",
    "        for ns in expected_dict.keys() :\n",
    "            if all(node in expected_dict[ns] for node in checked_state)  and all(node in checked_state for node in expected_dict[ns]) :\n",
    "                output_dict[ter] = ns\n",
    "    return({ name : output_dict})\n",
    "\n",
    "# Apply the function to compare with wild type pattern\n",
    "# Plot the fixpoints obtained in a color scheme along the dorsal-ventral axis.\n",
    "# In all the figures, the color code is the following : ventral : blue, ciliary : pink, dorsal : green.\n",
    "fig, (ax1) = plt.subplots(1,1, figsize=(15,1))\n",
    "# Plot color scheme\n",
    "wt_res = which_territory(\"Wild_Type\" ,wild_type, expected_output, output_to_match)\n",
    "wt_res = pd.DataFrame(wt_res)\n",
    "wt_res = wt_res.replace({'Wild_Type' : { 'ventral' : 1, 'ciliary' : 2, 'dorsal' : 3 , 'unknown' : 0}}).transpose()\n",
    "mycmap = mpl.colors.LinearSegmentedColormap.from_list(\"\", ['lightblue',\"pink\",\"lightgreen\"], N = 3)\n",
    "sns.heatmap(wt_res.loc[:,['ventral','ciliary','dorsal']].apply(pd.to_numeric), cmap=mycmap, ax=ax1)\n"
   ]
  },
  {
   "cell_type": "markdown",
   "metadata": {},
   "source": [
    "**Figure 5** : Result of the wild type simulations of the logical model along the dorso-ventral axis compared to the expected ectodermal territory patterns. Ventral, ciliary and dorsal territories are represented in blue, pink and green color respectively."
   ]
  },
  {
   "cell_type": "markdown",
   "metadata": {},
   "source": [
    "This code detects the specified pattern based on stable states values. We can use it on the list of total detected stable states, obtained from biolqm. This way, we can extract the number of stable states corresponding to each ectoderm territory."
   ]
  },
  {
   "cell_type": "code",
   "execution_count": null,
   "metadata": {},
   "outputs": [],
   "source": [
    "# fps is the variable storing the result from bioloqm (see section Attractor identification with bioLQM)\n",
    "\n",
    "# Load fps as dictionnary and compare stable states with wild-type pattern\n",
    "dict_fps = { i : fps[i] for i in range(0, len(fps) ) }\n",
    "wt_res = which_territory(\"Wild_Type\" ,dict_fps, expected_output, output_to_match)\n",
    "\n",
    "# Count the number of stable states mirroring each D-V pattern.\n",
    "count_ss = Counter(wt_res['Wild_Type'].values())\n",
    "print(\"Among the stable states obtained, we found :\\n\" + \"\\n\".join(\"{!r} {!r} stable states\".format(v, k) for k, v in count_ss.items()))"
   ]
  },
  {
   "cell_type": "markdown",
   "metadata": {},
   "source": [
    "### Perturbations analysis\n",
    "\n",
    "Lepage's lab has performed a vast collection of perturbation experiments using morpholino and mRNA injection followed by *in-situ* hybridization. Based on this information, we aim to recapitulate the results observed in vivo by simulating perturbation experiments on our model and compute the fixpoints to test wether they are characteristic of one of the three territory patterns and wether they match the expected pertubation pattern observed in the *in-situ* experiments along the dorso-ventral axis.\n",
    "\n",
    "We have used the same functions as for the wild type simulation for each set of conditions defining a given perturbation."
   ]
  },
  {
   "cell_type": "code",
   "execution_count": null,
   "metadata": {},
   "outputs": [],
   "source": [
    "# Define all the pertubations to simluate by the list of perturbed node to which a fixed value is assigned.\n",
    "input_perturbation = {'nodalE' : {\"ventral\" : {\"Nodal_In\" :3, \"Bmp2_4_In\" : 2},\n",
    "                                  \"ciliary\" : {\"Nodal_In\" : 3, \"Bmp2_4_In\" : 2},\n",
    "                                  \"dorsal\" : {\"Nodal_In\" : 3, \"Bmp2_4_In\" : 2, \"Chordin_In\" :2}},                      \n",
    "                      'nodalKO' : {\"ventral\" : {\"Nodal_In\" : 0, \"Lefty_In\" : 0, \"Bmp2_4_In\" : 0},\n",
    "                                   \"ciliary\" : {\"Nodal_In\" : 0, \"Lefty_In\" : 0, \"Bmp2_4_In\" : 0},\n",
    "                                   \"dorsal\" : {\"Nodal_In\" : 0, \"Lefty_In\" : 0, \"Bmp2_4_In\" : 0}},\n",
    "                      'leftyE' : {\"ventral\" : {\"Nodal_In\" : 0, \"Bmp2_4_In\" : 0, \"Lefty_In\" : 1},\n",
    "                                  \"ciliary\" : {\"Nodal_In\" : 0, \"Bmp2_4_In\" : 0, \"Lefty_In\" : 1},\n",
    "                                  \"dorsal\" : {\"Nodal_In\" : 0, \"Bmp2_4_In\" : 0, \"Lefty_In\" : 1}},\n",
    "                      'leftyKO' : {\"ventral\" : {\"Lefty_In\" : 0, \"Bmp2_4_In\" : 0},\n",
    "                                  \"ciliary\" : {\"Lefty_In\" : 0, \"Bmp2_4_In\" : 0},\n",
    "                                  \"dorsal\" : {\"Lefty_In\" : 0, \"Bmp2_4_In\" : 0}},\n",
    "                      'bmp24E' : {\"ventral\" : {\"Bmp2_4_In\" : 2},\n",
    "                                  \"ciliary\" : {\"Bmp2_4_In\" : 2},\n",
    "                                  \"dorsal\" : {\"Bmp2_4_In\" : 2}},\n",
    "                      'bmp24KO' : {\"ventral\" : {\"Bmp2_4_In\" : 0},\n",
    "                                  \"ciliary\" : {\"Bmp2_4_In\" : 0},\n",
    "                                  \"dorsal\" : {\"Bmp2_4_In\" : 0}},\n",
    "                      'bmp24_KO_panda_KO' : {\"ventral\" : {\"Bmp2_4_In\" : 0},\n",
    "                                  \"ciliary\" : {\"Bmp2_4_In\" : 0, \"Nodal_In\" :2},\n",
    "                                  \"dorsal\" : {\"Bmp2_4_In\" : 0, \"Nodal_In\" : 2}},\n",
    "                      'chordinE' : {\"ventral\" : {\"Chordin_In\" : 2},\n",
    "                                  \"ciliary\" : {\"Chordin_In\" : 2},\n",
    "                                  \"dorsal\" : {\"Chordin_In\" : 2}},\n",
    "                      'chordinKO' : {\"ventral\" : {\"Chordin_In\" : 0},\n",
    "                                  \"ciliary\" : {\"Chordin_In\" : 0},\n",
    "                                  \"dorsal\" : {\"Chordin_In\" : 0}}\n",
    "                     }\n",
    "\n",
    "pd.DataFrame(input_perturbation)\n",
    "\n"
   ]
  },
  {
   "cell_type": "markdown",
   "metadata": {},
   "source": [
    "**Table 2** : List of the perturbation applied to the model in each region in order to resume the injection of mRNA and morpholinos in the KO and Gain-of-function experiments. Some pertubation involve more than one fixed state as some perturbation involve downstream elements through diffusion mecanisms, which cannot be directly defined inside an unicellular model. For example, an overexpression of Nodal lead to an overexpression of BMP2_4 which will be reported in the dorsal input node Bmp2_4_In."
   ]
  },
  {
   "cell_type": "code",
   "execution_count": null,
   "metadata": {
    "scrolled": false
   },
   "outputs": [],
   "source": [
    "# For each perturbation, apply the perturbation to the model, compute the fixpoint and compare them to wild type.\n",
    "all_pert = {}\n",
    "all_fxp = {}\n",
    "for pert in input_perturbation.keys() :\n",
    "    pert_fxp = {}\n",
    "    for territory in inputs_state.keys() :\n",
    "        # Define and apply perturbation\n",
    "        ter_rest, ter_pert = getPert(inputs_state[territory], nodal_state[territory], input_perturbation[pert][territory])\n",
    "        pattern = dash_pattern(lqm2, {**ter_rest, **core_vals})\n",
    "        model_mod = biolqm.perturbation(biolqm.restrict(lqm2, pattern), ter_pert)\n",
    "        # Compute fixpoints\n",
    "        pert_fxp[territory] = biolqm.fixpoints(model_mod)\n",
    "    # Format and compare to wild type patterns\n",
    "    pert_res = getFxp(pert_fxp)\n",
    "    pert_res = split_multiSS(pert_res, pert)\n",
    "    for single_pert in pert_res.keys() :\n",
    "        all_fxp[single_pert] = pert_res[single_pert]\n",
    "        single_pert_res = which_territory(single_pert , pert_res[single_pert], expected_output, output_to_match)\n",
    "        all_pert = {**all_pert, **single_pert_res}\n",
    "\n",
    "# Plot the result as a color code scheme and heatmap for individual nodes\n",
    "# Reshape dictionnary for plotting as heatmap\n",
    "levelfxp = pd.DataFrame.from_dict({(i,j): all_fxp[i][j] \n",
    "                           for i in all_fxp.keys() \n",
    "                           for j in all_fxp[i].keys()},\n",
    "                       orient='index')\n",
    "\n",
    "fig, (ax1) = plt.subplots(1,1, figsize=(15,5))\n",
    "all_res = pd.DataFrame(all_pert).transpose()\n",
    "all_res = all_res.applymap(lambda v: { 'ventral' : 1, 'ciliary' : 2, 'dorsal' : 3, 'unknown' : 4}.get(v,0))\n",
    "mycmap = mpl.colors.LinearSegmentedColormap.from_list(\"\", ['white','lightblue',\"pink\",\"lightgreen\",\"lightyellow\"], N = 5)\n",
    "lalabel = [n for n in all_res.columns if re.match('ventral\\w*',n)] + [n for n in all_res.columns if re.match('ciliary\\w*',n)] + [n for n in all_res.columns if re.match('dorsal\\w*',n)]\n",
    "colgraph = sns.heatmap(all_res.loc[:,lalabel], cmap=mycmap, vmin=0, vmax=5, ax = ax1)\n",
    "colgraph.hlines(range(0,len(all_res.index)), *colgraph.get_xlim())\n",
    "plt.show()"
   ]
  },
  {
   "cell_type": "markdown",
   "metadata": {},
   "source": [
    "**Figure 6** : Result of the perturbation simulations of the logical model along the dorso-ventral axis compared to the expected ectodermal territory patterns. Ventral, ciliary, dorsal and undefined territories are represented in blue, pink, green and yellow color respectively. The chordin_KO mutant has two different output, has its ventral region can reach two possible stable states (ventral and dorsal).\n",
    "\n",
    "Comparing the simulation to the experimental result, we note that a large majority of the perturbations agree with the *in-situ* patterns. For example, the gain-of-function of Nodal results in a fully ventralised ectoderm as expected.\n",
    "\n",
    "One discrepancy comes from the simulation of chordinKO mutant. Indeed, the simulation of the logical model predicts that two possible stable states can be reached in the presumptive ventral region, namely ventral and dorsal territories. According to the *in-situ* experiments, such mutant exclusively displays a weak dorsal pattern in the ventral region, arguing against the possibility to reach a ventral pattern.\n",
    "\n",
    "### Stochastic analysis\n",
    "\n",
    "To further explore this result, we use of the software MaBoss to perform stochastic simulation of the temporal behavior of the model using Markov chains. Such tool will help us overcome to limit of boolean modelling.\n",
    "\n",
    "Indeed, the dorsal pattern observed is relatively weak and could be the result of the co-activation of both the ventral and dorsal cascades, each one partially inhibiting the other. As the logical formalism can only predict binary outputs, gradual and weak interactions mecanisms are part of the possible limitations of such modelling strategies, although the resulting groups of stable states predicted as reachable give us usefull insights about the potential ongoing regulatory cascades governing this precise territory specification.\n",
    "\n",
    "The stochastic simulation will help us to compare how the two stable states are reached in the ventral region of the chordin KO mutant and assess wether one of them is favoured in term of temporal dynamic. In the following code, we simulate the temporal trajectory of the ventral territory in wild type and in chordin_KO conditions.\n"
   ]
  },
  {
   "cell_type": "code",
   "execution_count": null,
   "metadata": {
    "scrolled": false
   },
   "outputs": [],
   "source": [
    "# Import the model in MaBoss compliant model and set simulation time step limit\n",
    "master_simulation = ginsim.to_maboss(lrg)\n",
    "master_simulation.update_parameters(time_tick=0.1, max_time=15)\n",
    "\n",
    "# Set the node to be seen as output, for clarity, we select one output node from each of the three territory\n",
    "# Goosecoid = Ventral ; Onecut = Ciliary ; IrxA = Dorsal\n",
    "# Set the input node values for ventral initial state (note : mulitlevel node value are set for each individual level) and run model\n",
    "maboss.set_output(master_simulation, [\"Goosecoid\", \"Onecut\", \"IrxA\"])\n",
    "master_simulation_on = maboss.copy_and_mutate(master_simulation, [\"Nodal_In_b1\", \"Nodal_In_b2\",\"Lefty_In\",\"Bmp2_4_In_b1\",\"Admp1_In\",\"Chordin_In_b1\", \"Chordin_In_b2\", \"Tolloid_In\"], \"ON\")\n",
    "master_simulation_off = maboss.copy_and_mutate(master_simulation_on, [\"Bmp2_4_In_b2\",\"Wnt_In\",\"Panda\",\"Admp2_Trans\"], \"OFF\")\n",
    "master_results = master_simulation_off.run()\n",
    "master_results.plot_trajectory()\n",
    "plt.savefig('maboss_wt_traj.svg', dpi=300, orientation='landscape')\n",
    "master_results.plot_piechart()\n",
    "plt.savefig('maboss_wt_perc.svg', dpi=300, orientation='landscape')"
   ]
  },
  {
   "cell_type": "markdown",
   "metadata": {},
   "source": [
    "**Figure 7a** : Results of the stochastic temporal simulation for the ventral territory in wild type condition. X axis represents time, Y axis represents the proportion of each possible states of the output nodes combinaisons.\n",
    "\n",
    "We see that the wild-type ventral simulation starts with an undefined pattern where the ciliary nodes Onecut activation first increases (Onecut tends to a value of 1 in absence of repression). In a second time, the ventral cascade activation progresses until it starts repressing the expression of Onecut. Then, as finally expected, we see a decrease in the activation of the ciliary nodes (e.g. Onecut) now inhibited by the ventral cascade and also an increase and stabilisation of the active state of the ventral cascade and its output nodes (e.g. Goosecoid).\n"
   ]
  },
  {
   "cell_type": "code",
   "execution_count": null,
   "metadata": {},
   "outputs": [],
   "source": [
    "# Create a mutant simulation by turning OFF the Chordin_In node and rerun simulation\n",
    "mutant_simulation_on = maboss.copy_and_mutate(master_simulation, [\"Nodal_In_b1\", \"Nodal_In_b2\",\"Lefty_In\",\"Bmp2_4_In_b1\",\"Admp1_In\",\"Tolloid_In\"], \"ON\")\n",
    "mutant_simulation = maboss.copy_and_mutate(mutant_simulation_on, [\"Chordin_In_b1\",\"Chordin_In_b2\",\"Bmp2_4_In_b2\",\"Wnt_In\",\"Panda\"], \"OFF\")\n",
    "mutant_res = mutant_simulation.run()\n",
    "mutant_res.plot_trajectory()\n",
    "plt.savefig('maboss_mut_traj.svg', dpi=300, orientation='landscape')\n",
    "mutant_res.plot_piechart()\n",
    "plt.savefig('maboss_mut_pie.svg', dpi=300, orientation='landscape')"
   ]
  },
  {
   "cell_type": "markdown",
   "metadata": {},
   "source": [
    "**Figure 7b** : Results of the stochastic temporal simulation for the ventral territory in chordin KO condition. X axis represents time, Y axis represents the proportion of each possible states of the output nodes combinaisons.\n",
    "\n",
    "In the chordin KO simulation however, we see a mixture of two states, one with only Goosecoid being active and the other one with only IrxA being active. Such result would be in agreement with the hypothesis that both the dorsal and ventral cascades are activated in this condition. This would suggest that the observed dorsal weak patterning from the *in-situ* experiments in the ventral territory of the chordin KO mutants results from this co-activation and mutual inhibition of the ventral and the dorsal cascade. In addition, we see that the state with the dorsal marker IrxA being active is representing a higher proportion of the simulation output states, again agreeing with the experimental results describing a weak dorsal pattern.\n",
    "\n",
    "In order to explore further how such difference in proportion can emerge from these simulations, we modify the probability condition of the key point of the model where the divergence between the ventral and the dorsal specification happens, namely the activation of the ventral and dorsal Smads. Indeed, the activation of a smad leads at the same time to the activation of its own cascade and the to the inhibition of the other competiting smad cascade. This behavior comes from the competition for the Smad4, which recruitement is needed by both cascades.\n",
    "\n",
    "![alt text](images/chordin_ko_htg.png \"Sea urchin development\")\n",
    "\n",
    "**Figure 8** : Hierarchical Transition Graph showing the irreversible states sub-groups reached in the simulation of the chordin_KO ventral region. As before, we note that two possible stable states (i.e. ventral and dorsal) can be reached. The key point of divergence between the two stable states depends on the Smad being activated first. Once a Smad activated, the system is locked and the simulation progress irreversibly toward the corresponding cascade.\n",
    "\n",
    "As shown in the figure above, we can pinpoint the irreversible divergence point toward either ventral or dorsal specification when one of the two smad groups is activated, as it leads to the maintainance of the competititng Smad in a \"Off\" state and the further activation of its own regulatory cascade.\n",
    "\n",
    "The code below explores the temporal behavior change when the propensity to activate one cascade varies against or in favor of other."
   ]
  },
  {
   "cell_type": "code",
   "execution_count": null,
   "metadata": {},
   "outputs": [],
   "source": [
    "# Change the rate of activation and inhibtion of the chordin_KO ventral region simulation\n",
    "# Increase dorsal Smad activation probability and decrease ventral Smad activation probability\n",
    "mutant_simulation.network['Smad2_3_4_b1'].set_rate('0.75','0.25')\n",
    "mutant_simulation.network['Smad1_4_5_8_b1'].set_rate('0.25','0.75')\n",
    "mutant_res = mutant_simulation.run()\n",
    "mutant_res.plot_trajectory()\n",
    "plt.savefig('maboss_mutfast_traj.svg', dpi=300, orientation='landscape')\n",
    "mutant_res.plot_piechart()\n",
    "plt.savefig('maboss_mutfast_pie.svg', dpi=300, orientation='landscape')\n",
    "\n",
    "# Increase ventral Smad activation probability and decrease dorsal Smad activation probability\n",
    "mutant_simulation.network['Smad2_3_4_b1'].set_rate('0.25','0.75')\n",
    "mutant_simulation.network['Smad1_4_5_8_b1'].set_rate('0.75','0.25')\n",
    "mutant_res = mutant_simulation.run()\n",
    "mutant_res.plot_trajectory()\n",
    "plt.savefig('maboss_mutslow_traj.svg', dpi=300, orientation='landscape')\n",
    "mutant_res.plot_piechart()\n",
    "plt.savefig('maboss_mutslow_pie.svg', dpi=300, orientation='landscape')"
   ]
  },
  {
   "cell_type": "markdown",
   "metadata": {},
   "source": [
    "**Figure 9** : Results of the stochastic temporal simulation for the ventral territory in chordin_KO condition with higher probability of activation for the Smad of the ventral cascade (top) or the Smad of the dorsal cascade (bottom). X axis represents time, Y axis represents the proportion of each possible states of the output nodes combinaisons.\n",
    "\n",
    "In this simualtion, we see a change in the proportion of ventrally-defined and dorsally-defined states at the end of the simulation when we vary the dorsal and ventral Smad activation priority. In the case where we favor the activation of the dorsal Smad, the proportion of dorsally-specified output state increases above 80%, compared to the initial mutant simulation (Fig7) where the final dorsal state fraction represents approximatelty 70%.\n",
    "\n",
    "However, the impact is even more important when we favor the activation of the ventral Smad. In this case, the major fraction of final output state is ventrally defined with 60% of the states showing expression of the ventral node Goosecoid. If such a similar experiment was performed *in vivo*, the model would predict that the ventral region of the chordin KO mutant would display a weak ventral pattern.\n",
    "\n",
    "Finally, such results imply that in the ventral territory of the Chordin KO mutant, the key factor which leads to a dorsally-defined pattern observed in *in-situ* experiments is the temporal behavior of the system. Indeed, the stochastic simulation show that the activation of the dorsal Smad tends to be more frequent than the activation of the ventral Smad, therefore leading to a region mostly dominated by dorsal patterning with the underlying presence of a weak inhibitory action of the remaining ventral cascade."
   ]
  },
  {
   "cell_type": "markdown",
   "metadata": {},
   "source": [
    "### Conclusion\n",
    "\n",
    "Within this notebook, we have :\n",
    "\n",
    "- Used the bioLQM, GINsim and Pint packages to load and explore the model in a static manner.\n",
    "- Performed dynamic simulation of the wild type states for each of the three ectoderm patterns.\n",
    "- Performed dynamic simulation of the 8 mutants for each of the three ectoderm patterns for a total of 24 individual simulations.\n",
    "- Systematically compared the simulation predictions with the expected result from *in-situ* experiment and wild-type simulations. \n",
    "- Explored the prediction results in light of the experimental evidences.\n",
    "- Used MaBoss to compute stochastic temporal behavior of the mutant in conflict with the model prediction.\n",
    "- Explored several rate transition levels of the Smad cascade to understand the assymetrical propensity of the two stable states observed in the simulation."
   ]
  }
 ],
 "metadata": {
  "kernelspec": {
   "display_name": "Python 3",
   "language": "python",
   "name": "python3"
  },
  "language_info": {
   "codemirror_mode": {
    "name": "ipython",
    "version": 3
   },
   "file_extension": ".py",
   "mimetype": "text/x-python",
   "name": "python",
   "nbconvert_exporter": "python",
   "pygments_lexer": "ipython3",
   "version": "3.9.1"
  }
 },
 "nbformat": 4,
 "nbformat_minor": 2
}
